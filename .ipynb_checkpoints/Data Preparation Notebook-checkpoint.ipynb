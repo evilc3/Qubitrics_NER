{
 "cells": [
  {
   "cell_type": "markdown",
   "metadata": {},
   "source": [
    "# The aim  of the notebook is to clean, process the data to train a model on the name entity recognization task.\n",
    "\n",
    "In this notebook, we are going to prepare a dataset which can be used to train a name entity recognization model on the ICDAR 2019 Robust Reading Challenge. The challenge is divided into three sections. \n",
    "\n",
    "Task 1 : Scanned Receipt Text Localisation\n",
    "\n",
    "Task 2 : SCanned Receipt OCR \n",
    "\n",
    "`Task 3 : NER`  \n",
    "\n",
    "\n",
    "More about task 3 from the website. \n",
    "\n",
    "Task 3 - Key Information Extraction from Scanned Receipts\n",
    "Task Description\n",
    "\n",
    "This task aims to extract texts of several key fields from given receipts and save the texts for each receipt image in a JSON file with the format shown in Figure 3. Participants will be asked to submit a zip file containing results for all test invoice images. \n",
    "\n",
    "\n",
    "\n",
    "## Sections \n",
    "\n",
    "### 1. Downloading the data and Getting the training and  testing files.\n",
    "\n",
    "The dataset is downloaded from this link : https://rrc.cvc.uab.es/?ch=13&com=downloads.\n",
    "Note the authors of the dataset have not provided any separate dataset for task 3 like task 1 and task 2. The dataset has to be created using the dataset provided for task 1 and task 2.  \n",
    "\n",
    "Once the data has been downloaded there will be four folders two containing training data and the rest testing. \n",
    "\n",
    "1. 0325updated.task1train(626p) : input trainnig data.\n",
    "2. 0325updated.task2train(626p)  : ground truths  data.\n",
    "3. task3-testï¼ˆ347p) : ids of test data\n",
    "4. text.task1_2-testï¼ˆ361p) : test data input files. \n",
    "\n",
    "\n",
    "The test data for task 3 is present in the task3-text347) which contains 347 images, but the input of a ner model is not an image but text data so the **real test data  (text) is present in the test.task1&2test(361).** Hence the extra samples will have to be filtered out. Each file has a unique name which can be used as a unique id.\n",
    "\n",
    "\n",
    "Preparing  train and test data \n",
    "\n",
    "1. `Training data:` \n",
    "   The training dataset is present in the 0325updated.task1train(626p) and 0325updated.task2train(626p) folder the first thing to do is ***extract only the common files from the two folders there are many duplicates .txt files.***\n",
    "2. `Testing Data :`\n",
    "    The testing dataset is present in the task3-testï¼ˆ347p) and text.task1_2-testï¼ˆ361p) folder from the _ folder we only get the names of files (347 files) present in the test set the text data comes from the text.task1_2-testï¼ˆ361p) folder. \n",
    "\n",
    "\n",
    "\n",
    "## 2. Building Our Vocab \n",
    "The ground truth data only has `upper case letters` hence our output will always be uppercase. On checking the training data very only one file has lower case letter in the train set and 2 files in the test. When processing the data we can upper case these files. A few files also have special chars which  [Â,·,£,¬] will treat them as out of vocab words. \n",
    "\n",
    "\n",
    "**Hence our vocab will consist of upper case letters,punctuation,digits plus space.**\n",
    "\n",
    "\n",
    "\n",
    "## 3. Preparing Model input and output. \n",
    "\n",
    "This step is very important and must be performed correctly as the model's performance depends on the data it trains on. \n",
    "\n",
    "\n",
    "**Input data.** The input data is present in the 0325updated.task1train(626p) folder in the form of .txt files. The files are mixed with coordinates as these files are used as ground truths for task 1 localization problem. We will need to filter out these coordinates. This is done in the `getText()` function \n",
    "\n",
    "**Target Data**\n",
    "In the ground truth .txt files we can see JSON or python dict like structures contain 4 fields [company, address, phone, date].There will be the 4 classes we are trying to predict. + will need to include other class. \n",
    "\n",
    "\n",
    "\n",
    "The output of our model will be numeric hence will need to encode these classes. \n",
    "\n",
    "`labels dict : {'company':1,'address':2,'date':3,'total':4}`\n",
    "\n",
    "`inv_labels_dict :  {1:'company',2:'address',3:'date',4:'total'}`\n",
    "\n",
    "\n",
    "\n",
    "\n",
    "Finally, the most important step is creating the labels. What the ground truth provided to us cant be used directly as for named entity recognization. The model will have a predict an entity for each token (word) or in our case character. \n",
    "\n",
    "\n",
    "***I have decided to go for character classification the reason for this is the vocab. With character level classification our model can handle new text better than word-level it becomes more robust towards handling out of vocab words. As the vocab is limited to 26 upper, punctuation and digits.***\n",
    "\n",
    "\n",
    "The labels are prepared by the get_labels() method. \n",
    "\n",
    "\n",
    "## 4 Correction  \n",
    "This is the most important part of this notebook and it took me almost 1 day. \n",
    "For the `get_labels()` function to work correctly the output labels from the ground, truth files must be present exactly in the same order word to word otherwise our model would be learning the wrong things. There are some annotations mistakes in the dataset and this has also been mentioned on the ICDAR website. To make the correction process a bit easy the corrections were made separately per field. Before the corrections lets look at the mistakes \n",
    "\n",
    "1. Total: For this field, there was only one error.  In one ground truth file 7838.80 instead of 7,838.80 [click here](#total) \n",
    "2. Date: 4 errors, the gt had wrong data format more details can be seen in the date correction section. [click here](#date)\n",
    "3. Company: 18 errors, all these errors were removed manually there were mostly spelling errors and extra spaces. [click here](#company)\n",
    "4. Address: 134 errors, To solve this a simple correction algorithm has developed,[more details can be found here.](#address)\n",
    "\n",
    "\n",
    "# 5 Creating pickle files\n",
    "\n",
    "In the end, all the files were saved as pickle files in the data `dict folder`.\n",
    "**Structure** :  `{'file_name' : ('textdata',labels), 'file_name2' : ('textdata2,labels2), ...... 'file_name_n' : ('textdata_N,labels_N)}`\n",
    "\n",
    "The file names are used as dict keys as they are unique. \n",
    "\n",
    "\n",
    "File Names: \n",
    "1. training data : train_corrected_data_dict. \n",
    "2. testing data : test_data_dict\n",
    "\n",
    "\n",
    "\n",
    "\n",
    "\n"
   ]
  },
  {
   "cell_type": "markdown",
   "metadata": {},
   "source": [
    "# 1. Getting the Training and Testing files"
   ]
  },
  {
   "cell_type": "code",
   "execution_count": 8,
   "metadata": {},
   "outputs": [],
   "source": [
    "import torch \n",
    "import os \n",
    "import pandas as pd \n",
    "import numpy as np\n",
    "import json\n",
    "from tqdm import tqdm\n",
    "import pickle as pk \n",
    "from torch.utils.data import Dataset\n",
    "import random\n",
    "from string import punctuation,digits,ascii_uppercase\n",
    "import re\n",
    "\n",
    "\n",
    "\n",
    "VOCAB = punctuation + digits + ascii_uppercase + \" \" \n",
    "\n",
    "labels = {'company':1,'address':2,'date':3,'total':4}\n",
    "inv_labels = {1:'company',2:'address',3:'date',4:'total'}"
   ]
  },
  {
   "cell_type": "code",
   "execution_count": 2,
   "metadata": {},
   "outputs": [
    {
     "data": {
      "text/plain": [
       "'!\"#$%&\\'()*+,-./:;<=>?@[\\\\]^_`{|}~0123456789ABCDEFGHIJKLMNOPQRSTUVWXYZ '"
      ]
     },
     "execution_count": 2,
     "metadata": {},
     "output_type": "execute_result"
    }
   ],
   "source": [
    "VOCAB"
   ]
  },
  {
   "cell_type": "code",
   "execution_count": 9,
   "metadata": {},
   "outputs": [
    {
     "name": "stdout",
     "output_type": "stream",
     "text": [
      "0325updated.task1train(626p)\n",
      "0325updated.task2train(626p)\n",
      "task3-testï¼ˆ347p)\n",
      "text.task1_2-testï¼ˆ361p)\n"
     ]
    }
   ],
   "source": [
    "!ls ICDAR_2019_task3_data"
   ]
  },
  {
   "cell_type": "markdown",
   "metadata": {},
   "source": [
    "# Training Data\n",
    "\n",
    "The input data comes  from the `'ICDAR_2019_task3_data/0325updated.task1train(626p)'`  .txt files and the ground truths  from the `'ICDAR_2019_task3_data/0325updated.task2train(626p)'`. \n",
    "\n",
    "But first will need to remove the redundant entries "
   ]
  },
  {
   "cell_type": "markdown",
   "metadata": {},
   "source": [
    "### Image files"
   ]
  },
  {
   "cell_type": "code",
   "execution_count": 10,
   "metadata": {},
   "outputs": [],
   "source": [
    "## all jpg images. \n",
    "train_jpg = [file.split('.')[0] for file in os.listdir('ICDAR_2019_task3_data/0325updated.task1train(626p)') if '.jpg' in file]"
   ]
  },
  {
   "cell_type": "code",
   "execution_count": 11,
   "metadata": {},
   "outputs": [
    {
     "data": {
      "text/plain": [
       "712"
      ]
     },
     "execution_count": 11,
     "metadata": {},
     "output_type": "execute_result"
    }
   ],
   "source": [
    "len(train_jpg)"
   ]
  },
  {
   "cell_type": "markdown",
   "metadata": {},
   "source": [
    "we have 712 images. But the problem description mentions 600 trainval images hence some of there must be duplicates "
   ]
  },
  {
   "cell_type": "markdown",
   "metadata": {},
   "source": [
    "### Number of input text files "
   ]
  },
  {
   "cell_type": "code",
   "execution_count": 12,
   "metadata": {},
   "outputs": [],
   "source": [
    "## all input text images\n",
    "train_raw_text = [file.split('.')[0] for file in os.listdir('ICDAR_2019_task3_data/0325updated.task1train(626p)') if '.txt' in file]"
   ]
  },
  {
   "cell_type": "code",
   "execution_count": 13,
   "metadata": {},
   "outputs": [
    {
     "data": {
      "text/plain": [
       "835"
      ]
     },
     "execution_count": 13,
     "metadata": {},
     "output_type": "execute_result"
    }
   ],
   "source": [
    "len(train_raw_text)"
   ]
  },
  {
   "cell_type": "markdown",
   "metadata": {},
   "source": [
    "### No. of  ground truth .txt files."
   ]
  },
  {
   "cell_type": "code",
   "execution_count": 14,
   "metadata": {},
   "outputs": [
    {
     "data": {
      "text/plain": [
       "874"
      ]
     },
     "execution_count": 14,
     "metadata": {},
     "output_type": "execute_result"
    }
   ],
   "source": [
    "train_gt_json = [file.split('.')[0] for file in os.listdir('ICDAR_2019_task3_data/0325updated.task2train(626p)') if '.txt' in file]\n",
    "len(train_gt_json)"
   ]
  },
  {
   "cell_type": "markdown",
   "metadata": {},
   "source": [
    "### Only Consider common files "
   ]
  },
  {
   "cell_type": "code",
   "execution_count": 15,
   "metadata": {},
   "outputs": [
    {
     "data": {
      "text/plain": [
       "666"
      ]
     },
     "execution_count": 15,
     "metadata": {},
     "output_type": "execute_result"
    }
   ],
   "source": [
    "#training size \n",
    "len(set(train_raw_text).intersection(set(train_jpg)).intersection(set(train_gt_json)))"
   ]
  },
  {
   "cell_type": "code",
   "execution_count": 22,
   "metadata": {},
   "outputs": [
    {
     "data": {
      "text/plain": [
       "666"
      ]
     },
     "execution_count": 22,
     "metadata": {},
     "output_type": "execute_result"
    }
   ],
   "source": [
    "train_files = list(set(train_raw_text).intersection(set(train_jpg)).intersection(set(train_gt_json)))\n",
    "len(train_files)"
   ]
  },
  {
   "cell_type": "markdown",
   "metadata": {},
   "source": [
    "### Dealinng With Duplicate Files\n"
   ]
  },
  {
   "cell_type": "code",
   "execution_count": 23,
   "metadata": {},
   "outputs": [
    {
     "data": {
      "text/plain": [
       "625"
      ]
     },
     "execution_count": 23,
     "metadata": {},
     "output_type": "execute_result"
    }
   ],
   "source": [
    "train_files = [f for f in train_files if '(' not in f]\n",
    "len(train_files)"
   ]
  },
  {
   "cell_type": "markdown",
   "metadata": {},
   "source": [
    "## 2 . Building the Vocab"
   ]
  },
  {
   "cell_type": "code",
   "execution_count": 20,
   "metadata": {},
   "outputs": [],
   "source": [
    "#helper function to get text.\n",
    "def getText(file_path):\n",
    "    \n",
    "    '''\n",
    "    A method to clean the input text (getting rid of the coordinates used for localization in task 1)\n",
    "    \n",
    "    Args:\n",
    "    file_path (str): The file location of the file eg \n",
    "  \n",
    "\n",
    "    Returns:\n",
    "    str: cleaned string.\n",
    "    \n",
    "    '''\n",
    "    \n",
    "    raw_text = open(file_path).readlines()\n",
    "    cleaned_text = ''\n",
    "    for idx,i in enumerate(raw_text):\n",
    "\n",
    "        clean_text = i.split(',',maxsplit = 8)[-1]\n",
    "\n",
    "        cleaned_text += re.sub(r\"[\\t\\n]\",\" \",clean_text)\n",
    "\n",
    "    return cleaned_text"
   ]
  },
  {
   "cell_type": "markdown",
   "metadata": {},
   "source": [
    "## Defining the Vocab"
   ]
  },
  {
   "cell_type": "code",
   "execution_count": 7,
   "metadata": {},
   "outputs": [
    {
     "data": {
      "text/plain": [
       "'!\"#$%&\\'()*+,-./:;<=>?@[\\\\]^_`{|}~0123456789ABCDEFGHIJKLMNOPQRSTUVWXYZ '"
      ]
     },
     "execution_count": 7,
     "metadata": {},
     "output_type": "execute_result"
    }
   ],
   "source": [
    "from string import punctuation,digits,ascii_uppercase\n",
    "VOCAB = punctuation + digits + ascii_uppercase + \" \" \n",
    "VOCAB"
   ]
  },
  {
   "cell_type": "markdown",
   "metadata": {},
   "source": [
    "### Out Of Vocab Words\n",
    "\n",
    "\n",
    "The below cell is going to read every file in the 0325updated.task1train(626p) folder and print any character which is not present in our vocab"
   ]
  },
  {
   "cell_type": "code",
   "execution_count": 231,
   "metadata": {},
   "outputs": [
    {
     "name": "stdout",
     "output_type": "stream",
     "text": [
      "ICDAR_2019_task3_data/0325updated.task1train(626p)/X51006466778.txt Â\n",
      "ICDAR_2019_task3_data/0325updated.task1train(626p)/X51006466778.txt ·\n",
      "ICDAR_2019_task3_data/0325updated.task1train(626p)/X51006466055.txt r\n",
      "ICDAR_2019_task3_data/0325updated.task1train(626p)/X51008142068.txt l\n",
      "files to remove 4\n"
     ]
    }
   ],
   "source": [
    "# check for invalid files \n",
    "# containg chars not in our vocab \n",
    "\n",
    "\n",
    "counter = 0\n",
    "root_folder =  'ICDAR_2019_task3_data/0325updated.task1train(626p)/'\n",
    "\n",
    "for file in train_files:\n",
    "   \n",
    "    path = root_folder + file +'.txt'\n",
    "\n",
    "    data = getText(path)    \n",
    "    for char in data:\n",
    "        \n",
    "        if char not in VOCAB:\n",
    "            print(path,char)\n",
    "            counter += 1\n",
    "            \n",
    "            \n",
    "\n",
    "print('files to remove' , counter)    "
   ]
  },
  {
   "cell_type": "markdown",
   "metadata": {},
   "source": [
    "#### Will need to upper case input and have a extra token for unknowns"
   ]
  },
  {
   "cell_type": "markdown",
   "metadata": {},
   "source": [
    "### Any lowercase  Character is in the ground truths ?\n",
    "if the ground truth has lowercase chars then will need to include them in our VOCAB. The below cell scan through all the files in the ICDAR_2019_task3_data/0325updated.task2train(626p) folder and searches if any file contains OOV chars. Finally prints the files will might need to modify or remove"
   ]
  },
  {
   "cell_type": "code",
   "execution_count": 285,
   "metadata": {},
   "outputs": [
    {
     "name": "stdout",
     "output_type": "stream",
     "text": [
      "files to remove 0\n"
     ]
    }
   ],
   "source": [
    "\n",
    "root_folder =  'ICDAR_2019_task3_data/0325updated.task2train(626p)/'\n",
    "\n",
    "counter = 0\n",
    "for file in train_files:\n",
    "   \n",
    "    path = root_folder + file +'.txt'\n",
    "\n",
    "    \n",
    "    data = ''\n",
    "    \n",
    "    with open(path,'r') as f:\n",
    "            \n",
    "        data_dict = json.load(f)\n",
    "\n",
    "        data  = ' '.join(list(data_dict.values()))\n",
    "\n",
    "    for char in data:\n",
    "        \n",
    "        if char not in VOCAB:\n",
    "            print(path,char)\n",
    "            counter += 1\n",
    "            \n",
    "            \n",
    "\n",
    "print('files to remove' , counter)    \n",
    "\n"
   ]
  },
  {
   "cell_type": "markdown",
   "metadata": {},
   "source": [
    "#### K only upper case present in the ground truths. "
   ]
  },
  {
   "cell_type": "markdown",
   "metadata": {},
   "source": [
    "# 3. Preparing Model input and output."
   ]
  },
  {
   "cell_type": "markdown",
   "metadata": {},
   "source": [
    "## Preparing Input text data "
   ]
  },
  {
   "cell_type": "markdown",
   "metadata": {},
   "source": [
    "### 1. Loading a sample from train set"
   ]
  },
  {
   "cell_type": "code",
   "execution_count": 250,
   "metadata": {},
   "outputs": [],
   "source": [
    "input_root_dir = 'ICDAR_2019_task3_data/0325updated.task1train(626p)/'\n",
    "target_root_dir = 'ICDAR_2019_task3_data/0325updated.task2train(626p)/'"
   ]
  },
  {
   "cell_type": "code",
   "execution_count": 249,
   "metadata": {},
   "outputs": [
    {
     "data": {
      "text/plain": [
       "'X51005447860'"
      ]
     },
     "execution_count": 249,
     "metadata": {},
     "output_type": "execute_result"
    }
   ],
   "source": [
    "train_files[0]"
   ]
  },
  {
   "cell_type": "code",
   "execution_count": 251,
   "metadata": {
    "scrolled": true
   },
   "outputs": [
    {
     "data": {
      "text/plain": [
       "'ICDAR_2019_task3_data/0325updated.task1train(626p)/X51005447860.txt'"
      ]
     },
     "execution_count": 251,
     "metadata": {},
     "output_type": "execute_result"
    }
   ],
   "source": [
    "path = input_root_dir + train_files[0] + \".txt\"\n",
    "path"
   ]
  },
  {
   "cell_type": "code",
   "execution_count": 253,
   "metadata": {},
   "outputs": [
    {
     "data": {
      "text/plain": [
       "['256,168,730,168,730,213,256,213,AEON CO. (M) BHD (126926-H)\\n',\n",
       " '236,217,753,217,753,260,236,260,3RD FLR, AEON TAMAN MALURI SC\\n',\n",
       " '272,271,699,271,699,311,272,311,JLN JEJAKA, TAMAN MALURI\\n',\n",
       " '254,321,719,321,719,363,254,363,CHERAS, 55100 KUALA LUMPUR\\n',\n",
       " '294,372,662,372,662,409,294,409,GST ID : 002017394688\\n']"
      ]
     },
     "execution_count": 253,
     "metadata": {},
     "output_type": "execute_result"
    }
   ],
   "source": [
    "open(path).readlines()[0:5]"
   ]
  },
  {
   "cell_type": "markdown",
   "metadata": {},
   "source": [
    "The input text files have 8 cordinates mixed with text we are only interested in the text. Will filer out the cords using split(',',maxsplit = 8). Then will remove \\t and \\n. This is the same exact code as getText() function."
   ]
  },
  {
   "cell_type": "code",
   "execution_count": 254,
   "metadata": {
    "scrolled": true
   },
   "outputs": [
    {
     "name": "stdout",
     "output_type": "stream",
     "text": [
      "AEON CO. (M) BHD (126926-H) 3RD FLR, AEON TAMAN MALURI SC JLN JEJAKA, TAMAN MALURI CHERAS, 55100 KUALA LUMPUR GST ID : 002017394688 SHOPPING HOURS MON-SUN:1000 HRS - 2200 HRS 1X 000004089728 5.90SR SAKUMASHIKIDROP 1X 000007572029 5.90SR BINDER CLIP -BL 1X 000006731878 5.90SR 150YEN CAR NECK SUB-TOTAL 17.70 TOTAL SALES INCL GST 17.70 TOTAL AFTER ADJ INCL GST 17.70 CASH 50.70 ITEM COUNT 3 CHANGE AMT 33.00 INVOICE NO: 2018021951320026157 GST SUMMARY AMOUNT TAX SR @ 6% 16.71 0.99 TOTAL 16.71 0.99 19/02/2018 16:45 5132 002 0026157 0293605 SHIVANESWARY A/P MANY DAISO SUNWAY VELOCITY TEL 1-300-80-AEON (2366) THANK YOU FOR YOUR PATRONAGE PLEASE COME AGAIN \n"
     ]
    }
   ],
   "source": [
    "raw_text = open(path).readlines()\n",
    "\n",
    "cleaned_text = ''\n",
    "\n",
    "for idx,i in enumerate(raw_text):\n",
    "    \n",
    "    clean_text = i.split(',',maxsplit = 8)[-1]\n",
    "    \n",
    "    cleaned_text += re.sub(r\"[\\t\\n]\",\" \",clean_text)\n",
    "    \n",
    "print(cleaned_text)"
   ]
  },
  {
   "cell_type": "markdown",
   "metadata": {},
   "source": [
    "## Preparing Target Data"
   ]
  },
  {
   "cell_type": "markdown",
   "metadata": {},
   "source": [
    "### Generating Ground Truths  \n",
    "\n",
    "We will need to create ground truth by \n",
    "1. extracting data from the input text files (ICDAR_2019_task3_data/0325updated.task1train(626p)') the fields to extract come from 'ICDAR_2019_task3_data/0325updated.task2train(626p)') \n",
    "2. Then we encode the extracted text.\n"
   ]
  },
  {
   "cell_type": "markdown",
   "metadata": {},
   "source": [
    "## Now we need to extract [company,address,date,total] fields from the cleaned text"
   ]
  },
  {
   "cell_type": "code",
   "execution_count": 255,
   "metadata": {},
   "outputs": [
    {
     "data": {
      "text/plain": [
       "{'company': 'AEON CO. (M) BHD',\n",
       " 'date': '19/02/2018',\n",
       " 'address': '3RD FLR, AEON TAMAN MALURI SC JLN JEJAKA, TAMAN MALURI CHERAS, 55100 KUALA LUMPUR',\n",
       " 'total': '17.70'}"
      ]
     },
     "execution_count": 255,
     "metadata": {},
     "output_type": "execute_result"
    }
   ],
   "source": [
    "#loading ground truth.\n",
    "\n",
    "path = target_root_dir + train_files[0] + '.txt' \n",
    "\n",
    "with open(path,'r') as f:\n",
    "    json_dict = json.load(f)\n",
    "\n",
    "json_dict"
   ]
  },
  {
   "cell_type": "code",
   "execution_count": 257,
   "metadata": {},
   "outputs": [
    {
     "name": "stdout",
     "output_type": "stream",
     "text": [
      "company : AEON CO. (M) BHD\n",
      "date : 19/02/2018\n",
      "address : 3RD FLR, AEON TAMAN MALURI SC JLN JEJAKA, TAMAN MALURI CHERAS, 55100 KUALA LUMPUR\n",
      "total : 17.70\n"
     ]
    }
   ],
   "source": [
    "for i,k in enumerate(iter(json_dict)):\n",
    "    \n",
    "    # get the val from the ground truth \n",
    "    val = json_dict[k]\n",
    "    \n",
    "    # if there are no errors in the input_text then val will be in cleaned_text. \n",
    "    if val in cleaned_text:\n",
    "        start_pos = cleaned_text.find(val)\n",
    "        end_pos = cleaned_text.find(val) + len(val)        \n",
    "        print(f'{k} : {cleaned_text[start_pos : end_pos]}')\n"
   ]
  },
  {
   "cell_type": "markdown",
   "metadata": {},
   "source": [
    "## Encoding the targets \n",
    "\n",
    "The ground truth will be a list of ints "
   ]
  },
  {
   "cell_type": "code",
   "execution_count": 335,
   "metadata": {},
   "outputs": [
    {
     "data": {
      "text/plain": [
       "{'company': 1, 'address': 2, 'date': 3, 'total': 4}"
      ]
     },
     "execution_count": 335,
     "metadata": {},
     "output_type": "execute_result"
    }
   ],
   "source": [
    "labels"
   ]
  },
  {
   "cell_type": "code",
   "execution_count": 19,
   "metadata": {},
   "outputs": [],
   "source": [
    "def get_labels(json_dict,cleaned_text):\n",
    "    '''\n",
    "    \n",
    "    This function is responsiable for creating the training encoded targets.\n",
    "    \n",
    "    Args:\n",
    "        json_dict (dict) : A dict containing ground truth data. \n",
    "        cleaned_text (str) : cleaned text which has been stripped off of coordinates.\n",
    "    Returns:\n",
    "        text_class (list) : A list containg char level encodings.\n",
    "        k (str) : key of ground truth [company,address,date,total] this is returned only when there is no match found.\n",
    "    \n",
    "    '''\n",
    "    \n",
    "    labels = {'company':1,'address':2,'date':3,'total':4}\n",
    "    \n",
    "    text_class = [0] * len(cleaned_text)\n",
    "    \n",
    "    for i,k in enumerate(iter(json_dict)):\n",
    "        val = json_dict[k]\n",
    "        \n",
    "        if val in cleaned_text:\n",
    "            start_pos = cleaned_text.find(val)\n",
    "            end_pos = cleaned_text.find(val) + len(val)\n",
    "            text_class[start_pos:end_pos] = [labels[k]] * (end_pos - start_pos) \n",
    "        else:\n",
    "            # if val not present then send the key.\n",
    "            return k\n",
    "      \n",
    "    return text_class\n"
   ]
  },
  {
   "cell_type": "code",
   "execution_count": 266,
   "metadata": {},
   "outputs": [
    {
     "data": {
      "text/plain": [
       "True"
      ]
     },
     "execution_count": 266,
     "metadata": {},
     "output_type": "execute_result"
    }
   ],
   "source": [
    "encoded_labels  = get_labels(json_dict,cleaned_text)\n",
    "\n",
    "len(encoded_labels) == len(cleaned_text)"
   ]
  },
  {
   "cell_type": "code",
   "execution_count": 268,
   "metadata": {
    "scrolled": false
   },
   "outputs": [
    {
     "name": "stdout",
     "output_type": "stream",
     "text": [
      "[1, 1, 1, 1, 1, 1, 1, 1, 1, 1, 1, 1, 1, 1, 1, 1, 0, 0, 0, 0, 0, 0, 0, 0, 0, 0, 0, 0, 2, 2, 2, 2, 2, 2, 2, 2, 2, 2, 2, 2, 2, 2, 2, 2, 2, 2, 2, 2, 2, 2, 2, 2, 2, 2, 2, 2, 2, 2, 2, 2, 2, 2, 2, 2, 2, 2, 2, 2, 2, 2, 2, 2, 2, 2, 2, 2, 2, 2, 2, 2, 2, 2, 2, 2, 2, 2, 2, 2, 2, 2, 2, 2, 2, 2, 2, 2, 2, 2, 2, 2, 2, 2, 2, 2, 2, 2, 2, 2, 2, 0, 0, 0, 0, 0, 0, 0, 0, 0, 0, 0, 0, 0, 0, 0, 0, 0, 0, 0, 0, 0, 0, 0, 0, 0, 0, 0, 0, 0, 0, 0, 0, 0, 0, 0, 0, 0, 0, 0, 0, 0, 0, 0, 0, 0, 0, 0, 0, 0, 0, 0, 0, 0, 0, 0, 0, 0, 0, 0, 0, 0, 0, 0, 0, 0, 0, 0, 0, 0, 0, 0, 0, 0, 0, 0, 0, 0, 0, 0, 0, 0, 0, 0, 0, 0, 0, 0, 0, 0, 0, 0, 0, 0, 0, 0, 0, 0, 0, 0, 0, 0, 0, 0, 0, 0, 0, 0, 0, 0, 0, 0, 0, 0, 0, 0, 0, 0, 0, 0, 0, 0, 0, 0, 0, 0, 0, 0, 0, 0, 0, 0, 0, 0, 0, 0, 0, 0, 0, 0, 0, 0, 0, 0, 0, 0, 0, 0, 0, 0, 0, 0, 0, 0, 0, 0, 0, 0, 0, 0, 0, 0, 0, 0, 0, 0, 0, 0, 0, 0, 0, 0, 0, 0, 0, 0, 0, 0, 0, 0, 0, 0, 0, 0, 0, 0, 0, 0, 0, 0, 0, 0, 0, 0, 4, 4, 4, 4, 4, 0, 0, 0, 0, 0, 0, 0, 0, 0, 0, 0, 0, 0, 0, 0, 0, 0, 0, 0, 0, 0, 0, 0, 0, 0, 0, 0, 0, 0, 0, 0, 0, 0, 0, 0, 0, 0, 0, 0, 0, 0, 0, 0, 0, 0, 0, 0, 0, 0, 0, 0, 0, 0, 0, 0, 0, 0, 0, 0, 0, 0, 0, 0, 0, 0, 0, 0, 0, 0, 0, 0, 0, 0, 0, 0, 0, 0, 0, 0, 0, 0, 0, 0, 0, 0, 0, 0, 0, 0, 0, 0, 0, 0, 0, 0, 0, 0, 0, 0, 0, 0, 0, 0, 0, 0, 0, 0, 0, 0, 0, 0, 0, 0, 0, 0, 0, 0, 0, 0, 0, 0, 0, 0, 0, 0, 0, 0, 0, 0, 0, 0, 0, 0, 0, 0, 0, 0, 0, 0, 0, 0, 0, 0, 0, 0, 0, 0, 0, 0, 0, 0, 0, 0, 0, 0, 0, 0, 0, 0, 0, 0, 0, 0, 0, 0, 0, 0, 0, 0, 0, 0, 0, 0, 0, 0, 0, 0, 0, 0, 0, 0, 0, 0, 0, 0, 0, 0, 0, 0, 0, 0, 3, 3, 3, 3, 3, 3, 3, 3, 3, 3, 0, 0, 0, 0, 0, 0, 0, 0, 0, 0, 0, 0, 0, 0, 0, 0, 0, 0, 0, 0, 0, 0, 0, 0, 0, 0, 0, 0, 0, 0, 0, 0, 0, 0, 0, 0, 0, 0, 0, 0, 0, 0, 0, 0, 0, 0, 0, 0, 0, 0, 0, 0, 0, 0, 0, 0, 0, 0, 0, 0, 0, 0, 0, 0, 0, 0, 0, 0, 0, 0, 0, 0, 0, 0, 0, 0, 0, 0, 0, 0, 0, 0, 0, 0, 0, 0, 0, 0, 0, 0, 0, 0, 0, 0, 0, 0, 0, 0, 0, 0, 0, 0, 0, 0, 0, 0, 0, 0, 0, 0, 0, 0, 0, 0, 0, 0, 0, 0, 0, 0, 0, 0, 0, 0, 0, 0, 0, 0, 0, 0, 0, 0, 0, 0, 0, 0, 0, 0, 0, 0, 0, 0, 0, 0, 0, 0, 0, 0]\n"
     ]
    }
   ],
   "source": [
    "print(encoded_labels)"
   ]
  },
  {
   "cell_type": "markdown",
   "metadata": {},
   "source": [
    "# 4. Corrections: \n",
    "\n",
    "The ground truths must be present in the input text in the exact order must match character to character. But few samples done have the exact ground truths. This is mosnly becz. of the following reasons.\n",
    "\n",
    "1. extra spaces. \n",
    "2. improper use of . or ,. \n",
    "3. incorrect spellings. \n",
    "\n",
    "## Lets check the missing cases \n"
   ]
  },
  {
   "cell_type": "code",
   "execution_count": 25,
   "metadata": {},
   "outputs": [],
   "source": [
    "def check(train_files):\n",
    "    \n",
    "    '''\n",
    "    This function check if all ground truth keys (company,address,date,total) were extracted properly or not. \n",
    "\n",
    "    Args:\n",
    "        train_files (list) : List contain files names of all train files.\n",
    "    \n",
    "    Returns : \n",
    "            \n",
    "            data_dict (dict) : A dict containing the training data. \n",
    "            missed (list) : all the keys which were missed \n",
    "            missed_dict (dict) : file names per key  eg . {address : [file_name1,file_name2] , 'company' : [file_name1]..}\n",
    "            \n",
    "    '''\n",
    "    \n",
    "    data_dict = {}\n",
    "    missed_dict = {'address':[],'company':[],'date':[],'total':[]}\n",
    "    missed = []\n",
    "    \n",
    "    for idx  in tqdm(train_files):\n",
    "        \n",
    "        txt_file = 'ICDAR_2019_task3_data/0325updated.task1train(626p)/' + idx + '.txt'\n",
    "        json_file = 'ICDAR_2019_task3_data/0325updated.task2train(626p)/' + idx + '.txt'\n",
    "        \n",
    "        with open(json_file,'r') as jfile:\n",
    "            json_dict = json.load(jfile)\n",
    "        \n",
    "        \n",
    "        x = getText(txt_file).upper()\n",
    "        y = get_labels(json_dict,x)\n",
    "        \n",
    "        if  isinstance(y,list):\n",
    "            data_dict[idx] = (x,y)\n",
    "        else:\n",
    "            missed_dict[y].append(idx)\n",
    "            missed.append(y)\n",
    "     \n",
    "    return data_dict,missed,missed_dict\n"
   ]
  },
  {
   "cell_type": "code",
   "execution_count": 27,
   "metadata": {},
   "outputs": [
    {
     "name": "stderr",
     "output_type": "stream",
     "text": [
      "100%|██████████| 625/625 [00:25<00:00, 24.60it/s]\n"
     ]
    }
   ],
   "source": [
    "train_dict,missed,missed_dict = check(train_files)"
   ]
  },
  {
   "cell_type": "code",
   "execution_count": 38,
   "metadata": {},
   "outputs": [
    {
     "data": {
      "text/plain": [
       "157"
      ]
     },
     "execution_count": 38,
     "metadata": {},
     "output_type": "execute_result"
    }
   ],
   "source": [
    "len(missed)"
   ]
  },
  {
   "cell_type": "markdown",
   "metadata": {},
   "source": [
    "## We missed 157 samples. \n",
    "## Lets see which class was missed the most"
   ]
  },
  {
   "cell_type": "code",
   "execution_count": 39,
   "metadata": {},
   "outputs": [
    {
     "data": {
      "text/plain": [
       "Counter({'address': 134, 'date': 4, 'company': 18, 'total': 1})"
      ]
     },
     "execution_count": 39,
     "metadata": {},
     "output_type": "execute_result"
    }
   ],
   "source": [
    "from collections import Counter \n",
    "Counter(missed)"
   ]
  },
  {
   "cell_type": "code",
   "execution_count": 40,
   "metadata": {},
   "outputs": [],
   "source": [
    "## lets get the ids of the missed samples\n",
    "missed_ids = []\n",
    "\n",
    "for i in missed_dict:\n",
    "    \n",
    "    missed_ids.extend(missed_dict[i])"
   ]
  },
  {
   "cell_type": "code",
   "execution_count": 69,
   "metadata": {},
   "outputs": [],
   "source": [
    "## helper function to print input_text, ground truths \n",
    "def print_data(keys):\n",
    "    \n",
    "    '''\n",
    "    \n",
    "    Helper function to print the text data and the its corrosponding ground truth label  dict. \n",
    "    \n",
    "    Args:\n",
    "        keys (list) : list containg the files names. (since file names are unique they are called keys.)\n",
    "        \n",
    "        \n",
    "    '''\n",
    "    \n",
    "    for idx  in  keys:\n",
    "        print('For id = ' , idx)\n",
    "        \n",
    "        txt_file = 'ICDAR_2019_task3_data/0325updated.task1train(626p)/' + idx + '.txt'\n",
    "        json_file = 'ICDAR_2019_task3_data/0325updated.task2train(626p)/' + idx + '.txt'\n",
    "        \n",
    "        with open(json_file,'r') as jfile:\n",
    "            json_dict = json.load(jfile)        \n",
    "        \n",
    "        \n",
    "        print(getText(txt_file))\n",
    "        print('********')\n",
    "        print(json_dict)\n",
    "        \n",
    "        print()\n",
    "        print()\n"
   ]
  },
  {
   "cell_type": "markdown",
   "metadata": {},
   "source": [
    "# Corrections : total field  <a id = 'total'></a>\n",
    "\n",
    "We have only one missing file for `total` file id = `X51005806678` error ground truth doesn't contain  \" , \"  in  price. \n",
    "Fix replace '7838.80' with '7,838.80'.\n",
    "\n"
   ]
  },
  {
   "cell_type": "code",
   "execution_count": 53,
   "metadata": {},
   "outputs": [
    {
     "data": {
      "text/plain": [
       "['X51005806678']"
      ]
     },
     "execution_count": 53,
     "metadata": {},
     "output_type": "execute_result"
    }
   ],
   "source": [
    "#total \n",
    "missed_dict['total']"
   ]
  },
  {
   "cell_type": "code",
   "execution_count": 175,
   "metadata": {},
   "outputs": [
    {
     "name": "stdout",
     "output_type": "stream",
     "text": [
      "before correction gt {'company': 'KAISON FURNISHING SDN BHD', 'date': '29-01-18', 'address': 'L4-17 (B), LEVEL 4, UP2-01, MELAWATI MALL, 355, JALAN BANDAR MELAWATI, PUSAT BANDAR MELAWATI, 53100 KUALA LUMPUR.', 'total': '7838.80'}\n",
      "after correction gt {'company': 'KAISON FURNISHING SDN BHD', 'date': '29-01-18', 'address': 'L4-17 (B), LEVEL 4, UP2-01, MELAWATI MALL, 355, JALAN BANDAR MELAWATI, PUSAT BANDAR MELAWATI, 53100 KUALA LUMPUR.', 'total': '7,838.80'}\n"
     ]
    }
   ],
   "source": [
    "with open('ICDAR_2019_task3_data/0325updated.task2train(626p)/X51005806678.txt') as f:\n",
    "    data_dict = json.load(f)\n",
    "    print('before correction gt',data_dict)\n",
    "    #correction : replace '7838.80' with '7,838.80'\n",
    "    data_dict['total'] = '7,838.80'\n",
    "    print('after correction gt',data_dict)\n",
    "    \n",
    "# print(data_dict)\n",
    "with open('ICDAR_2019_task3_data/0325updated.task2train(626p)/X51005806678.txt','w') as f:\n",
    "    f.write(json.dumps(data_dict))\n",
    "        \n",
    "    "
   ]
  },
  {
   "cell_type": "markdown",
   "metadata": {},
   "source": [
    "# Correcting Dates <a id = 'date'></a>\n",
    "\n",
    "There are 4 erros in date fields of the following files. Printing  the fileds using the print_data() method. \n",
    "The fields are printed in the following order. \n",
    "\n",
    "id = 'XX24141..' \n",
    "\n",
    "text data \n",
    "\n",
    "ground truths \n",
    "\n",
    "\n",
    "## Errors found in ground truths \n",
    "\n",
    "corrected_dates = {'X51006414519':'2018-04-06','X51005447850':'04/03/2018','X51008142038':'28-11-18','X51005749912':'28-03-18'}\n",
    "\n",
    "1. In file  `X51006414519`  date = '06/04/2018    instead of '2018-04-06'.\n",
    "2. In file  `X51005447850`  date = 20180304   instead of  '04/03/2018'.\n",
    "3. In file  `X51008142038`  date = '28-01-18' instead of '28-03-18'.\n",
    "4. In file  `X51005749912` date = '28/03/18' instead of '28-03-18'."
   ]
  },
  {
   "cell_type": "code",
   "execution_count": 78,
   "metadata": {
    "collapsed": true
   },
   "outputs": [
    {
     "name": "stdout",
     "output_type": "stream",
     "text": [
      "For id =  X51006414519\n",
      "HASHA PETROKIOSK COMPANY NO: LOT PTD 198718 TMN SIERRA P 81750 MASAI JOHOR SITE: 2591 TELEPHONE: GST NO: RECEIPT INVOICE NUMBER 22.73 LITRE PUMP # 02 FUELSAVE 95 RM 50.00 C 2.200 RM / LITRE TOTAL RM 50.00 CASH RM 50.00 RELIEF GST C RM 0.00 TOTAL GROSS C RM 50.00 2018-04-06 17:36:35 CUSTOMER COPY TERMINAL ID: 84259112 ID/STAN: 274961/000000 ENTRY MODE: MSR/1 CARD: ATTENDANT TAG CARD XXXXXXXXX0053 RESPONSE:- 000 APPROVED ATTENDANT: MRIFAN DATE TIME NUM OPT 06/04/18 DIESEL & PETROL RON95 GIVEN RELIEF UNDER SECTION 56 (3) (B) GST ACT 2014 THANK YOU PLEASE COME AGAIN JM0032980-V 073000190 000908345344 60000437782 17:36 41766 02 \n",
      "********\n",
      "{'company': 'HASHA PETROKIOSK', 'date': '06/04/2018', 'address': 'LOT PTD 198718 TMN SIERRA P 81750 MASAI JOHOR', 'total': '50.00'}\n",
      "\n",
      "\n",
      "For id =  X51005447850\n",
      "PASARAYA BORONG PINTAR SDN BHD BR NO.: (124525-H) NO 19-G& 19-1& 19-2 JALAN TASIK UTAMA 4, MEDAN NIAGA TASIK DAMAI 016-5498845. GST NO.: 04/03/2018 15:41:52 TAX INVOICE TRN: CR0007636 COUNTER 4 CASHIER: 11 QTY UOM UNIT AMT EXC. AMT INC. GST PRICE TAX TAX CODE POKKA COFFEE VANILLA MILK COFFEE 1 WALK 3.20 3.20 3.20 ZRL *TOTAL QTY: 1.00 3.20 TOTAL INCLUDES GST 0% 3.20 CUSTOMER'S PAYMENT CASH 5.20 CHANGE 2.00 GST SUMMARY AMOUNT (RM) TAX (RM) ZRL = 0% 3.20 0.00 *GOODS SOLD ARE NOT RETURNABLE THANK YOU FOR SHOPPING AT PASARAYA BORONG PINTAR SDN BHD \n",
      "********\n",
      "{'company': 'PASARAYA BORONG PINTAR SDN BHD', 'date': '20180304', 'address': 'NO 19-G& 19-1& 19-2 JALAN TASIK UTAMA 4, MEDAN NIAGA TASIK DAMAI', 'total': '3.20'}\n",
      "\n",
      "\n",
      "For id =  X51008142038\n",
      "99 SPEED MART S/B (519537-X) LOT P.T. 2811, JALAN ANGSA, TAMAN BERKELEY 41150 KLANG, SELANGOR 1225-DENGKIL GST ID. NO : 000181747712 INVOICE NO : 18291/102/T0163 11:59AM 567640 28-11-18 973 COKE LIGHT 500ML RM4.40 S @2 X RM 2.20 5581 SPRITZER MINERAL WATER RM23.50 S TOTAL SALES (INCLUSIVE GST) RM 27.90 CASH RM 28.00 CHANGE RM .10 GST SUMMARY AMOUNT(RM) TAX(RM) S = 6% 26.33 1.57 THANK YOU. PLEASE COME AGAIN KEEP THE INVOICE FOR APPLICABLE RETURNS \n",
      "********\n",
      "{'company': '99 SPEED MART S/B', 'date': '28-01-18', 'address': 'LOT P.T. 2811, JALAN ANGSA, TAMAN BERKELEY 41150 KLANG, SELANGOR 1225-DENGKIL', 'total': '27.90'}\n",
      "\n",
      "\n",
      "For id =  X51005749912\n",
      "MR. D.I.Y. (M) SDN BHD CO-REG : 860671-D LOT 1851-A & 1851-B, JALAN KPB 6, KAWASAN PERINDUSTRIAN BALAKONG , 43300 SERI KEMBANGAN , SELANGOR (GST ID NO : 000306020352) (TESCO EXTRA ARA DAMANSARA) TAX INVOICE COPPER BASIN PILLAR TAP B *S JA01-04 - 2/60 9072363 1 X 29.90 29.90 PADLOCK ST-P6140 40MM *S LE51/2 - 12/48 6942131561408 1 X 8.90 8.90 ITEM(S) : 2 QTY (S) : 2 TOTAL INCL . GST @6% CASH CHANGE 38.80 50.00 11.20 GST SUMMARY GST S@6% RM RM AMT (RM) 36.60 TAX (RM) 2.20 28-03-18 18:05 SH01 ZJ42 RM T2 R000246362 OPERATOR TRAINEE CASHIER EXCHANGE ARE ALLOWED WITHIN 7 DAY WITH RECEIPT . STRICTLY NO CASH REFUND . \n",
      "********\n",
      "{'company': 'MR. D.I.Y. (M) SDN BHD', 'date': '28/03/18', 'address': 'LOT 1851-A & 1851-B, JALAN KPB 6, KAWASAN PERINDUSTRIAN BALAKONG, 43300 SERI KEMBANGAN, SELANGOR', 'total': '38.80'}\n",
      "\n",
      "\n"
     ]
    }
   ],
   "source": [
    "print_data(missed_dict['date'])"
   ]
  },
  {
   "cell_type": "markdown",
   "metadata": {},
   "source": [
    "## The following fields are correcting the erros "
   ]
  },
  {
   "cell_type": "code",
   "execution_count": 79,
   "metadata": {},
   "outputs": [
    {
     "name": "stdout",
     "output_type": "stream",
     "text": [
      "before correction date 06/04/2018\n",
      "after correction gt 2018-04-06\n",
      "before correction date 20180304\n",
      "after correction gt 04/03/2018\n",
      "before correction date 28-01-18\n",
      "after correction gt 28-11-18\n",
      "before correction date 28/03/18\n",
      "after correction gt 28-03-18\n"
     ]
    }
   ],
   "source": [
    "corrected_dates = {'X51006414519':'2018-04-06','X51005447850':'04/03/2018','X51008142038':'28-11-18','X51005749912':'28-03-18'}\n",
    "\n",
    "\n",
    "for i in corrected_dates:\n",
    "    \n",
    "    with open('ICDAR_2019_task3_data/0325updated.task2train(626p)/'+i+'.txt') as f:\n",
    "        data_dict = json.load(f)\n",
    "        print('before correction date',data_dict['date'])\n",
    "        #correction : replace '7838.80' with '7,838.80'\n",
    "        data_dict['date'] = corrected_dates[i]\n",
    "        print('after correction gt',data_dict['date'])\n",
    "    \n",
    "    # print(data_dict)\n",
    "    with open('ICDAR_2019_task3_data/0325updated.task2train(626p)/'+i+'.txt','w') as f:\n",
    "        f.write(json.dumps(data_dict))\n"
   ]
  },
  {
   "cell_type": "code",
   "execution_count": 80,
   "metadata": {},
   "outputs": [
    {
     "name": "stderr",
     "output_type": "stream",
     "text": [
      "100%|██████████| 626/626 [00:01<00:00, 437.77it/s]\n"
     ]
    },
    {
     "data": {
      "text/plain": [
       "154"
      ]
     },
     "execution_count": 80,
     "metadata": {},
     "output_type": "execute_result"
    }
   ],
   "source": [
    "train_dict,missed,missed_dict = check(train_files)\n",
    "len(missed)"
   ]
  },
  {
   "cell_type": "code",
   "execution_count": 81,
   "metadata": {},
   "outputs": [
    {
     "data": {
      "text/plain": [
       "[]"
      ]
     },
     "execution_count": 81,
     "metadata": {},
     "output_type": "execute_result"
    }
   ],
   "source": [
    "missed_dict['date']"
   ]
  },
  {
   "cell_type": "markdown",
   "metadata": {},
   "source": [
    "Dates and total fields are Corrected."
   ]
  },
  {
   "cell_type": "markdown",
   "metadata": {},
   "source": [
    "# Correcting Company Name <a id = 'company'></a>\n",
    "\n",
    "Erros are \n",
    "\n",
    "1. spelling  eg. ENTERORISE\n",
    "2. spacing \n",
    "\n",
    "\n"
   ]
  },
  {
   "cell_type": "code",
   "execution_count": 83,
   "metadata": {
    "collapsed": true
   },
   "outputs": [
    {
     "name": "stdout",
     "output_type": "stream",
     "text": [
      "For id =  X51005712038\n",
      "SWC ENTERORISE SDN BHD (1125830-V) 5-7, JALAN MAHAGONI 7/1 SEKSYEN 4, BANDAR UTAMA, 44300 BATANG KALI, SELANGOR 03-60571377 GST 002017808384 TAX INVOICE NO : 00518087100028 005002(BATANGKALI-2) 8 002 28/03/2018 10:36:13 OPEN CODE-SR ITEM 0025679 U 3X8.00 24.00 S 0025679 U 1X7.00 7.00 S PD 3.20 -3.80 AUTHORIZE : BATANGKALI-S STAR 12X13 (1X180) 0020329 PKT 1X1.00 1.00 S 0020324 PKT 1X1.80 1.80 S ITEM 4 SUBTOTAL INCL GST 30.00 QTY 6 SPEC.DISC 0.00 SAVING 3.80 ROUNDING 0.00 TOTAL 30.00 CASH 50.00 CHANGE 20.00 GST SUMMARY AMOUNT(RM) TAX(RM) S(6%) 28.30 1.70 28/03/2018 10:36:13 GOODS SOLD ONLY EXCHANGEABLE WITHIN 3 DAYS GOODS SOLD ARE NOT REFUNDABLE THANK YOU FOR KIND SUPPORT PLEASE COME AGAIN \n",
      "********\n",
      "{'company': 'SWC ENTERPRISE SDN BHD', 'date': '28/03/2018', 'address': '5-7, JALAN MAHAGONI 7/1 SEKSYEN 4, BANDAR UTAMA, 44300 BATANG KALI, SELANGOR', 'total': '30.00'}\n",
      "\n",
      "\n",
      "For id =  X51005749905\n",
      "ENW HARDWARE CENTRE (M) SDN. BHD. CO. REG. NO. : 795225-A GST REG. NO. : 000155453440 NO: G3, BLK G, JLN PJU 1A/3, ARA DAMANSARA, 47301 PETALING JAYA, SELANGOR DARUL EHSAN. TEL : 03-7832 6929 , 012-659 9829 10/03/2018 TAX INVOICE NO. :CS00230322 CASH SALE (ARA D'SARA) TEL: 03-7832 6929 H/P: 012-659 9829 ITEM QTY U.PRICE RM 001533 1.00 19.00 19.00 SR 2KGS. WOOD LACQUER THINNER 000920 1.00 10.00 10.00 SR 1.5KG. UFIXX PUTTY FILLER. 006828 2.00 2.50 5.00 SR 100# X 8\" X 45M SAND PAPER ROLL. TOTAL AMT INCL. GST @ 6% : 34.00 ROUNDING ADJUSMENT : 0.00 TOTAL AMT PAYABLE : 34.00 TOTAL QTY TENDER : 4 GST SUMMARY SR = 6% AMOUNT (RM) 32.07 GST (RM) 1.93 POINT : 0.00 *GOODS SOLD ARE NOT RETURNABLE THANK YOU FOR SHOPPING AT ENW HARDWARE CENTRE (M) SDN. BHD. \n",
      "********\n",
      "{'company': 'ENW HARDWARE CENTRE (M) SDN BHD', 'date': '10/03/2018', 'address': 'NO: G3, BLK G, JIN PJU 1A/3, ARA DAMANSARA, 47301 PETALING JAYA, SELANGOR DARUL EHSAN.', 'total': '34.00'}\n",
      "\n",
      "\n",
      "For id =  X51005715451\n",
      "3-1708032 POPULAR BOOL CO. (M) SDN BHD (CO. NO. 113821-W) (GST REG NO. 001492992000) NO 8, JALAN 7/1188, BESA TAN RAZAK 56000 KUALA LUMPUR, MALAYSIA KSL CITY TEL: 017-7765076 / 7765987 06/02/18 18:47 SLIP NO.: 0010291725 CHEAH PEI NI TRANS: 246761 DESCRIPTION AMOUNT CORR. PEN ZLI-W 7.65 T PB F/ RING FILE W/CLI 6.99 T TOTAL RM INCL. OF GST 14.64 ROUNDING ADJ 0.01 TOTAL RM 14.65 CASH -50.00 CHANGE 35.35 ITEM COUNT GST SUMMARY AMOUNT (RM) TAX (RM) 2 T @ 6% 13.81 0.83 TOTAL SAVINGS 0.00 BE A POPULAR CARD MEMBER AND ENJOY SPECUAL DUSCOUNTS THANK YOU. PLEASE COME AGAUR. WWW.POPULAR.COM.MY BUY CHINESE BOOKS ONLINE WWW.POPULARONLINE.COM.MY \n",
      "********\n",
      "{'company': 'POPULAR BOOK CO. (M) SDN BHD', 'date': '06/02/18', 'address': 'NO 8, JALAN 7/118B, DESA TAN RAZAH 56000 KUALA LUMPUR, MALAYSIA KSL CITY', 'total': '14.65'}\n",
      "\n",
      "\n",
      "For id =  X51005711451\n",
      "RESTORAN WAN SHENG 002043319-W NO.2, JALAN TEMENGGUNG 19/9, SEKSYEN 9, BANDAR MAHKOTA CHERAS, 43200 CHERAS, SELANGOR GST REG NO: 001335787520 TAX INVOICE INV NO.: 1030720 CASHIER: NICOLE DATE : 05-03-2018 19:02:50 DESCRIPTION QTY U.PRICE TOTAL TAX MILO (B) 2 X 2.80 5.60 SR TAKE AWAY 2 X 0.20 0.40 SR TOTAL QTY:4 TOTAL (EXCLUDING GST): 5.66 GST PAYABLE (6%): 0.34 TOTAL (INCLUSIVE OF GST): 6.00 TOTAL: 6.00 CASH: 6.00 GST SUMMARY AMOUNT (RM) TAX (RM) SR (@ 6%) 5.66 0.34 \n",
      "********\n",
      "{'company': 'RSTORAN WAN SHENG', 'date': '05-03-2018', 'address': 'NO.2, JALAN TEMENGGUNG 19/9, SEKSYEN 9, BANDAR MAHKOTA CHERAS, 43200 CHERAS, SELANGOR', 'total': '6.00'}\n",
      "\n",
      "\n",
      "For id =  X51005441398\n",
      "BREWERY TAP DWNER BY CASTLE BLUE S/B (1035693-T) GST NO : 002108047360 AVTIVO PLAZA,LOT B-F-11, BLOCK B NO1.JALAN PJU 9/1,D'SARA AVEVUE BANDAR SRI D'SARA, 52000 XL TEL: +603-62629219 * GUEST CHECK * TABLE NO: D06 ORDER NO : 11649 DATE : 30/03/2018 # 8:13 PM GOODS SOLD ARE NON REFUNDABLE CASHIER : ORDER LOGIN WAITER : HARRY,PAING PRN ON : 30/03/2018 11:18 PM QTY ITEM RM *** DINE IN *** 1 TIGER 2 BUCKET - HH 95.00 SR 2 TIGER BUCKET- HH 1 CHICKEN WINGS 22.00 SR 1 FRENCH FRIES 12.00 SR 1 TIGER BUCKET- HH 50.00 SR 4 SUBTOTAL 179.00 GST @6%: 10.74 ROUNDING ADJ 0.01 NET TOTAL 189.75 - *** 30/03/2018 11:11 PM *** -- TAX SUMMARY AMOUNT TAX SR:GST @6% 179.00 10.74 THANK YOU, PLEASE COME AGAIN \n",
      "********\n",
      "{'company': 'OWNER BY CASTLE BLUE S/B', 'date': '30/03/2018', 'address': \"AVTIVO PLAZA,LOT B-F-11, BLOCK B NO1.JALAN PJU 9/1,D'SARA AVEVUE BANDAR SRI D'SARA, 52000 KL\", 'total': '189.75'}\n",
      "\n",
      "\n",
      "For id =  X51007846326\n",
      "LEMON TREE RESTAURANT JTJFOODS SDN BHD (1179227A) GST 001085747200 NO 3, JALAN PERMAS 10/8, BANDAR BARU PERMAS JAYA, 81750 MASAI, JOHOR 07 3823455 SIMPLIFIED TAX INVOICE INVOICE NO CS00014769 INVOICE DATE: 6/1/2018 6:42:02 PM WAITER: VANESSA JUN/2018 PAX TABLE 01 1 5 CUST #: C0001 NAME: CASH QTY DESCRIPTION AMT 1 X 205 - MEE MAMAK @9.80 9.80 SR 1 X X1 - SKY JUICE @0.50 0.50 SR ICE SUB TOTAL 10.30 GST @ 0% 0.00 ROUNDING ADJ 0.00 TOTAL AMOUNT 10.30 CASH 11.00 CHANGE AMT 0.70 ITEM COUNT: 2 GST SUMMARY SR AMOUNT 10.30 TAX 0.00 TOTAL 10.30 0.00 THANK YOU FOR YOUR PATRONAGE PLEASE COME AGAIN LIKE US ON FACEBOOK \n",
      "********\n",
      "{'company': 'LEMON TREE RESTAURANT JTJ FOODS SDN BHD', 'date': '6/1/2018', 'address': 'NO 3, JALAN PERMAS 10/8, BANDAR BARU PERMAS JAYA, 81750 MASAI, JOHOR', 'total': '10.30'}\n",
      "\n",
      "\n",
      "For id =  X51005749895\n",
      "MR. D.I.Y. (M) SDN BHD CO-REG:860671-D LOT 1851-A & 1851-B, JALAN KPB 6, KAWASAN PERINOUSTRIAN BALAKONG, 43300 SERI KEMBANGAN, SELANGOR (GST ID NO : 000306020352) (TESCO EXTRA ARA DAMANSARA) TAX INVOICE PILLAR SINK TAP FZ02 - 6/54 *S 9072351 2 X 23.90 47.80 SHIELDTOX FIK 600ML MP *S WA01 - 24 9556111988559 1 X 8.90 8.90 SPONGE KOREA-2S *S AR62 - 12/312 9064017 4 X 3.00 12.00 PLASTIC BAGS 99999 1 X 0.20 0.20 VANCE LIGHTER - 1S VT02 *S WB22 - 50/1000 9555258606166 5 X 0.60 3.00 ITEM(S) : 5 QTY(S) : 13 TOTAL INCL. GST@6% CASH CHANGE RM 71.90 RM 72.00 RM 0.10 GST SUMMARY GST S@6% AMT (RM) 67.83 TAX (RM) 4.07 02-03-18 17:23 SH01 ZJ42 T1 R000227410 OPERATOR TADC - AEIM ABDUL EXCHANGE ARE ALLOWED WITHIN 7 DAY WITH RECEIPT . STRICTLY NO CASH REFUND . \n",
      "********\n",
      "{'company': 'MR. D. I. Y. (M) SDN BHD', 'date': '02-03-18', 'address': 'LOT 1851-A & 1851-B, JALAN KPB 6, KAWASAN PERINDUSTRIAN BALAKONG, 43300 SERI KEMBANGAN, SELANGOR', 'total': '71.90'}\n",
      "\n",
      "\n",
      "For id =  X51005442361\n",
      "MORGANFIELD'S R HORNG OF SDCKY BONES TIME LESS KITCHENETTE SDN BHD COMPANY NO : 1174703-K GST REG NO : 0000 6771 0976 LOT 50, FLOOR T2,SKY AVENUE GENTING HIGHLANDS PAHANG, 69000 PAHANG MALAYSLA GUEST CHECK INVOICE NO: 000039121 DATE: 2018-03-23 CASHIER : MIZAN GENTING SERVER : OPEN: 18:43:34 TABLE: 25 PAX: 6 1 RIBS PLATTER SR 259.90 1 NAUGHTY SPARE RIB - FULL SR 106.90 SLAB 1 APPLE - 350ML SR 13.90 1 SOUR APPLE MOJITO SR 18.90 1 BERRY EASY SR 18.90 1 AUST RIB-EYE STEAK SR 74.90 1 FRUITY GARDEN SALAD SR 21.90 2 HH ASAHI 1+1/2 SR 77.80 SUB-TOTAL : 593.10 (INCLUSIVE) GST 6% 33.57 TOTAL : 19:32:35 TOTAL: 593.10 GST SUMM AMT (RM) TAX(RM) SR= 6% 559.53 33.57 OS= 0% 0.00 0 \n",
      "********\n",
      "{'company': 'TIMELESS KITCHENETTE SDN BHD', 'date': '2018-03-23', 'address': 'LOT 50, FLOOR T2,SKY AVENUE GENTING HIGHLANDS PAHANG, 69000 PAHANG MALAYSIA', 'total': '593.10'}\n",
      "\n",
      "\n",
      "For id =  X51005717526\n",
      "GERPANG ALAF RESTAURANTS SDN BHD (65351-M) FORMERLY KNOWN AS SOLDEN ARCHES RESTAURENTS SNN BHD LICENSEE OF MCDONALD'S LEVEL 6, BANGUNAN TH, DAMANSARA UPTOWN3 NO.3, JALAN SS21/39,  47400 PETALING JAYA SELANGOR (GST ID NO: 000504664064) MCDONALD'S RAWANG DT(#188) TEL NO. 03-6092-1968 TAX INVOICE MFY SIDE 1 INV# 001881904569068 ORD #15 -REG #19- 02/03/2018 12:59:16 QTY ITEM TOTAL 1 L MCCHICKEN 11.10 1 L COKE 1 L FRIES 1 6NUGGETS 7.50 1 BARBECUE SAUCE 1 AYAMGORENG(TA) 9.90 TAKEOUT TOTAL (INCL GST) 28.50 TOTAL ROUNDED 28.50 CASH TENDERED 50.00 CHANGE 21.50 TOTAL INCLUDES 6% GST 1.61 THANK YOU AND PLEASE COME AGAIN. \n",
      "********\n",
      "{'company': 'GERBANG ALAF RESTAURANTS SDN BHD', 'date': '02/03/2018', 'address': 'LEVEL 6, BANGUNAN TH, DAMANSARA UPTOWN3 NO.3, JALAN SS21/39, 47400 PETALING JAYA SELANGOR', 'total': '28.50'}\n",
      "\n",
      "\n",
      "For id =  X51005361907\n",
      "TEO HENG STATIONERY & BOOKS (001451637-M) NO. 53, JALAN BESAR, 45600 BATANG BERJUNTAI SELANGOR DARUL EHSAN TEL : 03-3271 9872 FAX : 03-3271 9481 GST NO. : 000689913856 SIMPLIFIED TAX INVOICE CASH RECEIPT NO. : CS1802/27714 DATE : 12/02/2018 GOODS SOLD ARE NOT RETURNABLE, THANK YOU. ITEM QTY U/P DISC% AMOUNT (RM) 9555067700208 9557583450025 4974052801334 9557546953990 6924238702311 9556655112694 9557369305006 10 1 1 1 2 1 2 10.57 17.45 2.70 0.85 0.85 8.40 3.96 0.00 0.00 0.00 0.00 0.00 0.00 0.00 105.66 * 17.45 * 2.70 * 0.85 * 1.70 * 8.40 * 7.92 * - IK YELLOW 70GRAMS - PAPYRUS DARK COLOUR PAPER - ARTLINE 70 - FASTER CX5N BALL PEN - CBE HANDYCUTTER - CBE A4 SIZE 20 POCKETS REFILLABLE NEW CLEAR HOLDER - EAGLE F4 120 NUMBERING FOOLSCAP BOOK TOTAL QTY. : 18 SUB-TOTAL (EX) TOTAL TAX ROUNDING TOTAL CASH CHANGE 144.68 144.68 8.68 -0.01 153.35 153.35 0.00 GST SUMMARY TAX CODE % AMOUNT (RM) TAX (RM) SR 6.00 144.68 8.68 TOTAL : 144.68 8.68 NOTE: (*) INDICATED THE ITEM SOLD HAS BEEN RELATED TO GST (GOODS & SERVICES TAX) \n",
      "********\n",
      "{'company': 'TED HENG STATIONERY & BOOKS', 'date': '12/02/2018', 'address': 'NO. 53, JALAN BESAR, 45600 BATANG BERJUNTAI SELANGOR DARUL EHSAN', 'total': '153.35'}\n",
      "\n",
      "\n",
      "For id =  X51006554833\n",
      "SIMPLIFIED TAX INVOICE AA PHARMACY SUBANG HEALTHCARE SDN 1118258-K GST NO: 001536708608 B-8, JALAN SS15/4D, 47500 SUBANG JAYA, SELANGOR TEL: 03-56127718 CASH RECEIPT #: CS00251915 DATE: 29/10/2017 SALESPERSON : C3 TIME: 20:18:00 CASHIER : C3 ITEM QTY U/P AMOUNT (GST) (GST) 030249 1 14.90 14.90 S (BOX 100S) SUPER SAFE POWDER FREE NITRIL 03022 1 14.00 14.00 S (S SIZE) SUPER SAFE LATEX GLOVE POWDER F TOTAL QUANTITY 2 SUB-TOTAL 27.27 DISC 0.00 GST 1.64 ROUNDING -0.01 TOTAL 28.90 CASH 28.90 CHANGE 0.00 GOODS SOLD ARE NOT RETURNABLE, THANK YOU. S=STANDARD RATED, Z=ZERO RATED GST SUMMARY CODE AMOUNT % TAX/AMT SR 27.27 6 1.64 TAX TOTAL: 1.64 BHD \n",
      "********\n",
      "{'company': 'SUBANG HEALTHCARE SDN BHD', 'date': '29/10/2017', 'address': 'B-8, JALAN SS15/4D, 47500 SUBANG JAYA, SELANGOR', 'total': '28.90'}\n",
      "\n",
      "\n",
      "For id =  X51006328913\n",
      "BEMED (SP) SDN. BHD. NO.49, JALAN DINAR G U3/G, SUBANG PERDANA, 40150 SHAH ALAM, SELANGOR D.E. 03-7845 8155 GST REG:001734164480 CASH RECEIPT CB# : 58273599475 02/JAN/2017 10:49:25 CASHIER : BE () QTY PRICE TOTAL ALPHA LIPID LIFE LINE 450MG 450G 1 165.00 165 SR 1 TYPE: 1 SUBTOTAL: 165.00 ROUNDING ADJ : 0.00 TOTAL INCLUSIVE GST: 165.00 MASTER 165.00 GST SUMMARY: AMOUNT TAX (MYR) (MYR) SR 155.00 9.34 ONG GUAT CHYE POINTS : 3,052 THANK YOU. PLEASE COME AGAIN. CODE&DESC 184810 \n",
      "********\n",
      "{'company': 'BEMED (SP) SDN BHD', 'date': '02/JAN/2017', 'address': 'NO.49, JALAN DINAR G U3/G, SUBANG PERDANA, 40150 SHAH ALAM, SELANGOR D.E.', 'total': '165.00'}\n",
      "\n",
      "\n",
      "For id =  X00016469612\n",
      "TAN WOON YANN BOOK TA .K(TAMAN DAYA) SDN BND 789417-W NO.53 55,57 & 59, JALAN SAGU 18, TAMAN DAYA, 81100 JOHOR BAHRU, JOHOR. DOCUMENT NO : TD01167104 DATE: 25/12/2018 8:13:39 PM CASHIER: MANIS MEMBER: CASH BILL CODE/DESC PRICE DISC AMOUNT QTY RM RM 9556939040116 KF MODELLING CLAY KIDDY FISH 1 PC * 9.000 0.00 9.00 TOTAL: ROUR DING ADJUSTMENT: 0.00 ROUND D TOTAL (RM): 9.00 CASH 10.00 CHANGE 1.00 GOODS SOLD ARE NOT RETURNABLE OR EXCHANGEABLE *** *** THANK YOU PLEASE COME AGAIN ! 9.00 \n",
      "********\n",
      "{'company': 'BOOK TA .K (TAMAN DAYA) SDN BHD', 'date': '25/12/2018', 'address': 'NO.53 55,57 & 59, JALAN SAGU 18, TAMAN DAYA, 81100 JOHOR BAHRU, JOHOR.', 'total': '9.00'}\n",
      "\n",
      "\n",
      "For id =  X51005605333\n",
      "POPULAR BOOK CP. (M) SDN BHD (COMPANY NO. 113825-W) (GST REG NO. 001492992000) NO 8, JALAN 7/118B, DESA TUN RAZAK 56000 KUALA LUMPUR, MALAYSIA KL FESTIVAL CITY MALL TEL: 03-41424540/20 07/01/18 14:41 SLIP NO,: 7010385084 NORHASMIDA TRANS: 364810 DESCRIPTION AMOUNT 70G P.COPY 450'S 3PC @ 13.69 41.07 T STAT-GREAT SAVING -9.60 TOTAL RM INCL. OF GST 31.47 ROUNDING ADJ -0.02 TOTAL RM 31.45 CASH -50.00 CHANGE 18.55 ITEM COUNT GST MARY AMOUNT (RM) TAX (RM) 3 T @ 6% 29.69 1.78 TOTAL SAVINGS -9.60 BE A POPULAR CARD MEMBER AND ENJOY SPECIAL DISCOUNTS THANK YOU. PLEASE COME AGAIN. WWW.POPULAR.COM.MY BUY CHINESE BOOKS ONLINE WWW.POPULARONLINE.COM.MY \n",
      "********\n",
      "{'company': 'POPULAR BOOK CO. (M) SDN BHD', 'date': '07/01/18', 'address': 'NO 8, JALAN 7/118B, DESA TUN RAZAK 56000 KUALA LUMPUR, MALAYSIA KL FESTIVAL CITY MALL', 'total': '31.45'}\n",
      "\n",
      "\n",
      "For id =  X51005712021\n",
      "HAPPY SNACKS ENTYERPRISE (002022599 - U) 19 & 19A, JALAN MERANTI 2A, SEKSYEI BANDAR BARU BATANG KALI, 44300 03-60570314 HAPPYSNACKS69@HOTMAIL.COM GST REG NO: 000129863680 BILL NO : HP01-188357 DATE : 20/03/2018 1:11:38 PM CASHIER TAX INVOICE DESCRIPTION QTY PRICE AMOUNT 1 SR 9556173380636 1 14.31 14.31 *350PCS FRUIT PLUS-APPLE 2 SR 9556296307411 1 12.51 12.51 300PCSLOT100CANDY - ASSORTED TOTAL: 26.82 0.00 TOTAL SALES INCLUSIVE GST: 26.82 ROUNDING ADJUSTMENT: -0.02 AMOUNT TO BE PAID: 26.80 CASH RECEIVED: 50.00 CHANGE: 23.20 GST SUMMARY TAX CODE % TAXABLE AMOUNT GST SR 6.00 25.30 1.52 GST: 1.52 * GST INCLUDE ITEM THANK YOU. PLEASE COME AGAIN. : 123 \n",
      "********\n",
      "{'company': 'HAPPY SNACKS ENTERPRISE', 'date': '20/03/2018', 'address': '19 & 19A, JALAN MERANTI 2A, SEKSYEI BANDAR BARU BATANG KALI, 44300', 'total': '26.82'}\n",
      "\n",
      "\n",
      "For id =  X00016469620\n",
      "TAN WOON YANN MR D.T.Y. (JOHOR) SDN BHD (CO.REG : 933109-X) LOT 1851-A & 1851-B, JALAN KPB 6, KAWASAN PERINDUSTRIAN BALAKONG, 43300 SERI KEMBANGAN, SELANGOR (MR DIY TESCO TERBAU) -INVOICE- CHOPPING BOARD 35.5X25.5CM 803M# EZ10HD05 - 24 8970669 1 X 19.00 19.00 AIR PRESSURE SPRAYER SX-575-1 1.5L HC03-7 - 15 9066468 1 X 8.02 8.02 WAXCO WINDSHILED CLEANER 120ML WA14-3A - 48 9557031100236 1 X 3.02 3.02 BOPP TAPE 48MM*100M CLEAR FZ-04 - 36 6935818350846 1 X 3.88 3.88 ITEM(S) : 4 QTY(S) : 4 TOTAL RM 33.92 ROUNDING ADJUSTMENT -RM 0.02 TOTAL ROUNDED RM 33.90 CASH RM 50.00 CHANGE RM 16.10 12-01-19 21:13 SH01 ZK09 T4 R000027830 OPERATOR TRAINEE CASHIER EXCHANGE ARE ALLOWED WITHIN 7 DAYS WITH RECEIPT. STRICTLY NO CASH REFUND. \n",
      "********\n",
      "{'company': 'MR D.I.Y. (JOHOR) SDN BHD', 'date': '12-01-19', 'address': 'LOT 1851-A & 1851-B, JALAN KPB 6, KAWASAN PERINDUSTRIAN BALAKONG, 43300 SERI KEMBANGAN, SELANGOR (MR DIY TESCO TERBAU)', 'total': '33.90'}\n",
      "\n",
      "\n",
      "For id =  X51006414700\n",
      "AEON CO. (M) BHD (126926-H) 3RD FLR, AEON TAMAN MALURI SC JLN JEJAKA, TAMAN MALURI CHERAS, 55100 KUALA LUMPUR GST ID : 002017394688 SHOPPING HOURS SUN-THU:1000 HRS - 2230 HRS FRI-SAT:1000 HRS - 2300 HRS 1X 000000417969 4.00SR GREEN PEA CHEES 1X 000000418294 BIG NUT BREAD 3.90SR 1X 000000418218 ONION CHEESE 2.30SR SUB-TOTAL 10.20 TOTAL SALES INCL GST 10.20 TOTAL AFTER ADJ INCL GST 10.20 CASH 10.20 ITEM COUNT 3 INVOICE NO: 2018042210100260452 GST SUMMARY AMOUNT TAX SR @ 6% 9.62 0.58 TOTAL 9.62 0.58 22/04/2018 19:29 1010 026 0260452 0304271 PJ NORSYAZWANA AEON PERMAS JAYA TEL 1-300-80-AEON (2366) THANK YOU FOR YOUR PATRONAGE PLEASE COME AGAIN CHANGE AMT 0.00 \n",
      "********\n",
      "{'company': 'AEON CO. (M) SDN BHD', 'date': '22/04/2018', 'address': '3RD FLR, AEON TAMAN MALURI SC JLN JEJAKA, TAMAN MALURI CHERAS, 55100 KUALA LUMPUR', 'total': '10.20'}\n",
      "\n",
      "\n",
      "For id =  X51006555570\n",
      "SIMPLIFIED TAX INVOICE AA PHARMACY SUBANG HEALTHCARE SDN 1118258-K GST NO: 001536708608 B-8, JALAN SS15/4D, 47500 SUBANG JAYA, SELANGOR TEL: 03-56127718 CASH RECEIPT #: CS00224314 DATE: 11/08/2017 SALESPERSON : TIME: 19:46:00 CASHIER : C1 ITEM QTY U/P AMOUNT (GST) (GST) 1394 1 57.00 57.00 S (UNIT) WAYCARE WOUND DRESSING WATERPROOF 2045179052519 1 5.30 5.30 S (BOX 100S) AROS NON -WOWEN SWAB ALCOHOL P 9557037001049 1 3.90 3.90 S (EACH) PAN MATE COTTON BUDS 4DOTIPS 8896 3 1.70 5.10 S (UNIT) UNIGLOVES STERILE GAUZE SWAB 10CM 9556250921884 1 6.80 6.80 Z (1 BOX) GENTAMICIN CREAM TOTAL QUANTITY 7 SUB-TOTAL 74.06 DISC 0.00 GST 4.04 ROUNDING 0.00 TOTAL 78.10 DEBIT CARD 78.10 CHANG 0.00 GOODS SOLD ARE NOT RETURNABLE, THANK YOU. S=STANDARD RATED, Z=ZERO RATED GST SUMMARY CODE AMOUNT % TAX/AMT SR 67.26 6 4.04 ZRL 6.80 0 0.00 TAX TOTAL: 4.04 BHD \n",
      "********\n",
      "{'company': 'SUBANG HEALTHCARE SDN BHD', 'date': '11/08/2017', 'address': 'B-8, JALAN SS15/4D, 47500 SUBANG JAYA, SELANGOR', 'total': '78.10'}\n",
      "\n",
      "\n"
     ]
    }
   ],
   "source": [
    "# view error files\n",
    "# print_data(missed_dict['company'])"
   ]
  },
  {
   "cell_type": "markdown",
   "metadata": {},
   "source": [
    "# Company Names  WIll be corrected manually"
   ]
  },
  {
   "cell_type": "code",
   "execution_count": 85,
   "metadata": {},
   "outputs": [
    {
     "data": {
      "text/plain": [
       "['X51005712038',\n",
       " 'X51005749905',\n",
       " 'X51005715451',\n",
       " 'X51005711451',\n",
       " 'X51005441398',\n",
       " 'X51007846326',\n",
       " 'X51005749895',\n",
       " 'X51005442361',\n",
       " 'X51005717526',\n",
       " 'X51005361907',\n",
       " 'X51006554833',\n",
       " 'X51006328913',\n",
       " 'X00016469612',\n",
       " 'X51005605333',\n",
       " 'X51005712021',\n",
       " 'X00016469620',\n",
       " 'X51006414700',\n",
       " 'X51006555570']"
      ]
     },
     "execution_count": 85,
     "metadata": {},
     "output_type": "execute_result"
    }
   ],
   "source": [
    "missed_dict['company']"
   ]
  },
  {
   "cell_type": "markdown",
   "metadata": {},
   "source": [
    "## After Corrections "
   ]
  },
  {
   "cell_type": "code",
   "execution_count": 86,
   "metadata": {},
   "outputs": [
    {
     "name": "stderr",
     "output_type": "stream",
     "text": [
      "100%|██████████| 626/626 [00:00<00:00, 1086.56it/s]\n"
     ]
    },
    {
     "data": {
      "text/plain": [
       "142"
      ]
     },
     "execution_count": 86,
     "metadata": {},
     "output_type": "execute_result"
    }
   ],
   "source": [
    "train_dict,missed,missed_dict = check(tmp_keys)\n",
    "len(missed)"
   ]
  },
  {
   "cell_type": "code",
   "execution_count": 87,
   "metadata": {},
   "outputs": [
    {
     "data": {
      "text/plain": [
       "[]"
      ]
     },
     "execution_count": 87,
     "metadata": {},
     "output_type": "execute_result"
    }
   ],
   "source": [
    "missed_dict['company']"
   ]
  },
  {
   "cell_type": "markdown",
   "metadata": {},
   "source": [
    "# Correcting Address <a id = 'address'></a>"
   ]
  },
  {
   "cell_type": "code",
   "execution_count": 88,
   "metadata": {
    "collapsed": true
   },
   "outputs": [
    {
     "name": "stdout",
     "output_type": "stream",
     "text": [
      "For id =  X00016469672\n",
      "TAN CHAY YEE SOON HUAT MACHINERY ENTERPRISE (JM0352019-K) NO.53 JALAN PUTRA 1, TAMAN SRIPUTRA, 81200 JOHOR BAHRU JOHOR TEL : 07-5547360 / 016-7993391 FAX : 07-5624059 SOONHUAT2000@HOTMAIL.COM GST ID : 002116837376 CASH SALES DOC NO. : CS00004040 DATE: 11/01/2019 CASHIER : USER TIME: 09:44:00 SALESPERSON : REF.: GOODS SOLD ARE NOT RETURNABLE, THANK YOU. ITEM QTY S/PRICE S/PRICE AMOUNT TAX 1072 1 80.00 80.00 80.00 REPAIR ENGINE POWER SPRAYER (1UNIT) WORKMANSHIP & SERVICE 70549 1 160.00 160.00 160.00 GIANT 606 OVERFLOW ASSY 1071 1 17.00 17.00 17.00 ENGINE OIL 70791 1 10.00 10.00 10.00 GREASE FOR TOOLS 40ML (AKODA) 70637 1 6.00 6.00 6.00 EY20 PLUG CHAMPION 1643 1 8.00 8.00 8.00 STARTER TALI 70197 1 10.00 10.00 10.00 EY20 STARTER HANDLE 70561 2 18.00 18.00 36.00 HD40 1L COTIN TOTAL QTY: 9 327.00 TOTAL SALES : 327.00 DISCOUNT : 0.00 TOTAL : 0.00 ROUNDING : 0.00 TOTAL SALES : 327.00 CASH : 327.00 CHANGE : 0.00 \n",
      "********\n",
      "{'company': 'SOON HUAT MACHINERY ENTERPRISE', 'date': '11/01/2019', 'address': 'NO.53 JALAN PUTRA 1, TAMAN SRI PUTRA, 81200 JOHOR BAHRU JOHOR', 'total': '327.00'}\n",
      "\n",
      "\n",
      "For id =  X51006387812\n",
      "TIMES BOOKSTORES LOT F21 @ 22, CITTA MALL NO 1, JLN PJU 1A/4 47301 GST REG NO : 000423100416 GOODS SOLD ARE NOT REFUNDABLE. EXCHANGEABLE WITHIN 14 DAYS OF OURCHASE. CASH SALES NO: 199176 9RH/TER/SHFT: 49 T01 1 POSTED PRODUCT DESCRIPTION UNIT PRICE QTY DISC GST AMOUNT 4902505482038 S 1.41 1 4902505463303 S 5.56 1 4902505911026 S 4.71 1 PILOT 8P-1RT BALLPOINT PE PILOT FUDE MAKASE BRUSH P PILOT M.PENCIL S.GRIP 05# 0.00 0.08 1.49 0.00 0.33 5.89 0.00 0.28 4.99 TOTAL QTY 3 TOTAL ROUNDING ADJUSTMENTS TENDERED-CASH CHANGE RM RM RM RM 12.37 -0.02 50.00 37.65 * NETT PRICE ITEM GST SUMMARY AMOUNT(RM) TAX(RM) S(6%) Z(0%) 11.68 0.00 0.69 0.00 DATE: 23/04/2017 TIME: 10.00.53PM FOR FEEDBACK, EMAIL TO TIMESBOOKSTORES@TPG.COM.MY OR CALL 03-56360199 ODER: M4980302 DOER: M4980302 \n",
      "********\n",
      "{'company': 'TIMES BOOKSTORES', 'date': '23/04/2017', 'address': 'LOT F21 & 22, CITTA MALL NO 1, JLN PJU 1A/4 47301', 'total': '12.37'}\n",
      "\n",
      "\n",
      "For id =  X51005442333\n",
      "UNIHAKKA INTERNATIONAL SDN BHD 27 MAR 2018 18:46 (867388-U) 12,JALAN TAMPOI 7/4,KAWASAN PERINDUSTRIAN TAMPOL,81200 JOHOR BAHRU,JOHOR TAX INVOICE INVOICE #:OR18032702170334 ITEM QTY TOTAL SR I00100000056-FRIED NOODLE(S) $2.00 1 $2.00 SR I00100000006-PORK $2.70 1 $2.70 SR I00100000015-VEGETABLE $1.10 2 $2.20 TOTAL AMOUNT:$6.90 GST @6%:$0.39 NETT TOTAL:$6.90 PAYMENT MODE AMOUNT CASH $6.90 CHANGE $0.00 GST SUMMARY AMOUNT($) TAX($) SR=GST @6% 6.51 0.39 GST REG #000656195584 BAR WANG RICE@PERMAS JAYA (PRICE INCLUSIVE OF GST) THANK YOU & COME AGAIN! LIKE AND FOLLOW US ON FACEBOOK! FACEBOOK.COM/BARWANGRICE \n",
      "********\n",
      "{'company': 'UNIHAKKA INTERNATIONAL SDN BHD', 'date': '27 MAR 2018', 'address': '12, JALAN TAMPOI 7/4,KAWASAN PARINDUSTRIAN TAMPOI,81200 JOHOR BAHRU,JOHOR', 'total': '$6.90'}\n",
      "\n",
      "\n",
      "For id =  X51007846398\n",
      "UNIHAKKA INTERNATIONAL SDN BHD 22 JUN 2018 18:07 (867388-U) 12, JALAN TAMPOI 7/4,KAWASAN PERINDUSTRIAN TAMPOI,81200 JOHOR BAHRU, JOHOR TAX INVOICE INVOICE # : OR18062202170372 ITEM QTY TOTAL SR I00100000170- IMPORTED VEGGIES RM1.50 SR I00100000031- 3 VEGE RM4.15 SR I00100000171-MEAT DISH RM2.83 1 1 1 RM1.50 RM4.15 RM2.83 TOTAL AMOUNT: RM8.48 GST @0%: RM0.00 ROUNDING: RM0.02 NETT TOTAL: RM8.50 PAYMENT MODE CASH CHANGE AMOUNT RM8.50 RM0.00 GST SUMMARY SR = GST @0% AMOUNT(RM) 8.48 TAX(RM) 0.00 GST REG #000656195584 BAR WANG RICE@PERMAS JAYA THANK YOU & COME AGAIN! LIKE AND FOLLOW US ON FACEBOOK! FACEBOOK.COM/BARWANGRICE \n",
      "********\n",
      "{'company': 'UNIHAKKA INTERNATIONAL SDN BHD', 'date': '22 JUN 2018', 'address': '12, JALAN TAMPOL 7/4,KAWASAN PERINDUSTRIAN TAMPOI,81200 JOHOR BAHRU,JOHOR', 'total': 'RM8.50'}\n",
      "\n",
      "\n",
      "For id =  X51005361898\n",
      "TEO HENG STATIONERY & BOOKS (001451637-M) NO. 53, JALAN BESAR, 45600 BATANG BERJUNTAI SELANGOR DARUL EHSAN TEL : 03-3271 9872 GST NO. : 000689913856 SIMPLIFIED TAX INVOICE CASH RECEIPT NO. : CS1801/26717 ITEM QTY U/P DISC% AMOUNT 9556655864036 1 26.42 9.14 24.00 * - CBE BADGE CLIP 100PCS 9555535000663 1 28.00 0.00 28.00 * - NISO A4 LAMINATING FILM TOTAL QTY. : 2 52.00 SUB-TOTAL (EX) : 52.00 TOTAL TAX : 3.12 ROUNDING : -0.02 TOTAL : 55.10 CASH : 55.10 CHANGE : 0.00 GST SUMMARY TAX CODE % AMOUNT(RM) TAX(RM) SR 6.00 52.00 3.12S TOTAL : 52.00 3.12 NOTE:(*) INDICATED THE ITEM SOLD HAS BEEN RELATED TO GST (GOODS & SERVICES TAX) GOODS SOLD ARE NOT RETURNABLE, THANK YOU. FAX : 03-3271 9481 DATE : 15/01/2018 (RM) \n",
      "********\n",
      "{'company': 'TEO HENG STATIONERY & BOOKS', 'date': '15/01/2018', 'address': 'NO.53, JALAN BESAR, 45600 BATANG BEJUNTAL SELANGOR DARUL EHSAN', 'total': '55.10'}\n",
      "\n",
      "\n",
      "For id =  X51006387813\n",
      "TOKYO KITCHEN (CITTA MALL) TOKYO KITCHEN SDN BHD (945402-P) G-26, GRD FLOOR,CITTA MALL, NO 1, JALAN PJU, 1A/4B, JLN PJU 1,ARA DAMANSARA, 47301 PETALING JAYA. SELANGOR. GST REG. NO : 002007515136 TAX INVOICE TABLE D2 POSTED ORDER#. 149308 BILL#: V007- 147795 PAX(S): 4 DATE : 23-04-2017 21:04:28 POWERED BY WWW.MYSIS.COM.MY CASHIER: JIMIE DESCRIPTION QTY U.PRICE TOTAL TAX SALMON TERIYAKI WAZEN CHICKEN SALAD & SASHIMI GOZEN CHICKEN KATSU CURRY WAZEN SABA TERIYAKI WAZEN 1 X 1 X 1 X 1 X 25.90 25.90 19.90 25.90 25.90 25.90 19.90 25.90 SR SR SR SR TOTAL (EXCLUDING GST): SERV. CHARGE (10%): GST PAYABLE: TOTAL (INCLUSIVE OF GST): 97.60 9.76 6.44 113.80 TOTAL: 113.80 CLOSED: 1528 23-04-2017 21:42:00 SERVER: PETER VISA 113.80 - ************7501 - WONG TAI CHIN - %B42 GST SUMMARY AMOUNT(RM) TAX(RM) SR (@ 6%) 107.36 6.44 (GUEST SIGNATURE) THANK YOU PLEASE COME AGAIN \n",
      "********\n",
      "{'company': 'TOKYO KITCHEN (CITTA MALL) TOKYO KITCHEN SDN BHD', 'date': '23-04-2017', 'address': 'G-26, GRD FLOOR,CITTA MALL, NO 1, JALAN PJU, 1A/4B, JLN PJU 1,ARA DAMANSARA, 47301 PETALING JAYA, SELANGOR.', 'total': '113.80'}\n",
      "\n",
      "\n",
      "For id =  X00016469619\n",
      "TAN WOON YANN INDAH GIFT & HOME DECO 27,JALAN DEDAP 13, TAMAN JOHOR JAYA, 81100 JOHOR BAHRU,JOHOR. TEL:07-3507405 FAX:07-3558160 RECEIPT 19/10/2018 20:49:59 #01 CASHIER: CN LOCATION/SP: 05 /0531 MB: MO26588 ROOM NO: 01 050100035279 DESC/ITEM QTY PRICE AMT(RM) ST-PRIVILEGE CARD/GD INDAH 88888 1 10.00 10.00 GF-TABLE LAMP/STITCH <I> 62483 1 55.90 55.90 @DISC 10.00% -5.59 #TOTAL QTY 2 TOTAL AMT................. RM 60.31 ROUNDING ADJ............ -0.01 RM 60.30 CASH.................... RM 70.30 CHANGE.................. RM 10.00 THANK YOU ! PLEASE COME AGAIN ! GOODS SOLD ARE NOT RETURNABLE THANK YOU ! FLEASE COME AOSIN ! GOODS SOLD ARE NOT RETURNABLE DEALING IN WHOLESALE AND RETAIL. \n",
      "********\n",
      "{'company': 'INDAH GIFT & HOME DECO', 'date': '19/10/2018', 'address': '27, JALAN DEDAP 13, TAMAN JOHOR JAYA, 81100 JOHOR BAHRU, JOHOR.', 'total': '60.30'}\n",
      "\n",
      "\n",
      "For id =  X51005749905\n",
      "ENW HARDWARE CENTRE (M) SDN. BHD. CO. REG. NO. : 795225-A GST REG. NO. : 000155453440 NO: G3, BLK G, JLN PJU 1A/3, ARA DAMANSARA, 47301 PETALING JAYA, SELANGOR DARUL EHSAN. TEL : 03-7832 6929 , 012-659 9829 10/03/2018 TAX INVOICE NO. :CS00230322 CASH SALE (ARA D'SARA) TEL: 03-7832 6929 H/P: 012-659 9829 ITEM QTY U.PRICE RM 001533 1.00 19.00 19.00 SR 2KGS. WOOD LACQUER THINNER 000920 1.00 10.00 10.00 SR 1.5KG. UFIXX PUTTY FILLER. 006828 2.00 2.50 5.00 SR 100# X 8\" X 45M SAND PAPER ROLL. TOTAL AMT INCL. GST @ 6% : 34.00 ROUNDING ADJUSMENT : 0.00 TOTAL AMT PAYABLE : 34.00 TOTAL QTY TENDER : 4 GST SUMMARY SR = 6% AMOUNT (RM) 32.07 GST (RM) 1.93 POINT : 0.00 *GOODS SOLD ARE NOT RETURNABLE THANK YOU FOR SHOPPING AT ENW HARDWARE CENTRE (M) SDN. BHD. \n",
      "********\n",
      "{'company': 'ENW HARDWARE CENTRE (M) SDN. BHD. CO.', 'date': '10/03/2018', 'address': 'NO: G3, BLK G, JIN PJU 1A/3, ARA DAMANSARA, 47301 PETALING JAYA, SELANGOR DARUL EHSAN.', 'total': '34.00'}\n",
      "\n",
      "\n",
      "For id =  X51005745188\n",
      "SLF CASH & CARRY NO.15,JLN TSJ2,TMN SUBANG JASA, OFF JLN BT 3 SUBANG, 40000 SHAH ALAM, SEL. GST NO: 001169362944 TEL: 03-77343662 FAX: TAX INVOICE CASH RECEIPT #: CS00241867 DATE: 02/02/2018 SALESPERSON : TIME: 08:31:00 CASHIER : KELLY ITEM QTY U/P AMOUNT 6194020100124 4 11.32 45.28 S (UNIT) ROYAL BAKING POWDER 450G TOTAL QUANTITY 4 SUB-TOTAL 45.28 DISC 0.00 TAX 0.00 ROUNDING 0.00 TOTAL 48.00 CASH 48.00 CHANGE 0.00 GOODS SOLD ARE NOT RETURNABLE, THANK YOU. GST SUMMARY CODE AMOUNT % TAX/AMT SR 45.28 6 2.72 TAX TOTAL: 2.72 \n",
      "********\n",
      "{'company': 'SLF CASH & CARRY', 'date': '02/02/2018', 'address': 'NO.15, JLN TSJ2,TMN SUBANG JASA, OFF JLN BT 3 SUBANG, 40000 SHAH ALAM, SEL.', 'total': '48.00'}\n",
      "\n",
      "\n",
      "For id =  X51005719864\n",
      "FUN N CHEER (MALURI) LOT 37636 , JALAN 6/37A , TAMAN BUKIT MALURI , 52100 KUALA LUMPUR TEL : 03-62612536 TAX INVOICE (GST ID NO . : 001439154176) 05/01/2018 CASHIER : CS01 11 : 44 : 44 S/P : MAL NO : 0200419363 ITEM/DESC . QTY PRICE AMT . KAIN BEBOLA (S) SHA BU 0412638 2 TOTAL QTY 2 14.90 SR 29.80 TOTAL EXCL,GST ADD : GST @ 6% ON 28.11 1.69 CASH CHANGE 29.80 50.00 20.20 GST SUMMARY AMOUNT RM TAX RM SR = 6% 28.11 1.69 0.00 0.00 GOODS SOLD ARE NOT RETURNABLE ! THANK YOU ! PLEASE COME AGAIN ! \n",
      "********\n",
      "{'company': 'FUN N CHEER (MALURI)', 'date': '05/01/2018', 'address': 'LOT 37636 , JALAN 6/37A, TAMAN BUKIT MALURI , 52100 KUALA LUMPUR', 'total': '29.80'}\n",
      "\n",
      "\n",
      "For id =  X51005715451\n",
      "3-1708032 POPULAR BOOK CO. (M) SDN BHD (CO. NO. 113821-W) (GST REG NO. 001492992000) NO 8, JALAN 7/1188, BESA TAN RAZAK 56000 KUALA LUMPUR, MALAYSIA KSL CITY TEL: 017-7765076 / 7765987 06/02/18 18:47 SLIP NO.: 0010291725 CHEAH PEI NI TRANS: 246761 DESCRIPTION AMOUNT CORR. PEN ZLI-W 7.65 T PB F/ RING FILE W/CLI 6.99 T TOTAL RM INCL. OF GST 14.64 ROUNDING ADJ 0.01 TOTAL RM 14.65 CASH -50.00 CHANGE 35.35 ITEM COUNT GST SUMMARY AMOUNT (RM) TAX (RM) 2 T @ 6% 13.81 0.83 TOTAL SAVINGS 0.00 BE A POPULAR CARD MEMBER AND ENJOY SPECUAL DUSCOUNTS THANK YOU. PLEASE COME AGAUR. WWW.POPULAR.COM.MY BUY CHINESE BOOKS ONLINE WWW.POPULARONLINE.COM.MY \n",
      "********\n",
      "{'company': 'POPULAR BOOK CO. (M) SDN BHD', 'date': '06/02/18', 'address': 'NO 8, JALAN 7/118B, DESA TAN RAZAH 56000 KUALA LUMPUR, MALAYSIA KSL CITY', 'total': '14.65'}\n",
      "\n",
      "\n",
      "For id =  X51006620181\n",
      "NADEJE PLATINUM SDN BHD GK101,GND FLR,ONE UTAMA SHOPPING CENTRE NO.1,LEBUH BANDAR UTAMA, 47800 PETALING JAYA, SELANGOR. TEL:03-7710 0302 GST ID:001151160320 BILL NO.: 000-049909 DATE: 2016/05/01 14:11:20 TAKE OUT DOUBLECOCO SLICE MOTHER'S SLICES TIRAMISU SLICE CHEESE SLICE 1 1 1 1 RM12.60 RM13.50 RM12.60 RM12.60 GRAND TOTAL RM51.30 (BILL INCLUSIVE OF 6% GST : RM2.90) CASH RM51.30 002-2016/05/01 14:13:10 ELIN (1) 000-049909 [1] \n",
      "********\n",
      "{'company': 'NADEJE PLATINUM SDN BHD', 'date': '2016/05/01', 'address': 'GK 101,GND FLR,ONE UTAMA SHOPPING CENTRE NO.1,LEBUH BANDAR UTAMA, 47800 PETALING JAYA, SELANGOR.', 'total': 'RM51.30'}\n",
      "\n",
      "\n",
      "For id =  X51007846302\n",
      "MOONLIGHT CAKE HOUSE SDN BHD 862725-U (GST REG NO: 001559298048) NO.1, JALAN PERMAS 10/5, BANDAR BARU PERMAS JAYA 81750 JOHOR BAHRU, JOHOR, TEL NO.: 07-387 3322 WWW.MOONLIGHTCAKE.COM TABLE : COUNTER INVOICE NO: SP-NULL-18/06/09-1018481 DATE : 09/06/2018 18:47:29 PAYMENT TYPE: CASH MEMBER NUMBER : 3000000100068587 TAKE AWAY T-BUTTER SUGAR BUN *# DISCOUNT T-COOKIE CREAM BUN *# DISCOUNT T-GREEN TEA MOCHI *# DISCOUNT T-PASTRY CHICKEN FLOSS *# DISCOUNT T-SAHA BREAD *# DISCOUNT 1 1 1 1 1 RM2.25 RM-0.45 RM3.20 RM-0.16 RM3.30 RM-0.16 RM3.20 RM-0.16 RM4.60 RM-0.23 ST ST ST ST ST TOTAL (INCL GST, 0%) RM15.39 ROUNDING RM0.01 GRAND TOTAL RM15.40 TOTAL PAID CHANGE RM50.00 RM34.60 DISCOUNT SUMMARY DISCOUNT RM1.16 GST SUMMARY GST SUMMARY ST = 0% NS = 0% ITEM 5 0 AMOUNT(RM) 15.39 0.00 GST(RM) 0.00 0.00 09/06/2018 18:47:30 \n",
      "********\n",
      "{'company': 'MOONLIGHT CAKE HOUSE SDN BHD', 'date': '09/06/2018', 'address': 'NO.1, JALAN PERMAS 10/5, BANDAR BARU PERMAS JAYA 81750 JOHOR BAHRU, JOHOR.', 'total': 'RM15.40'}\n",
      "\n",
      "\n",
      "For id =  X51005677328\n",
      "SYARIKAT PERNIAGAAN GIN KEE (81109-A) NO 290. JALAN AIR PANAS. SETAPAK. 53200. KUALA LUMPUR. TEL : 03-40210276 GST ID: 000750673920 SIMPLIFIED TAX INVOICE CASH DOC NO. : CS00013254 DATE: 12/02/2018 CASHIER : USER TIME: 15:29:00 SALESPERSON : REF.: ITEM QTY S/PRICE AMOUNT TAX 1921 1 5.30 5.30 SR NAIL (PER/PACK) - RM5 TOTAL QTY: 1 5.30 TOTAL SALES (EXCLUDING GST) : 5.00 DISCOUNT : 0.00 TOTAL GST : 0.30 ROUNDING : 0.00 TOTAL SALES (INCLUSIVE OF GST) : CASH : CHANGE : 5.30 5.30 0.00 GST SUMMARY TAX CODE % AMT (RM) TAX (RM) SR 6 5.00 0.30 TOTAL : 5.00 0.30 GOODS SOLD ARE NOT RETURNABLE. THANK YOU. \n",
      "********\n",
      "{'company': 'SYARIKAT PERNIAGAAN GIN KEE', 'date': '12/02/2018', 'address': 'NO 290, JALAN AIR PANAS, SETAPAK, 53200, KUALA LUMPUR.', 'total': '5.30'}\n",
      "\n",
      "\n",
      "For id =  X51005268400\n",
      "RESTORAN HASSANBISTRO NO.2-1-1 JALAN SETIA PRIMA Q U 13/Q SETIA ALAM 40170 SHAM ALAM SELANGOR TAX INVOICE TERMINAL : C1 2017-12-28 22:17PM THANK YOU.COME AGAIN CASHIER : HASSAN 0.00 BILL NO : C1-0170778 RM DATE : 12/28/2017 10:17:32 PM CHANGE TOKEN : CT1 15.00 TABLE : CT1 RM PR QTY U.PRICE GST TOTAL MAKANAN 1 15.00 0 15.00 ZR TOTAL ITEMS = 1.00 TOTAL QTY = 1.00 SUB TOTAL RM 15.00 DISCOUNT RM 0.00 TOTAL EXCL .6% GST RM 15.00 GST 6% RM 0.00 TOTAL INCL .6% GST RM 15.00 ROUNDING RM 0.00 CASH T \n",
      "********\n",
      "{'company': 'RESTORAN HASSANBISTRO', 'date': '12/28/2017', 'address': 'NO.2-1-1 JALAN SEITA PRIMA Q U 13/Q SEITA ALAM 40170 SHAN ALAM SELANGOR', 'total': '15.00'}\n",
      "\n",
      "\n",
      "For id =  X00016469669\n",
      "TAN CHAY YEE ABC HO TRADING NO.2&4,JALAN HARMONI 3/2, TAMAN DESA HARMONI. 81100 JOHOR BAHRU JOHOR 07-355 2616 CASH BILL : 01-143008 DATE : 09/01/2019 8:01:11 PM CASHIER : 01 DESCRIPTION QTY PRICE AMOUNT RM RM PLASTIC 2 15.50 31.00 TOTAL : 31.00 TOTAL AMOUNT: 31.00 CASH RECEIVED : 101.00 CHANGE : 70.00 *GOODS SOLD ARE NON-REFUNDABLE* ***THANK YOU*** ***PLEASE COME AGAIN*** \n",
      "********\n",
      "{'company': 'ABC HO TRADING', 'date': '09/01/2019', 'address': 'NO.2&4, JALAN HARMONI 3/2, TAMAN DESA HARMONI. 81100 JOHOR BAHRU JOHOR', 'total': '31.00'}\n",
      "\n",
      "\n",
      "For id =  X51005677329\n",
      "SYARIKAT PERNIAGAAN GIN KEE (81109-A) NO 290. JALAN AIR PANAS. SETAPAK. 53200. KUALA LUMPUR. TEL:03-40210276 GST ID: 000750673920 SIMPLIFIED TAX INVOICE CASH DOC NO. : CS00013251 DATE: 12/02/2018 CASHIER : USER TIME: 14:31:00 SALESPERSON : REF.: ITEM QTY S/PRICE AMOUNT TAX 1099 3 90.10 270.30 SR 110MM X 5.8M UNDERGROUND PIPE TOTAL QTY: 3 270.30 TOTAL SALES (EXCLUDING GST) : 255.00 DISCOUNT : 0.00 TOTAL GST : 15.30 ROUNDING : 0.00 TOTAL SALES (INCLUSIVE OF GST) : 270.30 CASH : 270.30 CHANGE : 0.00 GST SUMMARY TAX CODE % AMT(RM) TAX(RM) SR 6 255.00 15.30 TOTAL : 255.00 15.30 GOODS SOLD ARE NOT RETURNABLE, THANK YOU. \n",
      "********\n",
      "{'company': 'SYARIKAT PERNIAGAAN GIN KEE', 'date': '12/02/2018', 'address': 'NO 290, JALAN AIR PANAS, SETAPAK, 53200, KUALA LUMPUR.', 'total': '270.30'}\n",
      "\n",
      "\n",
      "For id =  X51007846270\n",
      "MOONLIGHT CAKE HOUSE SDN BHD 862725-U (GST REG NO: 001559298048) NO.1, JALAN PERMAS 10/5, BANDAR BARU PERMAS JAYA 81750 JOHOR BAHRU, JOHOR, TEL NO.: 07-387 3322 WWW.MOONLIGHTCAKE.COM TABLE : COUNTER INVOICE NO: SP-NULL-18/06/04-1016956 DATE : 04/06/2018 18:17:54 PAYMENT TYPE: CASH MEMBER NUMBER : 3000000100068587 TAKE AWAY BUTTER SLICE CHEESE *# DISCOUNT EUROPE BUN *# DISCOUNT GREEN TEA MOCHI *# DISCOUNT TOAST (B) - COFFEE CREAM CH DISCOUNT WALNUT MULTIGRAIN *# DISCOUNT 1 1 1 1 1 RM4.15 RM-0.20 RM3.70 RM-0.18 RM3.30 RM-0.16 RM7.85 RM-0.39 RM3.95 RM-0.19 ST ST ST ST ST TOTAL (INCL GST) RM21.83 ROUNDING RM0.02 GRAND TOTAL RM21.85 TOTAL PAID RM50.00 CHANGE RM28.15 DISCOUNT SUMMARY DISCOUNT GST SUMMARY RM1.12 GST SUMMARY ST = 0% NS = 0% ITEM 5 0 AMOUNT(RM) 21.83 0.00 GST(RM) 0.00 0.00 04/06/2018 18:17:54 \n",
      "********\n",
      "{'company': 'MOONLIGHT CAKE HOUSE SDN BHD', 'date': '04/06/2018', 'address': 'NO.1, JALAN PERMAS 10/5, BANDAR BARU PERMAS JAYA 81750 JOHOR BAHRU, JOHOR.', 'total': 'RM21.85'}\n",
      "\n",
      "\n",
      "For id =  X51008142031\n",
      "ONE ONE THREE SEAFOOD RESTAURANT SDN BHD (1120908-M) NO.1, TAMAN SRI DENGKIL, JALAN AIR HITAM 43800 DENGKIL, SELANGOR. (GST REG. NO : 000670224384) TAX INVOICE TABLE 38 BILL#:V001-538701 ORDER#: 138803 DATE : 22-05-2018 19:54:52 CASHIER: 113 CASHIER PAX(S): QTY DESCRIPTION TOTAL TAX 1 D 32.00 SR CHICKEN ITEM 1 D 4.00 SR WHITE RICE 1 D 18.00 SR VEGE ITEM (M) 1 D 8.00 SR RICE W SEAFOOD /MEAT ITEM SINGLE 1 D 5.00 SR BEVERAGE TOTAL (EXCLUDING GST): 67.00 GST PAYABLE: 4.02 TOTAL (INCLUSIVE OF GST): 71.02 ROUNDING ADJ: -0.02 TOTAL : 71.00 CLOSED: 1 22-05-2018 21:16:12 SERVER: 113 CASHIER CASH : 71.00 GST SUMMARY AMOUNT(RM) TAX(RM) SR (@ 6%) 67.00 4.02 **** THANK YOU **** PLEASE COME AGAIN 0 \n",
      "********\n",
      "{'company': 'ONE ONE THREE SEAFOOD RESTAURANT SDN BHD', 'date': '22-05-2018', 'address': 'NO. 1, TAMAN SRI DENGKIL, JALAN AIR HITAM 43800 DENGKIL, SELANGOR.', 'total': '71.00'}\n",
      "\n",
      "\n",
      "For id =  X51005663317\n",
      "LIM SENG THO HARDWARE TRADING NO 7. SIMPANG OFF BATU VILLAGE. JALAN IPOH BATU 5. 51200 KUALA LUMPUR MALAYSIA TEI & FAX NO : 03-6258 7191 03-6258 7191 COMPANY REG NO. : (002231061-T) GST REG NO. : 001269075968 TAX INVOICE INVOICE NO : CS 23304 DATE : 29/12/2017 11:41 CASHIER # LST SIMEN(S) RM CODE 3.00 X 2.00 6.00 SR SUBTOTAL : 6.00 TOTAL INCL OF GST : 6.00 PAYMENT : 6.00 CHANGE DUE : 0.00 TOTAL ITEM(S) : 3 GST SUMMARY AMOUNT(RM) TAX(RM) SR @ 6% 5.66 0.34 THANK YOU PLEASE COME AGAIN *GOODS SOLD ARE NOT RETURNABLE* \n",
      "********\n",
      "{'company': 'LIM SENG THO HARDWARE TRADING', 'date': '29/12/2017', 'address': 'NO 7, SIMPANG OFF BATU VILLAGE, JALAN IPOH BATU 5, 51200 KUALA LUMPUR MALAYSIA', 'total': '6.00'}\n",
      "\n",
      "\n",
      "For id =  X51005676541\n",
      "SYARIKAT PERNIAGAAN GIN KEE (81109-A) NO 290, JALAN AIR PANAS, SETAPAK, 53200, KUALA LUMPUR TEL : 03-40210276 GST ID : 000750673920 SIMPLIFIED TAX INVOICE CASH DOC NO. GOODS SOLD ARE NOT RETURNABLE, THANK YOU. : CS00012514 DATE: 03/01/2018 CASHIER 5.37 : USER TIME: 10:37:00 SALESPERSON : REF. : ITEM QTY S/PRICE AMOUNT TAX 1938 2 6.89 13.78 SR 4\" ROLLER SET 1618 1 40.28 40.28 SR 7LT TOPLUS EMULSION PAINT 2430 2 18.02 36.04 SR CEMENT (50KG) 2225 1 4.77 4.77 SR PLASTIC TRAP (L) TOTAL QTY: 6 94.87 TOTAL SALES (EXCLUDING GST) : 89.50 DISCOUNT : 0.00 TOTAL GST : 5.37 ROUNDING : 0.00 TOTAL SALES (INCLUSIVE OF GST) : 94.87 CASH : 94.87 CHANGE : 0.00 GST SUMMARY TAX CODE % AMT(RM) TAX(RM) SR 6 89.50 5.37 TOTAL : 89.50 \n",
      "********\n",
      "{'company': 'SYARIKAT PERNIAGAAN GIN KEE', 'date': '03/01/2018', 'address': 'NO 290, JALAN AIR PANAS, SETAPAK, 53200, KUALA LUMPUR.', 'total': '94.87'}\n",
      "\n",
      "\n",
      "For id =  X51005441398\n",
      "BREWERY TAP DWNER BY CASTLE BLUE S/B (1035693-T) GST NO : 002108047360 AVTIVO PLAZA,LOT B-F-11, BLOCK B NO1.JALAN PJU 9/1,D'SARA AVEVUE BANDAR SRI D'SARA, 52000 XL TEL: +603-62629219 * GUEST CHECK * TABLE NO: D06 ORDER NO : 11649 DATE : 30/03/2018 # 8:13 PM GOODS SOLD ARE NON REFUNDABLE CASHIER : ORDER LOGIN WAITER : HARRY,PAING PRN ON : 30/03/2018 11:18 PM QTY ITEM RM *** DINE IN *** 1 TIGER 2 BUCKET - HH 95.00 SR 2 TIGER BUCKET- HH 1 CHICKEN WINGS 22.00 SR 1 FRENCH FRIES 12.00 SR 1 TIGER BUCKET- HH 50.00 SR 4 SUBTOTAL 179.00 GST @6%: 10.74 ROUNDING ADJ 0.01 NET TOTAL 189.75 - *** 30/03/2018 11:11 PM *** -- TAX SUMMARY AMOUNT TAX SR:GST @6% 179.00 10.74 THANK YOU, PLEASE COME AGAIN \n",
      "********\n",
      "{'company': 'BREWERY TAP DWNER BY CASTLE BLUE S/B', 'date': '30/03/2018', 'address': \"AVTIVO PLAZA,LOT B-F-11, BLOCK B NO1.JALAN PJU 9/1,D'SARA AVEVUE BANDAR SRI D'SARA, 52000 KL\", 'total': '189.75'}\n",
      "\n",
      "\n",
      "For id =  X51005442397\n",
      "TRIPLE SIX POINT ENTERPRISE 666 NO 14& 16 JALAN PERMAS 4/3 BANDAR BARU PERMAS JAY TEL : 016-7574666 RECEIPT NO: REC-0015016 DATE: 25-03-2018 09:42:19 AM PAYMENT TYPE: CASH RECEIPT (RECEIPT NO: REC.0015016) QTY ITEM PRICE TOTAL (RM) (RM) 2X HEY SONG 4.30 7.60 CAMELLIA GREEN TEA 580ML (DISC: 1.0000) DISCOUNT 1.00 TOTAL AMOUNT 7.60 TENDERED 10.00 CHANGE 2.40 \n",
      "********\n",
      "{'company': 'TRIPLE SIX POINT ENTERPRISE 666', 'date': '25-03-2018', 'address': 'NO 14 & 16 JALAN PERMAS 4/3 BANDAR BARU PERMAS JAY', 'total': '7.60'}\n",
      "\n",
      "\n",
      "For id =  X51005442379\n",
      "UNIHAKKA INTERNATIONAL SDN BHD 24 MAR 2018 18:23 (867388-U) 12, JALAN TAMPOI 7/4,KAWASAN PERINDUSTRIAN TAMPOL,81200 JOHOR BAHRU,JOHOR TAX INVOICE INVOICE # : OR18032402170368 ITEM QTY TOTAL SR I00100000027- 2 MEAT + 2 VEGE $8.70 1 $8.70 SR I00100000064-ADD VEGETABLE $0.50 1 $0.50 TOTAL AMOUNT: $9.20 GST @6%: $0.52 NETT TOTAL: $9.20 PAYMENT MODE AMOUNT CASH $9.20 CHANGE $0.00 GST SUMMANY AMOUNT($) TAX($) SR = GST @6% 8.68 0.52 GST REG #000656195584 BAR WANG RICE@PERMAS JAYA (PRICE INCLUSIVE OF GST) THANK YOU & COME AGAIN! LIKE AND FOLLOW US ON FACEBOOK! FACEBOOK.COM/BARWANGRICE \n",
      "********\n",
      "{'company': 'UNIHAKKA INTERNATIONAL SDN BHD', 'date': '24 MAR 2018', 'address': '12, JALAN TAMPOI 7/4,KAWASAN PERINDUSTRIAN TAMPOI,81200 JOHOR BAHRU,JOHOR', 'total': '$9.20'}\n",
      "\n",
      "\n",
      "For id =  X51006414533\n",
      "BHPETROL PERMAS JAYA 2 LOT PTD 101051 JALAN PERMAS 10/10 8175 MASAI, JOHOR PREPAY CHIT NUMBER 57381 THIS IS NOT A RECEIPT A TAX INVOICE WILL BE ISSUED UPON THE COMPLETION OF THE SALE TRANSACTION 10-04-2018 08:11:53 CASHIER: 465 TRANSACTION NO: 1-494268 ITEM U\\PRICE QNTY AMOUNT PPF P7 50 50.00 TOTAL AMOUNT CASH RM THANK YOU FOR SHOPPING AT BHPETROMART CUSTOMER SERVICE 1-300-22-2828 1.000 50.00 \n",
      "********\n",
      "{'company': 'BHPETROL PERMAS JAYA 2', 'date': '10-04-2018', 'address': 'LOT PTD 101051 JALAN PERMAS 10/10 81750 MASAI, JOHOR', 'total': '50.00'}\n",
      "\n",
      "\n",
      "For id =  X51005442338\n",
      "PASAR MINI JIN SENG 379,JALAN PERMAS SATU, BANOAR BARU PERMAS JAYA 81750 PLENTONG,JOHOR. TEL : 07-3874904 (CO.NO. JM0195368-D) (GST NO. 000150511616) TAXINV:002-1550040 18/03/18 CASHIER : CASHTER2 1 VEGETABLES 2.20 ZRL 1 LTK OMEGA 5.70 ZRL 1 VEGETABLES 1.00 ZRL 1 VEGETABLES 2.00 ZRL 1 VEGETABLES 8.00 ZRL 1 SEAFOOD 8.50 ZRL 1 FISH BALL / CAKE 1.20 SR ITEM COUNT 7 SUBTOTAL: 28.60 TL:RM 28.60 6% GST 0.07 PAYMENT DETAILS CASH 100.00 CASH CHANGE 71.40 18/03/18 09:03 #002-1550040# CASHIER2 GST SUMMARY AMOUNT(RM) TAX(RM) SR ((@6%) 1.20 0.07 ZRL ((@6%) 27.40 0.00 THANK YOU PLEASE COME AGAIN *** GOODS SOLD ARE NOT REFUNOABLE PLUS IOS \n",
      "********\n",
      "{'company': 'PASAR MINI JIN SENG', 'date': '18/03/18', 'address': '379, JALAN PERMAS SATU, BANDAR BARU PERMAS JAYA 81750 PLENTONG, JOHOR.', 'total': '28.60'}\n",
      "\n",
      "\n",
      "For id =  X51008142032\n",
      "ONE ONE THREE SEAFOOD RESTAURANT SDN BHD (1120908-M) NO.1, TAMAN SRI DENGKIL, JALAN AIR HITAM 43800 DENGKIL, SELANGOR. (GST REG. NO : 000670224384) TAX INVOICE TABLE 03 BILL#:V001-539233 ORDER#: 139336 DATE : 28-05-2018 23:28:57 CASHIER: 113 CASHIER PAX(S): 0 QTY DESCRIPTION TOTAL TAX 1 D 70.00 SR GROUPER 1 D 15.00 SR VEGE ITEM 1 D 8.00 SR OMELLETE ITEM 1 D 8.00 SR WHITE RICE 1 D 5.00 SR BEVERAGE TOTAL (EXCLUDING GST): 106.00 GST PAYABLE: 6.36 TOTAL (INCLUSIVE OF GST): 112.36 ROUNDING ADJ: -0.01 TOTAL : 112.35 CLOSED: 1 28-05-2018 23:50:00 SERVER: 113 CASHIER CASH : 112.35 GST SUMMARY AMOUNT(RM) TAX(RM) SR (@ 6%) 106.00 6.36 **** THANK YOU **** PLEASE COME AGAIN \n",
      "********\n",
      "{'company': 'ONE ONE THREE SEAFOOD RESTAURANT SDN BHD', 'date': '28-05-2018', 'address': 'NO. 1, TAMAN SRI DENGKIL, JALAN AIR HITAM 43800 DENGKIL, SELANGOR.', 'total': '112.35'}\n",
      "\n",
      "\n",
      "For id =  X51005705804\n",
      "ASO ELECTRICAL TRADING SDN BHD 1000131-K NO 31G, JALAN SEPADU C 25/C. SECTION 25, TAMAN IDUSTRIES. AXIS 40400 SHAH ALAM, SELANGOR TEL: 03-51221701, 51313091 FAX: 03-51215716 CS00093091 THANK YOU. GOODS SOLD ARE NOT RETURNABLE, GST NO:000683900928 TAX INVOICE BILL TO: RECEIPT #: DATE: 04/12/2017 SALESPERSON: CASHIER: USER TIME: 11:29:00 (GST) (GST) ITERM QTY RSP RSP AMOUNT 102749 1 44.40 47.06 47.06 SR: FUJI CONTACTOR, SC-03, 240VAC TOTAL: 106766 1 49.00 51.94 51.94 SR: ANLY FLOATLESS RELAY 240V. AFS-1 2 TOT QTY: 99.00 (EXCLUDED GST) SUB TOTAL: 93.40 DISCOUNT : 0.00 TOTAL GST : 5.60 ROUNDING : 0.00 TOTAL : 99.00 CASH : 100.00 CHANGE : 1.00 GST SUMMARY TAX CODE % AMOUNT GST SR 6 93.40 5.60 5.60 93.40 \n",
      "********\n",
      "{'company': 'ASO ELECTRICAL TRADING SDN BHD', 'date': '04/12/2017', 'address': 'NO 31G, JALAN SEPADU C 25/C, SECTION 25, TAMAN INDUSTRIES, AXIS 40400 SHAH ALAM, SELANGOR.', 'total': '99.00'}\n",
      "\n",
      "\n",
      "For id =  X51006913054\n",
      "DE LUXE CIRCLE FRESH MART SDN BHD (MUTIARA RINI 16) CO REG NO:797887-W NO, 89&91, JALAN UTAMA, TAMAN MUTIA RINI, 81300 SKUDAI, JOHOR. TEL:016-7780546 MT161201805120055 CASHIER: 12/05/18 12:12:57 PM 12/05/18 12:13:17 PM HEAVEN & EARTH AYATAKA GREEN TEA 1.5L 8888002119454 KONNYAKU 10G 8888338001119 5.00*1 3.50*2 ITEM: QTY: TOTAL SAVING: TOTAL WITH GST @ 6% ROUNDING TOTAL 12.00 0.00 12.00 TENDER CASH 50.00 CHANGE 38.00 GST ANALYSIS S = 6% Z = 0% MEMBER 0000036581 MEMBER: WONG SHOO YUEN *THANK YOU. SEE YOU AGAIN !! *CUSTOMER CARE LINE : 012-7092889 *CUSTOMERSERVICE@DELUXEGROUPS.COM GST NO:001507647488 CHU PECK 5.00 S 7.00 S 2 3 0.00 GOODS TAX AMOUNT 11.32 0.68 0.00 0.00 POINTS EARNED: 11 \n",
      "********\n",
      "{'company': 'DE LUXE CIRCLE FRESH MART SDN BHD', 'date': '12/05/18', 'address': 'NO. 89&91, JALAN UTAMA, TAMAN MUTIA RINI, 81300 SKUDAI, JOHOR.', 'total': '12.00'}\n",
      "\n",
      "\n",
      "For id =  X51005722668\n",
      "MY HAPPY PHARMACY PLT (LLP0007299-LGN) NO 12 GF, JALAN MAMANDA 5. TAMAN DATO AHMAD RAZALI, JALAN AMPANG, 68000 AMPANG, SELANGOR. TEL +60342661226 GST ID 000241512448 SIMPLIFIED TAX INVOICE CASH DOC NO CS00038813 DATE: 01/02/2018 CASHIER ASIFA TIME: 16:07:00 SALESPERSON S005 REF: ITEM QTY S/PRICE AMOUNT TAX OTC-000127 1 20.50 20.50 SR FLANIL ANAL GESIC CR 60G TOTAL QTY 1 20.50 TOTAL SALES (EXCLUDING GST) : 19.34 DISCOUNT : 0.00 TOTAL GST : 1.16 ROUNDING : 0.00 TOTAL SALES (INCLUSIVE OF GST) : 20.50 CASH : 21.00 CHANGE : 0.50 GST SUMMARY TAX CODE % AMT (RM) TAX (RM) SR 6 19.34 1.16 TOTAL : 19.34 1 GOODS SOLD ARE NOT RETURNABLE. THANK YOU. \n",
      "********\n",
      "{'company': 'MY HAPPY PHARMACY PLT', 'date': '01/02/2018', 'address': 'NO 12 GF, JALAN MAMANDA 5, TAMAN DATO AHMAD RAZALI, JALAN AMPANG, 68000 AMPANG, SELANGOR.', 'total': '20.50'}\n",
      "\n",
      "\n",
      "For id =  X51005675095\n",
      "SOLARIS DUTAMAS SUN VICTORY SDN BHD (NO. 193573-M) LEVEL G2, BLOCK D1. SOLARIS DUTAMAS. NO. 1, JALAN DUTAMAS 1, 50480 KUALA LUMPUR. (GST ID NO: 000377700352) TEL: 03-6205 5386 TAX INVOICE P/S #07 A INV-NO. 0207140118000488 T/D #44 TICKET NO.028165 ENTRY TIME 14/01/2018 (SUN) 12:06 PAID TIME 14/01/2018 (SUN) 13:51 PARKING TIME 1:45 PARKING FEE RATE A RM4.00 AMOUNT RM3.77 GST 6.00 % RM0.23 TOTAL RM4.00 PAID RM4.00 CHANGE RM0.00 INCLUSIVE 6% GST THANK YOU \n",
      "********\n",
      "{'company': 'SUN VICTORY SDN BHD', 'date': '14/01/2018', 'address': 'LEVEL G2, BLOCK D1, SOLARIS DUTAMAS, NO.1, JALAN DUTAMAS 1, 50480 KUALA LUMPUR', 'total': 'RM4.00'}\n",
      "\n",
      "\n",
      "For id =  X51005757294\n",
      "MR. D.I.Y. (M) SDN BHD (CO. REG :860671-D) LOT 1851-A & 1851-B, JALAN KPB 6 , KAWASAN PERINDUSTRIAN BALAKONG , 43300 SERI KEMBANGAN, SELANGOR (GST ID NO :000306020352) (IOI PUCHONG) -TAX INVOICE- CARBON FIBER CARTRIDGE CTO-98#10 ' *S CC22-52-62 - 25 9063785 2 X 5.30 10.60 ITEM(S) : 1 QTY(S) : 2 TOTAL INCL . GST@6% RM 10.60 CASH RM 20.00 CHANGE RM 9.40 GST @6% INCLUDED IN TOTAL RM 0.60 18-03-18 15:12 SH01 ZJ86 T3 R000060727 OPERATOR TRAINEE CASHIER EXCHANGE ARE ALLOWED WITHIN 7 DAY WITH RECEIPT . STRICTLY NO CASH REFUND . \n",
      "********\n",
      "{'company': 'MR. D.I.Y. (M) SDN BHD', 'date': '18-03-18', 'address': 'LOT 1851-A & 1851-B, JALAN KPB 6, KAWASAN PERINDUSTRIAN BALAKONG, 43300 SERI KEMBANGAN, SELANGOR', 'total': '10.60'}\n",
      "\n",
      "\n",
      "For id =  X51008114282\n",
      "99 SPEED MART S/B (519537-X) LOP P.T. 2811, JALAN ANGSA, TAMAN BERKELEY 41150 KLANG, SELANGOR 1237-TMN INDAH PERDANA GST ID. NO : 000181747712 INVOICE NO : 18418/102/T0262 05:38PM 568268 04-06-18 620 CARNATION SUSU KRIMER S RM5.00 Z @2 X RM 2.50 0715 KNORR CHICKEN STOCK 1K RM15.90 Z TOTAL SALES RM 20.90 CASH RM 21.00 CHANGE RM .10 GST SUMMARY AMOUNT(RM) TAX(RM) Z = 0% 20.90 .00 THANK YOU. PLEASE COME AGAIN KEEP THE INVOICE FOR APPLICABLE RETURNS \n",
      "********\n",
      "{'company': '99 SPEED MART S/B', 'date': '04-06-18', 'address': 'LOT P.T. 2811, JALAN ANGSA, TAMAN BERKELEY 41150 KLANG, SELANGOR 1237-TMN INDAH PERDANA', 'total': '20.90'}\n",
      "\n",
      "\n",
      "For id =  X51005749895\n",
      "MR. D.I.Y. (M) SDN BHD CO-REG:860671-D LOT 1851-A & 1851-B, JALAN KPB 6, KAWASAN PERINOUSTRIAN BALAKONG, 43300 SERI KEMBANGAN, SELANGOR (GST ID NO : 000306020352) (TESCO EXTRA ARA DAMANSARA) TAX INVOICE PILLAR SINK TAP FZ02 - 6/54 *S 9072351 2 X 23.90 47.80 SHIELDTOX FIK 600ML MP *S WA01 - 24 9556111988559 1 X 8.90 8.90 SPONGE KOREA-2S *S AR62 - 12/312 9064017 4 X 3.00 12.00 PLASTIC BAGS 99999 1 X 0.20 0.20 VANCE LIGHTER - 1S VT02 *S WB22 - 50/1000 9555258606166 5 X 0.60 3.00 ITEM(S) : 5 QTY(S) : 13 TOTAL INCL. GST@6% CASH CHANGE RM 71.90 RM 72.00 RM 0.10 GST SUMMARY GST S@6% AMT (RM) 67.83 TAX (RM) 4.07 02-03-18 17:23 SH01 ZJ42 T1 R000227410 OPERATOR TADC - AEIM ABDUL EXCHANGE ARE ALLOWED WITHIN 7 DAY WITH RECEIPT . STRICTLY NO CASH REFUND . \n",
      "********\n",
      "{'company': 'MR. D.I.Y. (M) SDN BHD', 'date': '02-03-18', 'address': 'LOT 1851-A & 1851-B, JALAN KPB 6, KAWASAN PERINDUSTRIAN BALAKONG, 43300 SERI KEMBANGAN, SELANGOR', 'total': '71.90'}\n",
      "\n",
      "\n",
      "For id =  X51005663311\n",
      "LIM SENG THO HARDWARE TRADING NO 7. SIMPANG OFF BATU VILLAGE. JALAN IPOH BATU 5. 51200 KUALA LUMPUR MALAYSIA TEI & FAX NO : 03-6258 7191 03-6258 7191 COMPANY REG NO. : (002231061-T) GST REG NO. : 001269075968 TAX INVOICE INVOICE NO : CS 24399 DATE : 09/02/2018 11:40 CASHIER # LST RM CODE BEG GUNI 10.00 NOS X 0.70 7.00 SR SUBTOTAL 7.00 TOTAL INCL OF GST : 7.00 PAYMENT : 7.00 CHANGE DUE : 0.00 TOTAL ITEM(S) : 10 GST SUMMARY AMOUNT(RM) TAX(RM) SR @ 6% 6.60 0.4 THANK YOU PLEASE COME AGAIN *GOODS SOLD ARE NOT RETURNABLE* \n",
      "********\n",
      "{'company': 'LIM SENG THO HARDWARE TRADING', 'date': '09/02/2018', 'address': 'NO 7, SIMPANG OFF BATU VILLAGE, JALAN IPOH BATU 5, 51200 KUALA LUMPUR MALAYSIA', 'total': '7.00'}\n",
      "\n",
      "\n",
      "For id =  X51005745183\n",
      "BILLION SIX ENTERPRISE NO 3, JALAN TAMAN JAS'A 2; SECTION U6, 40150 SHAH ALAM. TEL : 603-58856749 GST REG NO: 000944312320 TAX INVOICE INVOICE NO : 0-170891 DATE : 22/02/2018 7:41:46 AM CASHIER : 123 DESCRIPTION QTY PRICE AMOUNT 1 SR' 9556405112205 11 5.80 63.80 TG7 7\" HIPS PLATE (50PCS) JP TOTAL : 63.80 DISCOUNT: 0.00 TOTAL SALES INCLUSIVE GST @6.00%: 63.80 MASTER CARD 63.80 5148826201779121 GST SUMMARY % AMOUNT(RM) TAX(RM) SR 6.00 60.19 3.61 BARANG YANG SUDAH DI BELI, WANG TIDAK DAPAT DI KEMBALIKAN. PERTUKARAN BARANG HANYA BOLEH DIBUAT DALAM 3 HARI SAHAJA DENGAN RESIT. \n",
      "********\n",
      "{'company': 'BILLION SIX ENTERPRISE', 'date': '22/02/2018', 'address': \"NO 3, JALAN TAMAN JAS'A 2; . SECTION U6, 40150 SHAH ALAM.\", 'total': '63.80'}\n",
      "\n",
      "\n",
      "For id =  X51005677332\n",
      "SYARIKAT PERNIAGAAN GIN KEE (81109-A) NO 290, JALAN AIR PANAS, STAPAK, 53200, KUALA LUMPUR, TEL : 03-40210276 GST ID : 000750673920 SIMPLIFIED TAX INVOICE CASH DOC NO. : CS00012693 DATE: 12/01/2018 CASHIER : USER TIME: 13:02:00 SALESPERSON : GOODS SOLD ARE NOT RETURNABLE THANK YOU REF. : ITEM QTY S/PRICE AMOUNT TAX 3843 1 7.95 7.95 SR 1 1/2\" SANCORA PAINT BRUSH TOTAL QTY: 1 7.95 TOTAL SALES (EXCLUDING GST) : 7.50 DISCOUNT : 0.00 TOTAL GST : 0.45 ROUNDING : 0.00 TOTAL SALES (INCLUSIVE OF GST) : 7.95 CASH : 7.95 AMT (RM) TAX (RM) 7.50 0.45 7.50 0.45 \n",
      "********\n",
      "{'company': 'SYARIKAT PERNIAGAAN GIN KEE', 'date': '12/01/2018', 'address': 'NO 290, JALAN AIR PANAS, SETAPAK, 53200, KUALA LUMPUR.', 'total': '7.95'}\n",
      "\n",
      "\n",
      "For id =  X51005676536\n",
      "SYARIKAT PERNIAGAAN GIN KEE (81109-A) NO 290, JALAN AIR PANAS, SETAPAK, 53200, KUALA LUMPUR TEL : 03-40210276 GST ID : 000750673920 SIMPLIFIED TAX INVOICE CASH DOC NO GOODS SOLD ARE NOT RETURNABLE, THANK YOU. : CS00012507 DATE: 02/01/2018 CASHIER 5.27 : USER TIME: 16:58:00 SALESPERSON : REF. : ITEM QTY S/PRICE AMOUNT TAX 1811 1 13.57 13.57 SR 8' 2 X 3 1042 4 18.55 74.20 SR 7' X 35# CORRUGATED ROOFING SHEET 1921 1 5.30 5.30 SR NAIL (PER/PACK) - RM5 TOTAL QTY: 6 93.07 TOTAL SALES (EXCLUDING GST) : 87.80 DISCOUNT : 0.00 TOTAL GST : 5.27 ROUNDING : 0.00 TOTAL SALES (INCLUSIVE OF GST) : 93.07 CASH : 93.07 CHANGE : 0.00 GST SUMMARY TAX CODE % AMT(RM) TAX(RM) SR 6 87.8 5.27 TOTAL : 87.80 \n",
      "********\n",
      "{'company': 'SYARIKAT PERNIAGAAN GIN KEE', 'date': '02/01/2018', 'address': 'NO 290, JALAN AIR PANAS, SETAPAK, 53200, KUALA LUMPUR.', 'total': '93.07'}\n",
      "\n",
      "\n",
      "For id =  X51005719814\n",
      "KIKU JAPANESE RESTAURANT TK DIVISION KITCHEN SDN BHD 1202152-P 19-1, JALAN MALINJA 2, TAMAN BUNGA RAYA, 53100 SETAPAK, KUALA LUMPUR TEL . 03-4161 8936 INVOICE INVOICE: 9722 CASHIER: ADMIN POS NO: 1 TABLE: 03 DATE : 17/1/2018 12:12:21 PAX: 0 ITEM QTY U/P(RM) DISG(%) AMT(RM) CHICKEN KATSU BENTO BEN02 1 12.90 0.00 12.90 OMU CURRY FRIED RICE SET SET10 1 6.90 0.00 6.90 KATSU DON (FISH)SET TS02 KAT 1 9.90 0.00 9.90 SUB TOTAL BEFORE DISCOUNT RM 29.70 SERVICE CHARGE RM 0.00 TOTAL SALES RM 29.70 ROUNDING ADJUSTMENT RM 0.00 TOTAL RM 29.70 CASH RM 30.00 CHANGE RM 0.30 \n",
      "********\n",
      "{'company': 'TK DIVISION KITCHEN SDN BHD', 'date': '17/1/2018', 'address': '19-1. JALAN MALINJA 2, TAMAN BUNGA RAYA, 53100 SETAPAK, KUALA LUMPUR.', 'total': 'RM 29.70'}\n",
      "\n",
      "\n",
      "For id =  X51005442361\n",
      "MORGANFIELD'S R HORNG OF SDCKY BONES TIMELESS KITCHENETTE SDN BHD COMPANY NO : 1174703-K GST REG NO : 0000 6771 0976 LOT 50, FLOOR T2,SKY AVENUE GENTING HIGHLANDS PAHANG, 69000 PAHANG MALAYSLA GUEST CHECK INVOICE NO: 000039121 DATE: 2018-03-23 CASHIER : MIZAN GENTING SERVER : OPEN: 18:43:34 TABLE: 25 PAX: 6 1 RIBS PLATTER SR 259.90 1 NAUGHTY SPARE RIB - FULL SR 106.90 SLAB 1 APPLE - 350ML SR 13.90 1 SOUR APPLE MOJITO SR 18.90 1 BERRY EASY SR 18.90 1 AUST RIB-EYE STEAK SR 74.90 1 FRUITY GARDEN SALAD SR 21.90 2 HH ASAHI 1+1/2 SR 77.80 SUB-TOTAL : 593.10 (INCLUSIVE) GST 6% 33.57 TOTAL : 19:32:35 TOTAL: 593.10 GST SUMM AMT (RM) TAX(RM) SR= 6% 559.53 33.57 OS= 0% 0.00 0 \n",
      "********\n",
      "{'company': 'TIMELESS KITCHENETTE SDN BHD', 'date': '2018-03-23', 'address': 'LOT 50, FLOOR T2,SKY AVENUE GENTING HIGHLANDS PAHANG, 69000 PAHANG MALAYSIA', 'total': '593.10'}\n",
      "\n",
      "\n",
      "For id =  X51006856981\n",
      "GUARDIAN HEALTH AND BEAUTY SDN BHD LOT B-005-006,BASEMENT LEVEL 1 THE STARLING MALL JALAN SS21/60,DAMANSARA UTAMA. TEL: 03-7662 5789 COMPANY REG #1101083-T GST REG #000899874816 RM 121066051 \"\"OPTICARE 500X3 ^ 13.78 S SUBTOTAL 13.78 TOTAL (GST INCL) 13.78 CASH 20.00 ROUNDING ADJUSTMENTS 0.02 CHANGE DUE 6.20 YOUR SAVINGS FOR TODAY 3.49 GST S 6% 13.00 0.78 ^ PROMO PRICE ITEMS THANK YOU FOR SHOPPING AT GUARDIAN ALL AMOUNTS ARE IN RM GOODS SOLD ARE NON-REFUNDABLE. ALL EXCHANGES AND RETURNS INCLUDING GUARDIAN BRAND PRODUCTS MUST BE MADE WITHIN 7DAYS WITH ORIGINAL RECEIPTS AND PRODUCT IN ORIGINAL CONDITION. ST:8541 CTR 3 ID:3003 TAXINV:11612 20:56 07/07/17 RATE GST EXCL GST AMT \n",
      "********\n",
      "{'company': 'GUARDIAN HEALTH AND BEAUTY SDN BHD', 'date': '07/07/17', 'address': 'LOT B-005-006, BASEMENT LEVEL 1 THE STARLING MALL JALAN SS21/60, DAMANSARA UTAMA.', 'total': '13.78'}\n",
      "\n",
      "\n",
      "For id =  X51005568911\n",
      "MR. D.I.Y. (KUCHAI) SDN BHD CO-REG: 750441-W LOT 1851-A & 1851-B, JALAN KPB 6, KWANSAN PERINDUSTRIAN BALANKONG, 43300 SERI KEMBANGAN, SELANGOR (GST ID NO :000473792512) (TESCO EXTRA KAJANG) -TAX INVOICE- BOOSTER CABLE XH-500A *S CE72 - 10 9001620 1 X 29.90 29.90 MOTH BALLS 150G *S EC21-41-71 - 10/100 9063977 1 X 2.10 2.10 DIY GOLD TWIST DRILL 3MM *S LB22 - 20/1500 9071246 1 X 2.50 2.50 HSS TWIST DRILL 6*160MM *S LG32-42 - 10/400 6909906163107 1 X 3.30 3.30 ITEM(S) : 4 QTY(S) : 4 TOTAL INCL. GST@6% RM 37.80 CASH RM 40.00 CHANGE RM 2.20 GST SUMMARY AMT(RM) TAX(RM) GST S@6% 35.66 2.14 08-03-17 13:42 SH01 B028 T2 R000017473 OPERATOR TRAINEE EXCHANGE ARE ALLOWED WITHIN 7 DAY WITH RECEIPT, STRICTLY NO CASH REFUND. \n",
      "********\n",
      "{'company': 'MR. D.I.Y. (KUCHAI) SDN BHD', 'date': '08-03-17', 'address': 'LOT 1851-A & 1851-B, JALAN KPB 6, KAWASAN PERINDUSTRIAN BALAKONG, 43300 SERI KEMBANGAN, SELANGOR', 'total': '37.80'}\n",
      "\n",
      "\n",
      "For id =  X51005746140\n",
      "YONG CEN ENTERPRISE 9, JALAN SUBANG JASA 3, 40150 SHAH ALAM, SELANGOR. TEL: 012-9719498 GST NO: 001147981824 CASH RECEIPT #: CS00677115 DATE: 02/03/2018 SALESPERSON : TIME: 09:43:00 COUNTER : ITEM QTY U/P AMOUNT 9555223500307 24 2.33 55.99 SR:FEI YAN BRAND YOUNG CORN 425G (2.333X 9557166110018 2 2.00 4.00 ZRL:ASAM BOI 65G TOTAL QUANTITY 26 SUB-TOTAL 59.99 DISC 0.00 GST 3.36 TAX 0.00 ROUNDING 0.00 TOTAL 63.35 CASH 63.35 CHANGE 0.00 GOODS SIKD ARE NOT RETURNABLE, THANK YOU. \n",
      "********\n",
      "{'company': 'YONG CEN ENTERPRISE', 'date': '02/03/2018', 'address': '9, JALAN SUBANG JASA 3, 40150 SHAN ALAM, SELANGOR.', 'total': '63.35'}\n",
      "\n",
      "\n",
      "For id =  X51005719893\n",
      "MR . DAKGALBI SOLARIS BRN GST NO . 000417619968 PRESIDENT : KANG NO . J-G-02, SOHO KI, SOLARIS MONT KIERA, 50 480 KL GST NO . TEL)03 6206 5567 [SALES] 2018-01-05 22:55:25 POSNO : 86 DESCRIPTION FRIED RICE 3 PAX QTY 1 PRICE 71.00 (S) 1 ITEM (INCLUSIVE OF GST) ROUND AMT 71.00 0.00 TOTAL CASH 71.00 71.00 CASH RECEIVED CHANGE GST @6% 101.00 30.00 4.02 GSTSUMMARY S=GST @ 6% : Z=GST @ 0% : AMOUNT (RM) 66.98 0.00 GST (RM) 4.02 0.00 RECEIPT NO : 18010500047 PERSON : S-ADMIN TABLE NO: [HALL]-9 \n",
      "********\n",
      "{'company': 'MR . DAKGALBI SOLARIS', 'date': '2018-01-05', 'address': 'NO.J-G-02, SOHO KI, SOLARIS MONT KIERA, 50 480 KL', 'total': '71.00'}\n",
      "\n",
      "\n",
      "For id =  X51005719914\n",
      "MR. D. I. Y. (KUCHAI) SDN BHD (CO REG : 750441-W) LOT 1851-A & 1851-B, JALAN KPB 6 , KAWASAN PERINDUSTRIAN BALAKONG , 43300 SERI KEMBANGAN , SELANGOR (GST ID NO : 000473792512) (TESCO MENJALARA KEPONG , HQ) TAX INVOICE EPOXY PUTTY+ (2 X 50GM) WA17 - 12/144 9555075106825 CORD TIE 3PCS AF12 - 10/1000 9067170 PAPER CLIP 8PCS NO4 MI11/3-21 - 12/480 9082115 HOOK HY-0021 DC11/2 - 20/160 6946759900212 DOOR GUARD EC008 TJ12 - 10/100 9002148 MULTI FAN BLADE 16' FB1688 WA50 - 30 9750009 KEY HOLDER (GRID)#*VS 0I00 - 12/480 9045734 DOOR GUARD FOOT AW-D48 TD33 - 5/200 9002107 ITEM(S) : 8 1 X 8.50 1 X 2.70 1 X 2.50 1 X 2.50 3 X 4.50 1 X 6.30 1 X 7.50 2 X 4.90 QTY(S) : 11 *S 8.50 *S 2.70 *S 2.50 *S 2.50 *S 13.50 *S 6.30 *S 7.50 *S 9.80 TOTAL INCL. GST@6% EDC 7186 (MASTER) RM 53.30 RM 53.30 CHIEW YON LOY / GST SUMMARY GST S@6% AMT ( RM ) 50.28 TAX( RM ) 3.02 16-03-18 OPERATOR THQT 13 : 49 SH01 B026 T2 R000178141 - NOOR FATIN NAJIBAH EXCHANGE ARE ALLOWED WITHIN 7 DAYS WITH RECEIPT . STRICTLY NO CASH REFUND. \n",
      "********\n",
      "{'company': 'MR. D. I. Y. (KUCHAI) SDN BHD', 'date': '16-03-18', 'address': 'LOT 1851-A & 1851-B, JALAN KPB 6, KAWASAN PERINDUSTRIAN BALAKONG, 43300 SERI KEMBANGAN, SELANGOR', 'total': '53.30'}\n",
      "\n",
      "\n",
      "For id =  X00016469622\n",
      "TAN WOON YANN YONGFATT ENTERPRISE (JM0517726) NO 122.124 JALAN DEDAP 13 81100 JOHOR BAHRU TEL 07-3523888 GST ID: 000849813504 SIMPLIFIED TAX INVOICE CASH DOC NO CS00031663 DATE 25/12/2018 CASHIER USER TIME 12 31 00 SALESPERSON REF. ITEM QTY S/PRICE AMOUNT TAX E8318 1 80.91 80.91 SR ELEGANT SCHTR BAG 15 TOTAL QTY 1 80.91 TOTAL SALES (EXCLUDING GST) : 80.91 DISCOUNT : 0.00 TOTAL GST : 0.00 ROUNDING -0.01 TOTAL SALES (INCLUSIVE OF GST) : 80.90 CASH : 100.00 CHANGE : 19.10 GST SUMMARY TAX CODE % AMT (RM) TAX (RM) SR 0 80.91 0.00 TOTAL : 80.91 0.00 GOODS SOLD ARE NOT REFUNDABLE ONLY \n",
      "********\n",
      "{'company': 'YONGFATT ENTERPRISE', 'date': '25/12/2018', 'address': 'NO 122.124. JALAN DEDAP 13 81100 JOHOR BAHRU', 'total': '80.90'}\n",
      "\n",
      "\n",
      "For id =  X51005717526\n",
      "GERBANG ALAF RESTAURANTS SDN BHD (65351-M) FORMERLY KNOWN AS SOLDEN ARCHES RESTAURENTS SNN BHD LICENSEE OF MCDONALD'S LEVEL 6, BANGUNAN TH, DAMANSARA UPTOWN3 NO.3, JALAN SS21/39,  47400 PETALING JAYA SELANGOR (GST ID NO: 000504664064) MCDONALD'S RAWANG DT(#188) TEL NO. 03-6092-1968 TAX INVOICE MFY SIDE 1 INV# 001881904569068 ORD #15 -REG #19- 02/03/2018 12:59:16 QTY ITEM TOTAL 1 L MCCHICKEN 11.10 1 L COKE 1 L FRIES 1 6NUGGETS 7.50 1 BARBECUE SAUCE 1 AYAMGORENG(TA) 9.90 TAKEOUT TOTAL (INCL GST) 28.50 TOTAL ROUNDED 28.50 CASH TENDERED 50.00 CHANGE 21.50 TOTAL INCLUDES 6% GST 1.61 THANK YOU AND PLEASE COME AGAIN. \n",
      "********\n",
      "{'company': 'GERBANG ALAF RESTAURANTS SDN BHD', 'date': '02/03/2018', 'address': 'LEVEL 6, BANGUNAN TH, DAMANSARA UPTOWN3 NO.3, JALAN SS21/39, 47400 PETALING JAYA SELANGOR', 'total': '28.50'}\n",
      "\n",
      "\n",
      "For id =  X51008128052\n",
      "PANDAH INDAH PULAU KETAM RESTAURANT M4-A-8, JALAN PANDAH INDAH 4/1A, PANDAH INDAH, 55100 KUALA LUMPUR, TEL:012-2673122 / 010-2022293 * GUEST CHECK * TABLE 6 CHECK #: 113355 PAX(S): 0 DATE : 30-04-2018 19:50:14 SERVER : CASHIER 1 KUO POH (C) (2 PAX) 6.00 2 TEA EXTRA PERSON (1 PAX) 2.00 1 TONG HOU 10.00 1 MUTTAN SLICE 15.00 1 SOUP 0.00 1 TOM YUM 0.00 3 NO. OF HEAD (2 SET ABOVE) 60.00 SUBTOTAL : 93.00 TOTAL : 93.00 \n",
      "********\n",
      "{'company': 'PANDAH INDAH PULAU KETAM RESTAURANT', 'date': '30-04-2018', 'address': 'M4-A-8, JALAN PANDAH INDAH 4/1A, PANDAH INDAH, 55100 KUALA LUMPUR.', 'total': '93.00'}\n",
      "\n",
      "\n",
      "For id =  X51008142030\n",
      "ONE ONE THREE SEAFOOD RESTAURANT SDN BHD (1120908-M) NO.1, TAMAN SRI DENGKIL, JALAN AIR HITAM 43800 DENGKIL, SELANGOR. GST REG. NO : 000670224384) TAX INVOICE TABLE 37 BILL#:V001-539829 ORDER#: 139931 DATE : 05-06-2018 20:23:14 CASHIER: 113 CASHIER PAX(S): 0 QTY DESCRIPTION TOTAL TAX 1 D 15.00 SR OMELLETE ITEM 1 D 10.00 SR VEGE ITEM (S) 1 D 22.00 SR RICE W SEAFOOD /MEAT ITEM SINGLE 1 D 5.00 SR BEVERAGE TOTAL (EXCLUDING GST): 52.00 TOTAL (INCLUSIVE OF GST): 52.00 TOTAL : 52.00 CLOSED: 1 05-06-2018 20:56:06 SERVER: 113 CASHIER CASH : 52.00 GST SUMMARY AMOUNT(RM) TAX(RM) SR (@ 0%) 52.00 0.00 **** THANK YOU **** PLEASE COME AGAIN \n",
      "********\n",
      "{'company': 'ONE ONE THREE SEAFOOD RESTAURANT SDN BHD', 'date': '05-06-2018', 'address': 'NO. 1, TAMAN SRI DENGKIL, JALAN AIR HITAM 43800 DENGKIL, SELANGOR.', 'total': '52.00'}\n",
      "\n",
      "\n",
      "For id =  X51005663273\n",
      "SYARIKAT PERNIAGAAN GIN KEE (81109-A) NO 290, JALAN AIR PANAS, SETAPAK, 53200, KUALA LUMPUR. TEL: 03-40210276 GST ID: 000750673920 SIMPLIFIED TAX INVOICE CASH DOC NO. : CS00011983 DATE: 04/12/2017 CASHIER : USER TIME: 16:15:00 SALESPERSON: REF. : QTY S/PRICE AMOUNT TAX 1476 3 15.90 47.70 SR 25KG SIKA CREAM-88 TOTAL QTY: 3 47.70 TOTAL SALES(EXCLUDING GST) : 45.00 DISCOUNT : 0.00 TOTAL GST : 2.70 ROUNDING : 0.00 TOTAL SALES(INCLUSIVE OF GST) : 47.70 CASH : 47.70 CHANGE : 0.00 GST SUMMARY TAX CODE % AMT(RM) TAX(RM) SR 6 45.00 2.70 TOTAL: 45.00 2.70 GOODS SOLD ARE NOT RETURNABLE.THANK YOU IT \n",
      "********\n",
      "{'company': 'SYARIKAT PERNIAGAAN GIN KEE', 'date': '04/12/2017', 'address': 'NO 290, JALAN AIR PANAS. SETAPAK, 53200, KUALA LUMPUR', 'total': '47.70'}\n",
      "\n",
      "\n",
      "For id =  X51008123450\n",
      "SANJUNG REALITI SDN. BHD. (779763-K) (GST REGISTRATION NO.: 001751072768) CAR PARK OFFICE, BASEMANT 1, LABUHRAYA SPRINT, PJU6A, 47400 PETALING JAYA, SELANGOR TEL.: +603 7726 2929 FAX: +603 7726 1326 TAX INVOICE TAX INVOICE NO.: 0714/0601/00601 27/06/18 10:08 010100 PAY PARKING TICKET 1.50 RM 27/06/18 09:49 - 27/06/18 10:08 LENGTH OF STAY: 0 DY. 0 HR. 19 MIN. 02472951053011038178353570?? TOTAL AMOUNT 1.50 RM ACCEPTED TOTAL 2.00 RM CHANGE 0.50 RM GST 0% 0.00 RM THANK YOU \n",
      "********\n",
      "{'company': 'SANJUNG REALITI SDN. BHD.', 'date': '27/06/18', 'address': 'CAR PARK OFFICE, BASEMENT 1, LABUHRAYA SPRINT, PJU6A, 47400 PETALING JAYA, SELANGOR', 'total': '1.50'}\n",
      "\n",
      "\n",
      "For id =  X51005719882\n",
      "99 SPEED MART S/B (519537-X) LOT P. T. 2811, JALAN ANGASA, TAMAN BERKELEY 41150 KLANG, SELANGOR 1181-TMN SRI SINAR GST ID. NO : 000181747712 INVOICE NO : 18311/103/T0280 09:04PM 569319 17-02-18 483 CARLSBERG CAN 4*6*320ML 2101 CARLSBERG SMOOTH DRAUG RM106.50 RM106.50 S S TOTAL SALES (INCLUSIVE GST) CASH CHANGE RM RM RM 213.00 213.00 .00 GST SUMMARY S = 6% AMOUNT (RM) 200.94 TAX(RM) 12.06 THANK YOU. PLEASE COME AGAIN KEEP THE INVOICE FOR APPLICABLE RETURNS \n",
      "********\n",
      "{'company': '99 SPEED MART S/B', 'date': '17-02-18', 'address': 'LOT P. T. 2811, JALAN ANGSA, TAMAN BERKELEY 41150 KLANG, SELANGOR 1181-TMN SRI SINAR', 'total': '213.00'}\n",
      "\n",
      "\n",
      "For id =  X51005568827\n",
      "BANH MI CAFE DIMILIKI: BANH MI CAFE SDN BHD 1110644-W NO. 1 JALAN PUTERI 7/10 BANDAR PUTERI, 47100 PUCHONG SELANGOR, MALAYSIA (GST REG. NO : 000306700288) GUEST CHECK TABLE A INV NO.: 153887 PAX(S): 2 DATE CASHIER: CASHIER A QTY DESCRIPTION TOTAL TAX 1 205 SUONG NON RAM CHUA 9.90 SR 205 SWEET &SOUR PORK RIBS 1 217 TAU HU DON THIT CHI 9.90 SR 217 STUFF MEAT TAU FU 1 605 TRA DA 1.50 SR 605 VIETNAMESE ICED TEA TOTAL (EXCLUDING GST): 21.30 SERV. CHARGE (3%): 0.65 GST PAYABLE (6%): 1.31 TOTAL (INCLUSIVE OF GST): 23.26 ROUNDING ADJ: -0.01 TOTAL: 23.25 CLOSED: 29-10-2017 SERVER: CASHIER A GST SUMMARY AMOUNT(RM) TAX(RM) INQURIES: 012-3225548 LIKE US @ FACEBOOK: BANHMIKL EMAIL : BANHMICAFE1@GMAIL.COM : 29-10-2017 18:31:45 \n",
      "********\n",
      "{'company': 'BANH MI CAFE SDN BHD', 'date': '29-10-2017', 'address': 'NO,1 JALAN PUTERI 7/10 BANDAR PUTERI, 47100 PUCHONG SELANGOR, MALAYSIA', 'total': '23.25'}\n",
      "\n",
      "\n",
      "For id =  X51005677339\n",
      "BEYOND BROTHERS HARDWARE (872981-V) LOT 1-0-2, JLN 1/50. DIAMOND SQUARE. OFF JLN GOMBAK 53000 KUALA LUMPUR TEL: 03-40211233 FAX: 03-40223233 IVAN_KONG12@HOTMAIL.COM GST ID: 001921974 TAX INVOICE DOC NO: : CS00065374 DATE: 05/02/2018 CASHIER : USER TIME: 11:14:00 SALESPERSON : REF.: (GST) (GST) ITEM QTY S/PRICE S/PRICE AMOUNT TAX 4432 2 30.00 31.60 63.50 SR 6 GAL WHITE CONTAINER TOTAL QTY: 2 63.60 TOTAL SALES (EXC G GST) : 60.00 DISCOUNT : 0.00 TOTAL GST : 3.60 ROUNDING : 0.00 TOTAL SALES (INCLUSIVE OF GST) : 63.60 CASH : 63.60 CHANGE : 0.00 GST SUMMARY TAX CODE % AMT (RM) TAX (RM) SR 6 60.00 3.60 TOTAL : 60.00 3.60 GOODS SOLD ARE NOT RETRNABLE TH \n",
      "********\n",
      "{'company': 'BEYOND BROTHERS HARDWARE', 'date': '05/02/2018', 'address': 'LOT 1-0-2, JLN 1/50, DIAMOND SQUARE, OFF JLN GOMBAK 53000 KUALA LUMPUR', 'total': '63.60'}\n",
      "\n",
      "\n",
      "For id =  X51008145450\n",
      "GHEE HIANG GH DISTRIBUTOR & MARKETING SDN BHD (1097826-H) 216, MACALISTER ROAD, 10400 PENANG. 10400 PENANG. TEL: 04-227 2222 GST REG. NO. : 001315377152 TAX INVOICE INVOICE NO : 216_01/21047 DATE : 20/06/2018 #1 12:53 PM CASHIER : PART TIMERS 05 PRN ON : 20/06/2018 12:56 PM QTY ITEM RM *** RETAIL/TAKEAWAY *** 4 TAU SAR PNEAH (S) 16PCS @9.00 36.00 SR 2 DB TAU SAR PNEAH (S) 12PCS @7.60 15.20 SR 2 BEH TEH SAW 8PCS @8.00 16.00 SR 2 PHONG PNEAH 6PCS @9.00 18.00 SR 10 SUBTOTAL 85.20 NET TOTAL 85.20 CASH 100.20 CHANGE 15.00 *** 20/06/2018 12:56 PM *** TAX SUMMARY SR:GST @0% AMOUNT 85.20 TAX 0.00 THANK YOU, PLEASE COME AGAIN GOODS SOLD ARE NOT REFUNDABLE \n",
      "********\n",
      "{'company': 'GH DISTRIBUTOR & MARKETING SDN BHD', 'date': '20/06/2018', 'address': '216, MACALISTER ROAD, 10400 PENANG, 10400 PENANG.', 'total': '85.20'}\n",
      "\n",
      "\n",
      "For id =  X51005676544\n",
      "SYARIKAT PERNIAGAAN GIN KEE (81109-A) NO 290, JALAN AIR PANAS, SETAPAK, 53200, KUALA LUMPUR TEL : 03-40210276 GST ID : 000750673920 SIMPLIFIED TAX INVOICE CASH DOC NO. GOODS SOLD ARE NOT RETURNABLE, THANK YOU. : CS00012494 DATE: 02/01/2018 CASHIER : USER 0.12 TIME: 09:29:00 SALESPERSON : REF. : ITEM QTY S/PRICE AMOUNT TAX 1432 1 2.12 2.12 SR GLOVE 1200 (PER PAIR) TOTAL QTY: 1 2.12 TOTAL SALES (EXCLUDING GST) : 2.00 DISCOUNT : 0.00 TOTAL GST : 0.12 ROUNDING : 0.00 TOTAL SALES (INCLUSIVE OF GST) : 2.12 CASH : 2.12 CHANGE : 0.00 GST SUMMARY TAX CODE % AMT(RM) TAX(RM) SR 6 2.00 0.12 TOTAL: 2.00 \n",
      "********\n",
      "{'company': 'SYARIKAT PERNIAGAAN GIN KEE', 'date': '02/01/2018', 'address': 'NO 290, JALAN AIR PANAS, SETAPAK, 53200, KUALA LUMPUR.', 'total': '2.12'}\n",
      "\n",
      "\n",
      "For id =  X51008145504\n",
      "AMTECH ELECTRICAL SUPPLIES (001963477-M) (GST ID NO 001285423104) 107, JALAN BANDAR RAWANG 2, PUSAT BANDAR RAWANG, 48000 RAWANG, SELANGOR D E EMAIL: AMTECH886@YAHOO.COM TEL/FAX 03-6093 6886 TAX INVOICE BILL NO : POS/27408 DATE : 27/06/18 5:02:32 PM CASHIER : AMT PAYMENT : CASH ITEM QTY PRICE AMOUNT 30W SUPER T8 LED TUBE^D/L -FNM @16.00 00004285 5 16.00 80.00 SR 2X40W LED F/FITTING (EMPTY)-ITK @14.00 00002348 4 14.00 56.00 SR GROSS AMT : 136.00 GST (6%) : 0.00 NET AMT : 136.00 RECEIVED 150.00 CHANGE 14.00 ROUND ADJ. 0.00 GST SUMMARY SR @ 0% AMOUNT(RM) 136.00 TAX(RM) 0.00 THANK YOU PLEASE COME AGAIN \n",
      "********\n",
      "{'company': 'AMTECH ELECTRICAL SUPPLIES', 'date': '27/06/18', 'address': '107,JALAN BANDAR RAWANG 2, PUSAT BANDAR RAWANG, 48000 RAWANG,SELANGOR D E', 'total': '136.00'}\n",
      "\n",
      "\n",
      "For id =  X51005361897\n",
      "TEO HENG STATIONERY & BOOKS (001451637-M) NO. 53, JALAN BESAR, 45600 BATANG BERJUNTAI SELANGOR DARUL EHSAN TEL : 03-3271 9872 GST NO. : 000689913856 SIMPLIFIED TAX INVOICE CASH RECEIPT NO. : CS1801/26821 DATE : 17/01/2018 ITEM QTY U/P DISC% AMOUNT 9555017370017 1 28.00 7.14 26.00 * - LION FILE 220*307 LAMINATING FILM TOTAL QTY. : 1 26.00 SUB-TOTAL (EX) : 26.00 TOTAL TAX : 1.56 ROUNDING : -0.01 TOTAL : 27.55 CASH : 27.55 CHANGE : 0.00 GST SUMMARY TAX CODE % AMOUNT TAX SR 6.00 26.00 1.56 TOTAL: 26.00 1.56 NOTE: (*) INDICATED THE ITEM SOLD HAS BEEN RELATED TO GST (GOODS & SERVICES TAX) GOODS SOLD ARE NOT RETURNABLE, THANK YOU. FAX : 03-3271 9481 (RM) (RM) (RM) \n",
      "********\n",
      "{'company': 'TEO HENG STATIONERY & BOOKS', 'date': '17/01/2018', 'address': 'NO.53, JALAN BESAR, 45600 BATANG BERJUNTAI SELANGOR DARUL EHSAN', 'total': '27.55'}\n",
      "\n",
      "\n",
      "For id =  X51007135037\n",
      "S&Y STATIONERY (002050590-H) NO.36G JALAN BULAN BM U5/BM, BANDAR PINGGIRAN SUBANG, SEKSYEN U5, 40150 SHAH ALAM, SELANGOR. TEL / FAX : 0163307491 / 0378317491 EMAIL: SNYSTATIONERY@HOTMAIL.COM TEL: 0163307491 / 0378317491 FAX: 0378317491 E-MAIL: SNYSTATIONERY@HOTMAIL,.COM (GST REG NO : 000906854400) S/P : SALES INV NO : CS-0004323 05-JAN-2017 03:17:50 PM INVOICE NO. DESCRIPTION UOM CODE QTY U/PRICE TOTAL(MYR) 1 LION FILE 6'S SPRING FILE PCS MFF350 50 1.60 80.00 SR DISCOUNT @10.00% -8.00 ITEM COUNT : 50 TOTAL SALES INCL. GST @6% : 72.00 TOTAL AMOUNT PAYABLE : 72.00 CASH RECEIVED : 100.00 CHANGE : 28.00 GST SUMMARY AMOUNT (MYR) TAX (MYR) SR = 6% 67.92 4.08 GOODS SOLD ARE NOT RETURNABLE/REFUNDABLE \n",
      "********\n",
      "{'company': 'S&Y STATIONERY', 'date': '05-JAN-2017', 'address': 'NO. 36G JALAN BULAN BM U5/BM, BANDAR PINGGIRAN SUBANG, SEKSYEN U5, 40150 SHAH ALAM, SELANGOR.', 'total': '72.00'}\n",
      "\n",
      "\n",
      "For id =  X51005711453\n",
      "107 GERBANG ALAF RESTAURANTS SDN BHD (65351-M) FORMERLY KNOWN AS GOLDEN ARCHES RESTAURANTS SDN BHD LICENSEE OF MCDONALD'S LEVEL 6, BANGUNAN TH, DAMANSARA UPTOWN3 NO.3, JALAN SS21/39, 47400 PETALING JAYA SETANGOR (GST ID NO: 000504664064) MCDONALD'S SHELL MAHKOTA CHERAS DT (#36 TEL NO. 03-9010-9849 TAX INVOICE MFY SIDE 1 INV# 003621900059183 ORD #07 -REG #19- 10/03/2018 17:24:07 QTY ITEM TOTAL 1 M COKE 3.50 1 MCCHICKEN 5.00 TAKEOUT TOTAL (INCL GST) 8.50 TOTAL ROUNDED 8.50 CASH TENDERED 50.00 CHANGE 41.50 TOTAL INCLUDES 6% GST 0.48 THANK YOU AND PLEASE COME AGAIN. \n",
      "********\n",
      "{'company': 'GERBANG ALAF RESTAURANTS SDN BHD', 'date': '10/03/2018', 'address': 'LEVEL 6, BANGUNAN TH, DAMANSARA UPTOWN3 NO.3, JALAN SS21/39, 47400 PETALING JAYA SELANGOR', 'total': '8.50'}\n",
      "\n",
      "\n",
      "For id =  X51005757273\n",
      "MR. D.I.Y. (KUCHAI) SDN BHD (CO REG :750441-W) LOT 1851-A & 1851-B, JALAN KPB 6, KAWASAN PERINDUSTRIAN BALAKONG , 43300 SERI KEMBANGAN, SELANGOR (GST ID NO :000473792512) (STRAND MALL KOTA DAMANSARA) - TAX INVOICE - PYEDRAIN CLOG FREE CLDR02 - 1000ML *S WA05 - 12 9556268000210 3 X 15.00 45.00 ITEM(S) : 1 QTY(S) : 3 TOTAL INCL. GST@6% RM 45.00 CARD RM 45.00 GST SUMMARY AMT(RM) TAX(RM) GST S@6% 42.45 2.55 12-03-18 14:37 SH02 B011 T1 R000183898 OPERATOR STMT - AZMIZAN EXCHANGE ARE ALLOWED WITHIN 7 DAYS WITH RECEIPT . STRICTLY NO CASH REFUND . \n",
      "********\n",
      "{'company': 'MR. D.I.Y. (KUCHAI) SDN BHD', 'date': '12-03-18', 'address': 'LOT 1851-A & 1851-B, JALAN KPB 6, KAWASAN PERINDUSTRIAN BALAKONG, 43300 SERI KEMBANGAN, SELANGOR', 'total': '45.00'}\n",
      "\n",
      "\n",
      "For id =  X51005757199\n",
      "POPULAR BOOK CO. (M) SDN BHD (CO. NO. 113825-W) (GST REG NO. 001492992000) NO 8, JALAN 7/118B, DESA TUN RAZAK 56000 KUALA LUMPUR , MALAYSIA IOI MALL TEL : 03-80709188 / 80757830 01/03/18 12:36 SLIP NO. : 9070058756 SITI TRANS: 21396 DESCRIPTION AMOUNT W/ENV4.5*9.5 UNI P&S ENV 4.5X9.75 1.90 T 2.10 T TOTAL RM INCL. OF GST CASH CHANGE 4.00 -10.00 6.00 ITEM COUNT GST SUMMARY T @ 6% AMOUNT (RM) 3.77 TAX (RM) 0.23 2 TOTAL SAVINGS 0.00 BE A POPULAR CARD MEMBER AND ENJOY SPECIAL DISCOUNTS THANK YOU. PLEASE COME AGAIN. WWW. POPULAR. COM. MY BUY CHINESE BOOKS ONLINE WWW. POPULARONLINE. COM. MY \n",
      "********\n",
      "{'company': 'POPULAR BOOK CO. (M) SDN BHD', 'date': '01/03/18', 'address': 'NO 8. JALAN 7/118B, DESA TUN RAZAK 56000 KUALA LUMPUR, MALAYSIA', 'total': '4.00'}\n",
      "\n",
      "\n",
      "For id =  X51005757351\n",
      "MR. D.I.Y. (M) SDN BHD (CO. REG :860671-D) LOT 1851-A & 1851-B, JALAN KPB 6, KAWASAN PERINDUSTRIAN BALAKONG , 43300 SERI KEMBANGAN, SELANGOR (GST ID NO :000306020352) (IOI PUCHONG) -TAX INVOICE- MULTIPURPOSE BROOM 737P W/4FT *S WA16 - 24 9555221300282 2 X 6.50 13.00 HOSE PUMP C88351# *S KE23-33-53 - 12/120 9074333 1 X 1.90 1.90 ITEM(S) : 2 QTY(S) : 3 TOTAL INCL. GST@6% RM 14.90 CASH RM 20.00 CHANGE RM 5.10 GST @6% INCLUDED IN TOTAL RM 0.84 24-03-18 18:02 SHO1 ZJ86 T1 R000112043 OPERATOR TRAINEE CASHIER EXCHANGE ARE ALLOWED WITHIN 7 DAY WITH RECEIPT . STRICTLY NO CASH REFUND . \n",
      "********\n",
      "{'company': 'MR. D.I.Y. (M) SDN BHD', 'date': '24-03-18', 'address': 'LOT 1851-A & 1851-B, JALAN KPB 6, KAWASAN PERINDUSTRIAN BALAKONG, 43300 SERI KEMBANGAN, SELANGOR', 'total': '14.90'}\n",
      "\n",
      "\n",
      "For id =  X51005676538\n",
      "SYARIKAT PERNIAGAAN GIN KEE (81109-A) NO 290, JALAN AIR PANAS, SETAPAK, 53200, KUALA LUMPUR TEL : 03-40210276 GST ID : 000750673920 SIMPLIFIED TAX INVOICE CASH DOC NO. GOODS SOLD ARE NOT RETURNABLE, THANK YOU. : CS00012543 DATE: 04/01/2018 CASHIER 2.53 : USER TIME: 15:39:00 SALESPERSON : REF. : ITEM QTY S/PRICE AMOUNT TAX 2402 1 3.71 3.71 SR 25MM GI NIPPLE 1462 2 0.64 1.27 SR SEAL TAPE 1748 1 5.83 5.83 SR 32MM POLY SOCKET 2247 1 33.92 33.92 SR 1\" BALL VALVE TOTAL QTY: 5 44.73 TOTAL SALES (EXCLUDING GST) : 42.20 DISCOUNT : 0.00 TOTAL GST : 2.53 ROUNDING : 0.00 TOTAL SALES (INCLUSIVE OF GST) : 44.73 CASH : 44.73 CHANGE : 0.00 GST SUMMARY TAX CODE % AMT(RM) TAX(RM) SR 6 42.20 2.53 TOTAL : 42.20 \n",
      "********\n",
      "{'company': 'SYARIKAT PERNIAGAAN GIN KEE', 'date': '04/01/2018', 'address': 'NO 290, JALAN AIR PANAS, SETAPAK, 53200, KUALA LUMPUR.', 'total': '44.73'}\n",
      "\n",
      "\n",
      "For id =  X51005442327\n",
      "UNIHAKKA INTERNATIONAL SDN BHD 18 MAR 2018 18:25 (867388-U) 12,JALAN TAMPOI 7/4,KAWASAN PERINDUSTRIAN TAMPOI,81200 JOHOR BAHRU,JOHOR TAX INVOICE INVOICE # : OR18031802170364 ITERN QTY TOTAL SR I00100000031-3 VEGE $4.40 1 $4.40 SR I00100000064-ADD VEGETABLE $0.50 1 $0.50 SR I00100000114-ADD CHICKEN $3.70 1 $3.70 TOTAL AMOUNT: $8.60 GST @6%: $0.49 NETT TOTAL: $8.60 PAYMENT MODE AMOUNT CASH $8.60 CHANGE $0.00 GST SUMMARY AMOUNT($) TAX($) SR=GST @6% 8.11 0.49 GST REG #000656195584 BAR WANG RICE@PERMAS JAYA (PRICE INCLUSIVE OF GST) THANK YOU & CORNE AGAIN! LIKE AND FOLLOW LIS ON FACEBOOK! FACEBOOK.COM/BARWANGRICE \n",
      "********\n",
      "{'company': 'UNIHAKKA INTERNATIONAL SDN BHD', 'date': '18 MAR 2018', 'address': '12, JALAN TAMPOI 7/4,KAWASAN PARINDUSTRIAN TAMPOI,81200 JOHOR BAHRU,JOHOR', 'total': '$8.60'}\n",
      "\n",
      "\n",
      "For id =  X51006328920\n",
      "B & BEST RESTAURANT (001610235-P) GST NO. : 001800839168 NO. AN SS4C/5,PETALING JAYA ANGOR DARUL EHSAN : 012-2060 778 **TAX INVOICE** BILL NO: 00127408 / POS01 BIZDATE: 20/03/2017 CASHIER: MANAGER PRINTED: 20/03/2017 11:12:35 AM RM 2 FISHBALL NOODLE @7.00 14.00 2 SUB TOTAL 14.00 GST 6% 0.84 ROUNDING ADJ 0.01 NET TOTAL 14.85 CASH 14.85 CHANGE 0.00 THANK YOU...PLEASE COME AGAIN... HTTPS://M.FACEBOOK.COM/B-BEST-RESTAURANT ALL ITEM WILL BE CHARGES GST \n",
      "********\n",
      "{'company': 'B & BEST RESTAURANT', 'date': '20/03/2017', 'address': 'NO.12, JALAN SS4C/5,PETALING JAYA SELANGOR DARUL EHSAN', 'total': '14.85'}\n",
      "\n",
      "\n",
      "For id =  X51005663279\n",
      "SYARIKAT PERNIAGAAN GIN KEE (81109-A) NO 290. JALAN AIR PANAS. SETAPAK, 53200, KUALA LUMPUR TEL: 03-40210276 GST ID: 000750673920 SIMPLIFIED TAX INVOICE CASH DOC NO. : CS00012441 DATE: 28/12/2017 CASHIER : USER TIME: 11:58:00 SALESPERSON: REF.: ITEM QTY S/PRICE AMOUNT TAX 1971 1 148.40 148.40 SR PASIR HALUS 1 LOAD (SMALL) TOTAL QTY: 1 148.40 TOTAL SALES (EXCLUDING GST) : 140.00 DISCOUNT : 0.00 TOTAL GST : 8.40 ROUNDING : 0.00 TOTAL SALES(INCLUSIVE OF GST) : 148.40 CASH : 148.40 CHANGE : 0.00 GST SUMMARY TAX CODE % AMT(RM) TAX(RM) SR 6 140.00 8.40 TOTAL: 140.00 8.40 GOODS SOLD ARE NOT RETURNABLE.THANK YOU \n",
      "********\n",
      "{'company': 'SYARIKAT PERNIAGAAN GIN KEE', 'date': '28/12/2017', 'address': 'NO 290, JALAN AIR PANAS. SETAPAK, 53200, KUALA LUMPUR', 'total': '148.40'}\n",
      "\n",
      "\n",
      "For id =  X51005433552\n",
      "WARAKUYA PERMAS CITY SDN BHD REG NO: 1203194-W JALAN PERMAS UTARA 1. PERMAS JAYA 81750 MASAI JOHOR TEL : 0111-558 0000 GST ID: 0016 6993 5104 TAX INVOICE NO 58244 42 DATE: 10/03/2018 5:41:06 PAX NO:4 CASHIER: CASHIER3 WAITER: HANYIN QTY CODE/DESC THANK YOU ! PLEASE COME AGAIN ! TOTAL RM 3 SABA SHIO YAKI SEY 53.70 1 SALMON SHIO SET 21.90 4 ICED GREEN TEA 4.00 SUBTOTAL 79.60 DISCOUNT -30.00 TOTAL AMOUNT : 49.60 SERV CHARGE 10% 4.96 GST @ 6% 3.27 ROUNDING ADJ : -0.03 TOTAL AMOUNT: 57.80 TOTAL: RM 57.80 TYPE 3 GST SUMMARY AMOUNT RM TAX RM SR 6% 54.56 3.27 \n",
      "********\n",
      "{'company': 'WARAKUYA PERMAS CITY SDN BHD', 'date': '10/03/2018', 'address': 'JALAN PERMAS UTARA 1 PERMAS JAYA 81750 MASAI JOHOR', 'total': '57.80'}\n",
      "\n",
      "\n",
      "For id =  X51005757324\n",
      "MR. D.I.Y. (M) SDN BHD (CO. REG :860671-D) LOT 1851-A & 1851-B, JALAN KPB 6 , KAWASAN PERINDUSTRIAN BALAKONG , 43300 SERI KEMBANGAN, SELANGOR (GST ID NO :000306020352) (IOI PUCHONG) -TAX INVOICE- TRAC DRY IRON TR-231IR - 1200W(SR) N *S WA10 - 12 9555493002853 1 26.90 26.90 SINGLE BEDSHEET SET 90*188+20CM *S JD52-63 - 20 9034713 1 X 23.90 23.90 ITEM(S) : 2 QTY(S) : 2 TOTAL INCL. GST@6% RM 50.80 CASH RM 51.00 CHANGE RM 0.20 GST @6% INCLUDED IN TOTAL RM 2.88 25-03-18 18:47 SHO1 ZJ86 T1 R000112415 OPERATOR TRAINEE CASHIER EXCHANGE ARE ALLOWED WITHIN 7 DAY WITH RECEIPT. STRICTLY NO CASH REFUND . \n",
      "********\n",
      "{'company': 'MR. D.I.Y. (M) SDN BHD', 'date': '25-03-18', 'address': 'LOT 1851-A & 1851-B, JALAN KPB 6, KAWASAN PERINDUSTRIAN BALAKONG, 43300 SERI KEMBANGAN, SELANGOR', 'total': '50.80'}\n",
      "\n",
      "\n",
      "For id =  X51005337872\n",
      "SYL ROASTED DELIGHTS SDN. BHD. 1227039 75, JALAN SS 22/19, DAMANSARA JAYA, 47400 PJ, TEL : 03-7731 8169 GST ID : 002046390272 DOC NO. : SO00022185 TABLE A10 CASHIER USER DATE: 06/03/2018 SALESPERSON: TIME: 12:06:00 DESCRIPTION QTY PRICE AMOUNT (T02) BRAISED PORK 2.0 7.00 14.00 RICE WITH PEANUT T PORK - 1.0 12.00 12.00 SMALL (V02) SOUR & SPICY 1.0 12.00 12.00 MUSTARD (B03) JASMINE GREEN 2.0 2.30 4.60 TEA(HOT) (R05) ROAST PORK + 1.0 11.90 11.90 ROAST CHICKEN RICE TOTAL QTY: 7 51.42 TOTAL SALES (EXCLUDING GST) : 51.42 DISCOUNT : 0.00 TOTAL GST : 3.08 ROUNDING : 0.00 TOTAL SALES (INCLUSIVE OF GST) 54.50 ( \n",
      "********\n",
      "{'company': 'SYL ROASTED DELIGHTS SDN. BHD.', 'date': '06/03/2018', 'address': '75. JALAN SS 22/19, DAMANSARA JAYA, 47400 PJ', 'total': '54.50'}\n",
      "\n",
      "\n",
      "For id =  X51008114281\n",
      "99 SPEED MART S/B (519537-X) LOP P.T. 2811, JALAN ANGSA, TAMAN BERKELEY 41150 KLANG, SELANGOR 1237-TMN INDAH PERDANA GST ID. NO : 000181747712 INVOICE NO : 18418/102/T0260 05:36PM 568268 04-06-18 620 CARNATION SUSU KRIMER S RM7.50 Z @3 X RM 2.50 0715 KNORR CHICKEN STOCK 1K RM15.90 Z TOTAL SALES RM 23.40 CASH RM 25.00 CHANGE RM 1.60 GST SUMMARY AMOUNT(RM) TAX(RM) Z = 0% 23.40 .00 THANK YOU. PLEASE COME AGAIN KEEP THE INVOICE FOR APPLICABLE RETURNS \n",
      "********\n",
      "{'company': '99 SPEED MART S/B', 'date': '04-06-18', 'address': 'LOT P.T. 2811, JALAN ANGSA, TAMAN BERKELEY 41150 KLANG, SELANGOR 1237-TMN INDAH PERDANA', 'total': '23.40'}\n",
      "\n",
      "\n",
      "For id =  X51005676545\n",
      "SYARIKAT PERNIAGAAN GIN KEE (81109-A) NO 290, JALAN AIR PANAS, SETAPAK, 53200, KUALA LUMPUR TEL : 03-40210276 GST ID : 000750673920 SIMPLIFIED TAX INVOICE CASH DOC NO. GOODS SOLD ARE NOT RETURNABLE, THANK YOU. CS00012727 DATE: 13/01/2018 CASHIER 0.36 USER TIME: 15:53:00 SALESPERSON : REF. : ITEM QTY S/PRICE AMOUNT TAX 1432 3 2.12 6.36 SR GLOVE 1200 (PER PAIR) TOTAL QTY: 3 6.36 TOTAL SALES (EXCLUDING GST) : 6.00 DISCOUNT : 0.00 TOTAL GST : 0.36 ROUNDING : 0.00 TOTAL SALES (INCLUSIVE OF GST) : 6.36 CASH : 6.36 CHANGE : 0.00 GST SUMMARY TAX CODE % AMT(RM) TAX(RM) SR 6 6.00 0.36 TOTAL : 6.00 \n",
      "********\n",
      "{'company': 'SYARIKAT PERNIAGAAN GIN KEE', 'date': '13/01/2018', 'address': 'NO 290, JALAN AIR PANAS, SETAPAK, 53200, KUALA LUMPUR.', 'total': '6.36'}\n",
      "\n",
      "\n",
      "For id =  X51005676547\n",
      "SYARIKAT PERNIAGAAN GIN KEE (81109-A) NO 290, JALAN AIR PANAS, SETAPAK, 53200, KUALA LUMPUR TEL : 03-40210276 GST ID : 000750673920 SIMPLIFIED TAX INVOICE CASH DOC NO. : CS00012726 DATE: 13/01/2018 TIME: 15:52:00 CASHIER : USER GOODS SOLD ARE NOT RETURNABLE, THANK YOU. 0.72 SALESPERSON : REF. : ITEM QTY S/PRICE AMOUNT TAX 1432 6 2.12 12.72 SR GLOVE 1200 (PER PAIR) TOTAL QTY: 6 12.72 TOTAL SALES (EXCLUDING GST) : 12.00 DISCOUNT : 0.00 TOTAL GST : 0.72 ROUNDING : 0.00 TOTAL SALES (INCLUSIVE OF GST) : 12.72 CASH : 12.72 CHANGE : 0.00 GST SUMMARY TAX CODE % AMT(RM) TAX(RM) SR 6 12.00 0.72 TOTAL : 12.00 \n",
      "********\n",
      "{'company': 'SYARIKAT PERNIAGAAN GIN KEE', 'date': '13/01/2018', 'address': 'NO 290, JALAN AIR PANAS, SETAPAK, 53200, KUALA LUMPUR.', 'total': '12.72'}\n",
      "\n",
      "\n",
      "For id =  X51005745187\n",
      "GOODS SOLD ARE NOT RETURNABLE THANK YOU SLF CASH & CARRY (002107265-V) NO. 15.JLN TSJ2.TMN SUBANG JASA. OFF JLN BT 3 SUBANG. 40000 SHAH ALAM. SEL. TEL : 03-77343662 FAX : TAX INVOICE GST ID : 001169362944 SIMPLIFIED TAX INVOICE CASH DOC NO : CS00241999 DATE: 03/02/2018 CASHIER : WOON TIME: 08:37:00 SALESPERSON : REF : ITEM QTY S/PRICE AMOUNT TAX 9557366100208 1 21.20 21.20 SR CRISPO MINYAK SAPI800G TOTAL QTY: 1 21.20 TOTAL SALES (EXCLUDING GST) : 20.00 DISCOUNT : 0.00 TOTAL GST 1.20 ROUNDING : 0.00 TOTAL SALES : 21.20 (INCLUSIVE OF GST) CASH : 100.00 CHANGE : 78.80 GST SUMMARY TAX CODE % AMT (RM) TAX (RM) SR 6 20.00 1.20 TOTAL : 20.00 1.20 \n",
      "********\n",
      "{'company': 'SLF CASH & CARRY', 'date': '03/02/2018', 'address': 'NO. 15. JLN TSJ2,TMN SUBANG JASA, OFF JLN BT 3 SUBANG. 40000 SHAH ALAM. SEL.', 'total': '21.20'}\n",
      "\n",
      "\n",
      "For id =  X51005568900\n",
      "MR. D.I.Y. SDN BHD (CO.REG :704427-T) LOT 1851-A & 1851-B, JALAN KPB 6, KWANSAN PERINDUSTRIAN BLANKONG, 43300 SERI KEMBANGAN, SELANGOR (GST ID NO :001092886528) (CHERAS LEISURE MALL) -TAX INVOICE- PADLOCK ST-P6150 50MM *S 0Z02 - 12/48 6942131561507 1 X 9.90 9.90 ITEM(S) : 1 QTY(S) : 1 TOTAL INCL. GST@6% RM 9.90 CASH RM 10.00 CHANGE RM 0.10 GST SUMMARY AMT(RM) TAX(RM) GST S@6% 9.34 0.56 28-12-17 18:52 SH01 ZT09 T1 R000020832 OPERATOR TRAINEE CASHIER EXCHANGE ARE ALLOWED WITHIN 7 DAY WITH RECEIPT, STRICTLY NO CASH REFUND. \n",
      "********\n",
      "{'company': 'MR. D.I.Y. SDN BHD', 'date': '28-12-17', 'address': 'LOT 1851-A & 1851-B, JALAN KPB 6, KAWASAN PERINDUSTRIAN BALAKONG, 43300 SERI KEMBANGAN, SELANGOR', 'total': '9.90'}\n",
      "\n",
      "\n",
      "For id =  X51005676543\n",
      "SYARIKAT PERNIAGAAN GIN KEE (81109-A) NO 290, JALAN AIR PANAS, SETAPAK, 53200, KUALA LUMPUR TEL : 03-40210276 GST ID : 000750673920 SIMPLIFIED TAX INVOICE CASH DOC NO. GOODS SOLD ARE NOT RETURNABLE, THANK YOU. : CS00012493 DATE: 02/01/2018 CASHIER 0.75 : USER TIME: 09:28:00 SALESPERSON : REF. : ITEM QTY S/PRICE AMOUNT TAX 1720 1 3.18 3.18 SR SPONGE SCRUB W-PLASTIC HANDLE 1604 1 10.07 10.07 SR 4 1/2\" PLASTERING TROWEL TOTAL QTY: 2 13.25 TOTAL SALES (EXCLUDING GST) : 12.50 DISCOUNT : 0.00 TOTAL GST : 0.75 ROUNDING : 0.00 TOTAL SALES (INCLUSIVE OF GST) : 13.25 CASH : 13.25 CHANGE : 0.00 GST SUMMARY TAX CODE % AMT(RM) TAX(RM) SR 6 12.50 0.75 TOTAL : 12.50 \n",
      "********\n",
      "{'company': 'SYARIKAT PERNIAGAAN GIN KEE', 'date': '02/01/2018', 'address': 'NO 290, JALAN AIR PANAS, SETAPAK, 53200, KUALA LUMPUR.', 'total': '13.25'}\n",
      "\n",
      "\n",
      "For id =  X51005676539\n",
      "SYARIKAT PERNIAGAAN GIN KEE (81109-A) NO 290, JALAN AIR PANAS, SETAPAK, 53200, KUALA LUMPUR TEL : 03-40210276 GST ID : 000750673920 SIMPLIFIED TAX INVOICE CASH DOC NO GOODS SOLD ARE NOT RETURNABLE, THANK YOU. : CS00012626 DATE: 10/01/2018 CASHIER 1.32 : USER TIME: 09:20:00 SALESPERSON : REF. : ITEM QTY S/PRICE AMOUNT TAX 1943 1 23.32 23.32 SR HOES SET TOTAL QTY: 1 23.32 TOTAL SALES (EXCLUDING GST) : 22.00 DISCOUNT : 0.00 TOTAL GST : 1.32 ROUNDING : 0.00 TOTAL SALES (INCLUSIVE OF GST) : 23.32 CASH : 23.32 CHANGE : 0.00 GST SUMMARY TAX CODE % AMT(RM) TAX(RM) SR 6 22.00 1.32 TOTAL : 22.00 \n",
      "********\n",
      "{'company': 'SYARIKAT PERNIAGAAN GIN KEE', 'date': '10/01/2018', 'address': 'NO 290, JALAN AIR PANAS, SETAPAK, 53200, KUALA LUMPUR.', 'total': '23.32'}\n",
      "\n",
      "\n",
      "For id =  X51005605284\n",
      "ADVANCO COMPANY COMPANY REG. NO.: 725186-V NO 1&3, JALAN ANGSA DELIMA 12, WANGSA LINK, WANGSA MAJU, 53300 KUALA LUMPUR 03-41318972 GST REG: 001658445824 TAX INVOICE CB#: 398313 23/03/2018 3:13:19 M#: M2-0 CASHIER: C2000- QTY DESCRIPTION PRICE TOTAL FUJI XEROX EVERYDAY A4 70GSM SR 5 57499 11.00 55.00 ITEM DISCOUNT $0.20 -1.00 CANON PG-47BK E400 BLACK FINE( SR 1 27736 29.00 29.00 6 TYPE: 2 TOTAL 84.00 DISC $.20 X 5 -1.00 ROUNDING ADJ 0.00 TOTAL INCLUSIVE GST: 83.00 CASH 85.00 CHANGE 2.00 GST SUMMARY CODE % NET AMT GST TOTAL SR 6% 78.30 4.70 83.00 TOTAL 78.30 4.70 83.00 THANK YOU & PLEASE COME AGAIN. GOODS SOLD ARE NOT RETURNABLE FOR REFUND OR EXCHANGE!! \n",
      "********\n",
      "{'company': 'ADVANCO COMPANY', 'date': '23/03/2018', 'address': 'NO 1&3, JALAN WANGSA DELIMA 12, WANGSA LINK, WANGSA MAJU, 53300 KUALA LUMPUR', 'total': '83.00'}\n",
      "\n",
      "\n",
      "For id =  X51007846391\n",
      "UNIHAKKA INTERNATIONAL SDN BHD 20 JUN 2018 18:15 (867388-U) 12, JALAN TAMPOI 7/4,KAWASAN PERINDUSTRIAN TAMPOI,81200 JOHOR BAHRU,JOHOR TAX INVOICE INVOICE # : OR18062002170346 ITEM QTY TOTAL SR I00100000035- 1 MEAT + 3 VEGE RM6.69 SR I00100000170- IMPORTED VEGGIES RM1.50 RM6.69 RM1.50 1 1 TOTAL AMOUNT: RM8.19 GST @0%: RM0.00 ROUNDING: RM0.01 NETT TOTAL: RM8.20 PAYMENT MODE CASH CHANGE AMOUNT RM8.20 RM0.00 GST SUMMARY AMOUNT(RM) TAX(RM) SR = GST @0% 8.19 0.00 GST REG #000656195584 BAR WANG RICE@PERMAS JAYA THANK YOU & COME AGAIN! LIKE AND FOLLOW US ON FACEBOOK! FACEBOOK.COM/BARWANGRICE \n",
      "********\n",
      "{'company': 'UNIHAKKA INTERNATIONAL SDN BHD', 'date': '20 JUN 2018', 'address': '12, JALAN TAMPOI 7/4,KAWASAN PERINDUSTRIAN TAMPOI,81200 JOHOR BAHRU, JOHOR', 'total': 'RM8.20'}\n",
      "\n",
      "\n",
      "For id =  X51005453729\n",
      "3180303 LIAN HING STATIONERY SDN BHD (162761-M) NO.32 & 33,JALAN SR 1/9. SEKSYEN 9. TAMAN SERDANG RAYA, 43300 SERI KEMBANGAN, SELANGOR DARUL EHSAN GST ID : 002139201536 TAX INVOICE 27/03/2018 NO.: CS-20242 QTY TAX RM DURSFILE H399(110 X 95MM) 100 SR 58.30 NAME BADGE (H) @ 0.5500 809 METAL NAME BADGE CLIP 1 SR 21.20 100'S @ 20.0000 TOTAL AMT INCL. GST @ 6%: 79.50 ROUNDING ADJUSTMENT: TOTAL AMT PAYABLE: 79.50 PAID AMOUNT: 100.00 CHANGE: 20.50 TOTAL QTY TENDER: 101 GST SUMMARY AMOUNT TAX (RM) (RM) SR @ A 75.00 4.50 TOTAL 75.00 4.50 THANK YOU FOR ANY ENQUIRY, PLEASE CONTACT US; \n",
      "********\n",
      "{'company': 'LIAN HING STATIONERY SDN BHD', 'date': '27/03/2018', 'address': 'NO.32 & 33, JALAN SR 1/9, SEKSYEN 9, TAMAN SERDANG RAYA, 43300 SERI KEMBANGAN, SELANGOR DARUL EHSAN', 'total': '79.50'}\n",
      "\n",
      "\n",
      "For id =  X51005447832\n"
     ]
    },
    {
     "name": "stdout",
     "output_type": "stream",
     "text": [
      "PETRODELI ENTERPRISE COMPANY NO: SA0127959-D SITE: 2395 LOT 485,TMN LEMBAH KERAMAT JLN ULU KELANG . 54200 KUALA LUMPUR TELEPHONE: 03-41056485 GST NO: 000145047552 INVOICE NUMBER: 60000152273 39.42 LITRE PUNP # 09 FUELSAVE 95 RM 85.54 C 2.170 RM / LITRE TOTAL RM 85.54 VISA RM 85.54 RELIEF GST C RM 0.00 TOTAL GROSS C RM 85.54 SHELL LOYALTY CARD 6018840059147765 POINTS AWARDED: 39 DATE TIME NUM OPT 26/02/18 08:28 10886 09 DIESEL & PETROL RON95 GIVEN RELIEF UNDER SECTION 56 (3) (B) GST ACT 2014 THANK YOU PLEASE COME AGAIN \n",
      "********\n",
      "{'company': 'PETRODELI ENTERPRISE', 'date': '26/02/18', 'address': 'LOT 485, TMN LEMBAH KERAMAT JLN ULU KELANG,  54200 KUALA LUMPUR', 'total': '85.54'}\n",
      "\n",
      "\n",
      "For id =  X51006401723\n",
      "S&Y STATIONERY (002050590-H) NO.36G JALAN BULAN BM U5/BM, BANDAR PINGGIRAN SUBANG, SEKSYEN U5, 40150 SHAH ALAM, SELANGOR. TEL / FAX : 0163307491 / 0378317491 EMAIL: SNYSTATIONERY@HOTMAIL.COM TEL: 0163307491 / 0378317491 FAX: 0378317491 E-MAIL: SNYSTATIONERY@HOTMAIL,.COM (GST REG NO : 000906854400) S/P : SALES INV NO : CS-0004323 05-JAN-2017 03:17:50 PM INVOICE NO.DESCRIPTION UOM CODE QTY U/PRICE TOTAL(MYR) 1 LION FILE 6'S SPRING FILE PCS MFF350 50 1.60 80.00 SR DISCOUNT @10.00% -8.00 ITEM COUNT : 50 TOTAL SALES INCL. GST @6% : 72.00 TOTAL AMOUNT PAYABLE : 72.00 CASH RECEIVED : 100.00 CHANGE : 28.00 GST SUMMARY AMOUNT (MYR) TAX (MYR) SR = 6% 67.92 4.08 GOODS SOLD ARE NOT RETURNABLE/REFUNDABLE \n",
      "********\n",
      "{'company': 'S&Y STATIONERY', 'date': '05-JAN-2017', 'address': 'NO. 36G JALAN BULAN BM U5/BM, BANDAR PINGGIRAN SUBANG, SEKSYEN U5, 40150 SHAH ALAM, SELANGOR.', 'total': '72.00'}\n",
      "\n",
      "\n",
      "For id =  X51005677334\n",
      "SYARIKAT PERNIAGAAN GIN KEE (81109-A) NO 290, JALAN AIR PANAS. SETAPAK, 53200, KUALA LUMPUR. TEL : 03-40210276 GST ID : 000750673920 SIMPLIFIED TAX INVOICE CASH DOC NO. CASHIER SALESPERSON : GOODS SOLD ARE NOT RETURNABLE, THANK YOU 4.68 78.00 : CS00013066 : USER DATE: 31/01/2018 TIME: 11:33:00 REF. : TOTAL : 4.68 ITEM QTY S/PRICE AMOUNT TAX 1701 2167 5 1 6.36 50.88 31.80 50.88 SR SR 6/8BATU (BAG) 4.5KG RENDEROC PLUG TOTAL QTY: 6 82.68 TOTAL SALES (EXCLUDING GST) : DISCOUNT : TOTAL GST : ROUNDING : TOTAL SALES (INCLUSIVE OF GST) : CASH : CHANGE : 78.00 6 SR TAX (RM) AMT (RM) % TAX CODE 78.00 0.00 4.68 0.00 82.68 82.68 0.00 GST SUMMARY \n",
      "********\n",
      "{'company': 'SYARIKAT PERNIAGAAN GIN KEE', 'date': '31/01/2018', 'address': 'NO 290, JALAN AIR PANAS, SETAPAK, 53200, KUALA LUMPUR.', 'total': '82.68'}\n",
      "\n",
      "\n",
      "For id =  X51005677335\n",
      "SYARIKAT PERNIAGAAN GIN KEE (81109-A) NO 290. JALAN AIR PANAS. SETAPAK. 53200, KUALA LUMPUR. TEL : 03-40210276 GST ID : 000750673920 SIMPLIFIED TAX INVOICE CASH DOC NO. : CS00012922 DATE: 24/01/2018 CASHIER : USER TIME: 10:50:00 SALESPERSON : REF.: ITEM QTY S/PRICE AMOUNT TAX 1700 PASIR HALUS (BAG) 2430 CEMENT (50KG) 6 6.36 38.16 SR 2 18.02 36.04 SR TOTAL QTY: 8 74.20 TOTAL SALES (EXCLUDING GST) : 70.00 DISCOUNT : 0.00 TOTAL GST : 4.20 ROUNDING : 0.00 TOTAL SALES (INCLUSIVE OF GST) : 74.20 CASH : 74.20 CHANGE : 0.00 GST SUMMARY TAX CODE % AMT(RM) TAX (RM) SR 6 70.00 4.20 TOTAL : 70.00 4.20 GOODS SOLD ARE NOT RETURNABLE, THANK YOU. \n",
      "********\n",
      "{'company': 'SYARIKAT PERNIAGAAN GIN KEE', 'date': '24/01/2018', 'address': 'NO 290, JALAN AIR PANAS, SETAPAK, 53200, KUALA LUMPUR.', 'total': '74.20'}\n",
      "\n",
      "\n",
      "For id =  X51005663277\n",
      "SYARIKAT PERNIAGAAN GIN KEE (81109-A) NO 290, JALAN AIR PANAS. SETAPAK, 53200, KUALA LUMPUR, TEL: 03-40210276 SIMPLIFIED TAX INVOICE CASH DOC NO. : CS00011926 DATE: 02/12/2017 CASHIER : USER TIME: 08:44:00 SALEPERSON: REF.: ITEM QTY S/PRICE AMOUNT TAX 3122 1 29.68 29.68 SR (W33) 105MM/4' CUTTING DISC TOTAL QTY: 1 29.68 TOTAL SALES (EXCLUDING GST) : 28.00 DISCOUNT : 0.00 TOTAL GST : 1.68 ROUNDING : 0.00 TOTAL SALES(INCLUSIVE OF GST) : 29.68 CASH : 29.68 CHANGE : 0.00 GST SUMMARY TAX CODE % AMT(RM) TAX(RM) SR 6 28.00 1.68 TOTAL: 28.00 1.68 GST ID : 000750673920 \n",
      "********\n",
      "{'company': 'SYARIKAT PERNIAGAAN GIN KEE', 'date': '02/12/2017', 'address': 'NO 290, JALAN AIR PANAS. SETAPAK, 53200, KUALA LUMPUR.', 'total': '29.68'}\n",
      "\n",
      "\n",
      "For id =  X51005433494\n",
      "AEON CO. (M) BHD (126926-H) 3RD FLR, AEON TAMAN MALURI SC JLN JEJAKA, TAMAN MALURI CHERAS, 55100 KUALA LUMPUR GST ID : 002017394688 SHOPPING HOURS SUN-THU: 1000 HRS - 2230 HRS FRI-SAT : 1000 HRS - 2300 HRS 1X 000007996511 75.00SR AMBROSIAL GREEK SUB-TOTAL 75.00 TOTAL SALES INCL GST 75.00 TOTAL AFTER ADJ INCL GST 75.00 CASH 100.00 ITEM COUNT 1 CHANGE AMT 25.00 INVOICE NO: 2018030610100080498 GST SUMMARY AMOUNT TAX SR @ 6% 70.75 4.25 TOTAL 70.75 4.25 06/03/2018 20:01 1010 008 00B0498 0305582 PJ PIRYALATHA AEON PERMAS JAYA TEL 1-300-80-AEON (2366) THANK YOU FOR YOUR PATRONAGE PLEASE COME AGAIN \n",
      "********\n",
      "{'company': 'AEON CO. (M) BHD', 'date': '06/03/2018', 'address': '3RD FLR, AEON TAMAN MALURI SD JLN JEJAKA, TAMAN MALURI CHERAS, 55100 KUALA LUMPUR', 'total': '75.00'}\n",
      "\n",
      "\n",
      "For id =  X51008142033\n",
      "ONE ONE THREE SEAFOOD RESTAURANT SDN BHD (1120908-M) NO.1, TAMAN SRI DENGKIL, JALAN AIR HITAM 43800 DENGKIL, SELANGOR. (GST REG. NO : 000670224384) TAX INVOICE TABLE 37 BILL#:V001-538524 ORDER#: 138624 DATE : 19-05-2018 12:46:58 PLEASE COME AGAIN CASHIER: 113 CASHIER PAX(S) 0 QTY DESCRIPTION TOTAL TAX 1 D 15.00 SR RICE W SEAFOOD /MEAT ITEM SINGLE 1 D 5.00 SR BEVERAGE 1 D 20.00 SR NOODLE ITEM SINGLE TOTAL (EXCLUDING GST): 40.00 GST PAYABLE: 2.40 TOTAL (INCLUSIVE OF GST): 42.40 TOTAL : 42.40 CLOSED: 1 19-05-2018 14:43:41 SERVER: 113 CASHIER CASH : 42.40 GST SUMMARY AMOUNT(RM) TAX(RM) SR (@ 6%) 40.00 2.40 **** THANK YOU **** \n",
      "********\n",
      "{'company': 'ONE ONE THREE SEAFOOD RESTAURANT SDN BHD', 'date': '19-05-2018', 'address': 'NO. 1, TAMAN SRI DENGKIL, JALAN AIR HITAM 43800 DENGKIL, SELANGOR.', 'total': '42.40'}\n",
      "\n",
      "\n",
      "For id =  X51005676549\n",
      "SYARIKAT PERNIAGAAN GIN KEE (81109-A) NO 290, JALAN AIR PANAS. SETAPAK. 53200, KUALA LUMPUR. TEL :03-40210276 GST ID : 000750673920 SIMPLIFIED TAX INVOICE CASH DOC NO. : CS00012504 DATE: 02/01/2018 CASHIER : USER TIME: 14:49:00 SALESPERSON : REF.: ITEM QTY S/PRICE AMOUNT TAX 1762 1 7.95 7.95 SR 17MM COMB SPANNER 1041 2 15.90 31.80 SR 6' X 35# CORRUGATED ROOFING SHEET TOTAL QTY: 3 39.75 TOTAL SALES (EXCLUDING GST) : 37.50 DISCOUNT : 0.00 TOTAL GST : 2.25 ROUNDING : 0.00 TOTAL SALES (INCLUSIVE OF GST) : 39.75 CASH : 39.75 CHANGE : 0.00 GST SUMMARY TAX CODE SR % 6 AMT (RM) 37.50 TAX (RM) 2.25 TOTAL : 37.50 2.25 GOODS SOLD ARE NOTRETURNABLE. THANK YOU \n",
      "********\n",
      "{'company': 'SYARIKAT PERNIAGAAN GIN KEE', 'date': '02/01/2018', 'address': 'NO 290, JALAN AIR PANAS, SETAPAK, 53200, KUALA LUMPUR.', 'total': '39.75'}\n",
      "\n",
      "\n",
      "For id =  X51007846395\n",
      "GERBANG ALAF RESTAURANTS SDN BHD (65351-M) LICENSEE OF MCDONALD'S LEVEL 6, BANGUNAN TH, DAMANSARA UPTOWN3 NO.3, JALAN SS21/39,47400 PETALING JAYA SELANGOR (GST ID NO: 000504664064) MCDONALD'S MUTIARA RINI DT (#309) TEL NO. 07-5542-467 TAX INVOICE MFY SIDE 1 INV# 003090200024723 ORD #60 -REG #2- 24/06/2018 22:43:04 QTY ITEM 1 L 9NUGGETS 1 9NUGGETS 1 BARBECUE SAUCE 1 SWEET AND SOUR SAUCE 1 L SPRITE LESS ICE 1 L FRIES TOTAL 12.80 EAT-IN TOTAL (INCL GST) TOTAL ROUNDED CASH TENDERED CHANGE TOTAL INCLUDES 0% GST 12.80 12.80 13.00 0.20 0.00 THANK YOU AND PLEASE COME AGAIN. \n",
      "********\n",
      "{'company': 'GERBANG ALAF RESTAURANTS SDN BHD', 'date': '24/06/2018', 'address': 'LEVEL 6, BANGUNAN TH, DAMANSARA UPTOWN3 NO.3, JALAN SS21/39, 47400 PETALING JAYA SELANGOR', 'total': '12.80'}\n",
      "\n",
      "\n",
      "For id =  X51005442378\n",
      "TQ FOR SHOPPING WITH MYNEWS.COM PAGOH REST AND SERVICE AREA LOT R1, KWS REHAT & RAWAT PAGOH ARAH UTARA, SIMPANG AMPAT PAGOH, LEBUHRAYA UTARA SELATAN., 84600,PAGOH,JOHOR MYNEWSCARELLNE : 180088 1231 MYNEWSCARELINE@MYNEWS.COM.MY MYNEWS RETAIL SB(306295-X) FKA BISON STORES SB TAX REG ID CBP 000709361664 QTY PRICE DISC AMT JALAN JALAN 02 1 10.00 0.00 10.00 ZRL SUB TOTAL 10.00 GRAND TOTAL 10.00 CASH 20.00 MYR 20.00 CHANGE DUE 10.00 TOTAL QTY 1 ZRL : 0% GOODS : 10.00 TAX : 0.00 23/03/2018 9:34:40 AM BILL 18550 - 389 - 4768 - 2303180113 PRICE IS GST INCLUSIVE \n",
      "********\n",
      "{'company': 'PAGOH REST AND SERVICE AREA', 'date': '23/03/2018', 'address': 'LOT R1, KWS REHAT & RAWAT PAGOH ARAH UTARA, SIMPANG AMPAT PAGOH, LEBUHRAYA UTARA SELATAN, 84600,PAGOH,JOHOR', 'total': '10.00'}\n",
      "\n",
      "\n",
      "For id =  X51008123586\n",
      "TQ FOR SHOPPING WITH MYNEWS.COM OASIS VILLAGE LOUNGE 2, GROUND FLOOR, OASIS VILLAGE,NO 2, JALAN PJU 1A/7A, OASIS SQUARE,OASIS DAMANSARA., 47301,PETALING JAYA,SELANGOR MYNEWSCARELINE : 1800 88 1231 MYNEWSCARELINE@MYNEWS COM.MY MYNEWS RETAIL SB(306295-X) FKA BISON STORES SB TAX REG ID CBP 000709361664 QTY PRICE DISC AMT HE-333-3S UNICORN BALL PEN BLUE 1 1.90 0.00 1.90 SR HE-3S 70 UNICORN MARKER BK 1 4.50 0.00 4.50 SR MR.BANANA 140G 1 1.30 0.00 1.30 SR SUB TOTAL 7.70 GRAND TOTAL 7.70 CASH 8.00 MYR 8.00 CHANGE DUE 0.30 TOTAL QTY 3 SR : 0% GOODS : 7.70 TAX : 0.00 29/06/2018 8:26:57 AM BILL 4449 - 517 - 12949 - 2906180053 PRICE IS GST INCLUSIVE \n",
      "********\n",
      "{'company': 'MYNEWS RETAIL SB', 'date': '29/06/2018', 'address': 'OASIS VILLAGE LOUNGE 2, GROUND FLOOR, OASIS VILLAGE,NO 2, JALAN PJU 1A/7A, OASIS SQUARE,OASIS DAMANSARA., 47301, PETALING JAYA,SELANGOR', 'total': '7.70'}\n",
      "\n",
      "\n",
      "For id =  X51008114284\n",
      "MR. D.I.Y. (KUCHAI) SDN BHD (CO REG : 750441-W) LOT 1851-A & 1851-B, JALAN KPB 6, KAWASAN PERINDUSTRIAN BALAKONG, 43300 SERI KEMBANGAN, SELANGOR (GST ID NO :000473792512) (KEPONG) - TAX INVOICE - CYLINDRICAL LOCK 3871SS *S GA06-07 - 6/24 6942131718178 1 X 17.45 17.45 ITEM(S) : 1 QTY(S) : 1 TOTAL INCL. GST RM 17.45 CASH RM 50.00 CHANGE RM 32.55 GST SUMMARY AMT(RM) TAX(RM) GST SR@0% 17.45 0.00 25-06-18 11:25 SH01 B003 T1 R000637565 OPERATOR KPOT - SHAHRUL NIZAM EXCHANGE ARE ALLOWED WITHIN 7 DAYS WITH RECEIPT. STRICTLY NO CASH REFUND. \n",
      "********\n",
      "{'company': 'MR. D.I.Y. (KUCHAI) SDN BHD', 'date': '25-06-18', 'address': 'LOT 1851-A & 1851-B, JALAN KPB 6, KAWASAN PERINDUSTRIAN BALAKONG, KAWASAN PERINDUSTRIAN BALAKONG, 43300 SERI KEMBANGAN, SELANGOR', 'total': '17.45'}\n",
      "\n",
      "\n",
      "For id =  X51005442346\n",
      "PERNIAGAAN ZHENG HUI JM0325965-V NO.59 JALAN PERMAS 9/5 BANDAR BARU PERMAS JAYA 81760 JOHOR BAHRU TEL : 07-386 7524 GST NO : 000800589824 SIMPLIFIED TAX INVOICE CASH RACEJPT #: CS00085298 SALESPERSON: DATE: 15/03/2018 CASHIER: USER TIME: 17:34:00 (RM) (RM) ITEM QTY RSP AMOUNT 3934 1 7.65 7.55 SR: CAR PARKING COUPON TOT QTY: 1 7.66 (EXCLUDED GST) SUB TOTAL (RM) : 7.55 DISCOUNT (RM) : 0.00 TOTAL GST (RM) : 0.45 ROUNDING (RM) : 0.00 TOTAL (RM) : 8.00 CASH : 8.00 CHANGE (RM) : 0.00 GST SUMMARY TAX CODE % AMOUNT GST SR 6 7.55 0.45 TOTAL : 7.55 0.45 GOODS SOLD ARE NOT RETURNABLE, THANK YOU. FAX : 07-386 3793 \n",
      "********\n",
      "{'company': 'PERNIAGAAN ZHENG HUI', 'date': '15/03/2018', 'address': 'NO.59 JALAN PERMAS 9/5 BANDAR BARU PERMAS JAYA 81750 JOHOR BAHRU', 'total': '8.00'}\n",
      "\n",
      "\n",
      "For id =  X51006620187\n",
      "ANEKA INTERTRADE MARKETING SDN BHD (524463-X) WELLMART @ KP2 GST REG NO 001532760064 LOT NO2, JALAN UTARID U5/13, SEKSYEN U5, 40150 SHAH ALAM, SELANGOR DARUL EHSAN, MALAYSIA TEL: (+603) 7831 0109 KPB02201605190112 19/05/16 12:01:43 PM CASHIER: HNIN AUN 19/05/16 12:01:50 PM SAMUDRA BUN 180G BLUEBERRY 9555039900843 3.05*1 SIEW PAK CHOY +/- IKAT 7070184 0.94*2000 ITEM: 2 TOTAL WITH GST @ 6% 6.83 QTY: ROUNDING 0.02 TOTAL SAVING: 0.00 TOTAL 6.85 TENDER CASH 20.00 CHANGE 13.15 GST ANALYSIS GOODS TAX AMOUNT S = 6% 2.88 0.17 Z = 0% 3.78 0.00 CONSIDER PTS: 6 PLEASE CHECK YOUR BALANCE DUE AND ALL GOODS PURCHASED ARE IN ORDER. THANK YOU. SEE YOU AGAIN! NO REFUND OR EXCHANGE IS ALLOWED FAX (+0603) 7831 2552 3.05 S 3.78 Z 3 \n",
      "********\n",
      "{'company': 'ANEKA INTERTRADE MARKETING SDN BHD', 'date': '19/05/16', 'address': 'LOT NO2, JALAN UTARID U5/13, SEKSYEN U5, 40150 SNAH ALAM, SELANGOR DARUL EHSAN, MALAYSIA', 'total': '6.85'}\n",
      "\n",
      "\n",
      "For id =  X51005705722\n",
      "ASO ELECTRICAL TRADING SDN BHD 1000131-K NO 31G, JALAN SEPADU C 25/C, SECTION 25, TAMAN INDUSTRIES, AXIS 40400 SHAH ALAM, SELANGOR. TEL:03-51221701, 51313091 GST NO : 000683900928 TAX INVOICE BILL TO: RECEIPT #: DATE: 27/09/2017 SALESPERSON: TIME: 10:51:00 CASHIER: USER (GST) (GST) ITEM QTY RSP RSP AMOUNT 107636 3 78.00 82.68 248.04 SR: HAGER TIMER, 24HRS POWER RESERVE TOT QTY: 3 248.04 (EXCLUDED GST) SUB TOTAL : 234.00 DISCOUNT : 0.00 TOTAL GST : 14.04 ROUNDING : 0.01 TOTAL : CASH : CHANGE : 0.00 GST SUMMARY TAX CODE % AMOUNT GST SR 6 234.00 14.04 TOTAL : 234.00 14.04 GOODS SOLD ARE NOT RETURNABLE, THANK YOU. 248.05 248.05 FAX: 03-51215716 CS00087400 \n",
      "********\n",
      "{'company': 'ASO ELECTRICAL TRADING SDN BHD', 'date': '27/09/2017', 'address': 'NO 31G, JALAN SEPADU C 25/C, SECTION 25, TAMAN INDUSTRIES, AXIS 40400 SHAH ALAM, SELANGIR.', 'total': '248.05'}\n",
      "\n",
      "\n",
      "For id =  X51005663301\n",
      "LIM SENG THO HARDWARE TRADING NO 7. SIMPANG OFF BATU VILLAGE. JALAN IPOH BATU 5. 51200 KUALA LUMPUR MALAYSIA TEL & FAX NO : 03-6258 7191 03-6258 7191 COMPANY REG NO. : (002231061-T) GST REG NO. : 001269075968 TAX INVOICE INVOICE NO : CS 24198 DATE : 03/02/2018 15:28 CASHIER # LST BEG GUNI RM CODE 10.00 NOS X 0.70 7.00 SR SUBTOTAL : 7.00 TOTAL INCL OF GST : 7.00 PAYMENT : 7.00 CHANGE DUE : 0.00 TOTAL ITEM(S) : 10 GST SUMMARY AMOUNT(RM) TAX(RM) SR @ 6% 6.60 0.40 THANK YOU PLEASE COME AGAIN *GOODS SOLD ARE NOT RETURNABLE* \n",
      "********\n",
      "{'company': 'LIM SENG THO HARDWARE TRADING', 'date': '03/02/2018', 'address': 'NO 7. SIMPANG OFF BATU VILLAGE, JALAN IPOH BATU 5, 51200 KUALA LUMPUR MALAYSIA', 'total': '7.00'}\n",
      "\n",
      "\n",
      "For id =  X51008123599\n",
      "JIMART@SP3 OGN GROUP SDN BHD ROC: 1026984-X NO.29M,JALAN DINAR G U3/G,SEKSYEN U3, SUBANG PERDANA, 40150 SHAH ALAM 013-336 3999 GST REG NO: 002077622272 TAXINVOICE INVOICE NO : SP3-01-147902 DATE : 17/06/2018 7:36:12 PM CASHIER :JIMART DESCRIPTIOR QTY PRICE AMOUNT 1 SR 6001188379050 5 3.68 18.40 KITCHEN LIGHTER 2015 2 SR 9555586101265 1 9.91 9.91 COTTON WHITE MOP 450 W.HDL TOTAL ITEM DISCOUNT 0.00 TOTAL SALES INCLUSIVE GST @ 0.00% 28.31 ROUNDING ADJUSTMENT: -0.01 TOTAL : 28.30 CASH 50.00 CHANGE : 21.70 GST SUMMARY % AMOUNT(RM) TAX(RM) SR 0.00 28.31 0.00 I LOVE JIMART GOODS SOLD ARE NOT RETURNABLE THANK YOU.PLEASE COME AGAIN. \n",
      "********\n",
      "{'company': 'OGN GROUP SDN BHD', 'date': '17/06/2018', 'address': 'NO.29M, JALAN DINAR G U3/G, SEKSYEN U3, SUBANG PERDANA, 40150 SHAH ALAM', 'total': '28.30'}\n",
      "\n",
      "\n",
      "For id =  X51005715456\n",
      "3-1708032 KHE ELECTRICAL TRADING (001465242-V) 33-G JALAN MAJO 3/1 TAMAN LEMBAH MAJU CHERAS, 56100 KL TEL: 03-4296 0133 FAX: 03-4296 8869 KHE33G@HOTMAIL.COM GST ID: 000143474688 TAX INVOICE BILL TO: CASH DOC NO. DATE: 22/03/2018 CASHIER TIME: 10:18:00 SALESPERSON: REF: (GST) (GST) ITEM QTY S/PRICE S/PRICE AMOUNT TAX 1113 2 48.00 50.88 101.76 SR 105W E27 PLCE TUBE TOTAL QTY: 101.76 TOTAL SALES(EXCLUDING GST) : 96.00 DISCOUNT : 0.00 TOTAL GST : 5.76 ROUNDING : -0.01 TOTAL SALES(INCLUSLVE OF GST) : 101.75 CASH : 101.75 CHANGE : 0.00 GST SUMMARY TAX CODE % AMT(RM) TAX(RM) SR 6 96.00 5.76 TOTAL: 96.00 5.76 GOODS SOLD ARE NOT RETURNABLE, THANK YOU. : CS00058953 : USER 002 2 \n",
      "********\n",
      "{'company': 'KHE ELECTRICAL TRADING', 'date': '22/03/2018', 'address': '33-G JALAN MAJU 3/1 TAMAN LEMBAH MAJU CHERAS, 56100 KL', 'total': '101.75'}\n",
      "\n",
      "\n",
      "For id =  X51005719856\n",
      "BASKIN BR ROBBINS DESA PARK CITY GOLDEN SCOOP SDN BHD (169609-A) A--16-1, TOWER A, NORTHPOINT OFFICE, MID VALLEY CITY, NO1, MEDAN SYED PUTRA UTARA KUALA LUMPUR MALAYSIA GST ID: 001513148416 OUTLET TEL: (603) 6280 7131 TAX INVOICE INVOICE NO POS NO CASHIER DATE & TIME : DPC11 53409-001-0006 : DPC11 : DPC1PT1 : 16/02/2018 12:04:58 DESCRIPTION QTY U.PRICE TOTAL (RM) DOUBLE RG. CUP COLOUR RICE 1 1 20.00 1.50 20.00 SR 1.50 SR SUB TOTAL ROUNDING ADJ. TOTAL (INCL.GST) CASH (MYR) CASH CHANGE: 21.50 0 21.50 22.00 0.50 GST SUMMARY SR TAX RATE SALE (RM) 6.0% 20.28 TAX (RM) 1.22 THANK YOU ! PLEASE COME AGAIN! WWW.BASKINROBBINS.COM.MY \n",
      "********\n",
      "{'company': 'GOLDEN SCOOP SDN BHD', 'date': '16/02/2018', 'address': 'A-16-1, TOWER A, NORTHPOINT OFFICE, MID VALLEY CITY, NO1, MEDAN SYED PUTRA UTARA KUALA LUMPUR MALAYSIA', 'total': '21.50'}\n",
      "\n",
      "\n",
      "For id =  X51005719886\n",
      "SUNFISH <484297-M> 22 LRG PERUSAHAAN 4 KIMPAL INDS.PARK B . CAVES TEL : 03-61855688 NO TABLE 10256 12 SALTED F . RICE EFRIED EGG NASI LEMAK DRUMSTICK SOYA CINCAU LARGE / ICE TEA 8.50 1.80 9.80 4.30 4.30 SUBTOTAL RM CASH CHANGE 28.70 100.000 71.30 INC 6% GST 1.62 TAX INVOICE #001-001-0934-0001 05/01/2018 13:30-R GST : 002008047616 THANK YOU \n",
      "********\n",
      "{'company': 'SUNFISH', 'date': '05/01/2018', 'address': '22 LRG PERUSAHAAN 4 KIMPAL INDS.PARK B.CAVES', 'total': '28.70'}\n",
      "\n",
      "\n",
      "For id =  X51005676546\n",
      "SYARIKAT PERNIAGAAN GIN KEE (81109-A) NO 290, JALAN AIR PANAS, SETAPAK, 53200, KUALA LUMPUR TEL : 03-40210276 GST ID : 000750673920 SIMPLIFIED TAX INVOICE CASH DOC NO : CS000012659 GOODS SOLD ARE NOT RETURNABLE, THANK YOU. DATE: 11/01/2018 CASHIER : USER 1.20 TIME: 10:51:00 SALESPERSON : REF. : ITEM QTY S/PRICE AMOUNT TAX 1512 2 10.60 21.20 SR 104 COTTON GLOVE (DOZEN) TOTAL QTY: 2 21.20 TOTAL SALES (EXCLUDING GST) : 20.00 DISCOUNT : 0.00 TOTAL GST : 1.20 ROUNDING : 0.00 TOTAL SALES (INCLUSIVE OF GST) : 21.20 CASH : 21.20 CHANGE : 0.00 GST SUMMARY TAX CODE % AMT(RM) TAX(RM) SR 6 20.00 1.20 TOTAL : 20.00 \n",
      "********\n",
      "{'company': 'SYARIKAT PERNIAGAAN GIN KEE', 'date': '11/01/2018', 'address': 'NO 290, JALAN AIR PANAS, SETAPAK, 53200, KUALA LUMPUR.', 'total': '21.20'}\n",
      "\n",
      "\n",
      "For id =  X51005749912\n",
      "MR. D.I.Y. (M) SDN BHD CO-REG : 860671-D LOT 1851-A & 1851-B, JALAN KPB 6, KAWASAN PERINDUSTRIAN BALAKONG , 43300 SERI KEMBANGAN , SELANGOR (GST ID NO : 000306020352) (TESCO EXTRA ARA DAMANSARA) TAX INVOICE COPPER BASIN PILLAR TAP B *S JA01-04 - 2/60 9072363 1 X 29.90 29.90 PADLOCK ST-P6140 40MM *S LE51/2 - 12/48 6942131561408 1 X 8.90 8.90 ITEM(S) : 2 QTY (S) : 2 TOTAL INCL . GST @6% CASH CHANGE 38.80 50.00 11.20 GST SUMMARY GST S@6% RM RM AMT (RM) 36.60 TAX (RM) 2.20 28-03-18 18:05 SH01 ZJ42 RM T2 R000246362 OPERATOR TRAINEE CASHIER EXCHANGE ARE ALLOWED WITHIN 7 DAY WITH RECEIPT . STRICTLY NO CASH REFUND . \n",
      "********\n",
      "{'company': 'MR. D.I.Y. (M) SDN BHD', 'date': '28-03-18', 'address': 'LOT 1851-A & 1851-B, JALAN KPB 6, KAWASAN PERINDUSTRIAN BALAKONG, 43300 SERI KEMBANGAN, SELANGOR', 'total': '38.80'}\n",
      "\n",
      "\n",
      "For id =  X51005757201\n",
      "AEON CO. (M) BHD. (126926-H) 3RD FLR, AEON TAMAN MALURI SC JLN JEJAKA, TAMAN MALURI CHERAS, 55100 KUALA LUMPUR GST ID : 002017394688 SHOPPING HOURS SUN-THU : 1000 HRS - 2200 HRS FRI-SAI : 1000 HRS - 2300 HRS VALUED CUSTOMER: 1370001392 1X 000000118927 V-CHOR FRA 16.90SR 1X 000005270385 CE 13312 LONG H 10.45SR 1X 000007940774 GL HARUMI WASHI 7.90SR 1X 000007940781 BL HARUMI WASHI 7.90SR 1X 000007940781 BL HARUMI WASHI 7.90SR 1X 000001397686 LIDI BROOM W/P 4.10SR 1X 000006697655 E-71/MP WATER D 4.90SR 1X 000002926759 UNICORN 24MMX DISC 10% @8.01 8.90SR -0.89 1X 000003767016 SW CE3914B NYL 7.30SR 1X 000001501083 18MMX1 WHITE D DISC 10% @2.25 2.50SR -0.25 1X 000004146858 18.90SR CABLE BOX DISC 41% @11.16 -7.74 1X 000001888854 0.20SR PLASTICS BAG SUB-TOTAL TOTAL SALES INCL GST ROUNDING ADJ TOTAL ATTER ADJ INCL GST CASH ITEM COUNT 12 CHARGE AMT 88.97 88.97 -0.02 88.95 100.00 11.05 INVOICE NO: 2018022810082100090 GST SUMMARY SR @ 6% TOTAL AMOUNT 83.93 83.93 TAX 5.04 5.04 28/02/2018 20:11 1008 210 2100090 0235138 SARYANI AEON BANDAR PUCHONG TEL 1-300-80-AEON (2366) THANK YOU FOR YOUR PATRONAGE PLEASE COME AGAIN \n",
      "********\n",
      "{'company': 'AEON CO. (M) BHD.', 'date': '28/02/2018', 'address': '3RD FLR, AEON TAMAN MALURI SC JLN JEJAKA, TAMAN MALURI CHERAS ,55100 KUALA LUMPUR', 'total': '88.95'}\n",
      "\n",
      "\n",
      "For id =  X51005301667\n",
      "LIGHTROOM GALLERY SDN BHD NO: 28, JALAN ASTANA 1C, BANDAR BUKIT RAJA, 41050 KLANG SELANGOR D. E, MALAYSIA ROC NO. : (1072825-A) GST NO. : 000584089600 TEL:03-3362 4395 FAX:03-3362 4395 CREDIT NOTE STATION: CASHIER C/N NO: LCN00211 CASHIER: ANGELA COVER : 1 BILL DATE : 20/11/2017 BILL START: 20/11/2017 03:55:07 PM NT : 2.0 CODE : 300-E0009 NAME : ESWARAN 012-6369400 ADDRESS : : : GST NO. : - SR REFER LCS03158 0 * UNIT YT51775 SR 1059 18W SQ WW BK SUR LED LIGHT 1059 SQUARE BLACK FRAME 2 * RM 18.77 UNI ( 2.25)=RM 37.55 BILL: 20/11/2017 03:55:56 PM ZR/OS/EZ 0.00 0.00 SUB TOTAL : RM 37.55 SERVICE CHARGE : RM 0.00 GST/TAX 6% : RM 2.25 TOTAL : RM 39.80 CASH : RM 39.80 CHANGE: RM 0.00 ITEM COUNT: 2 QTY CLOS THANK YOU, PLEASE COME AGAIN. GOODS SOLD ARE NOT REFUNDABLE, RETURNABLE BANK ACC MBB 5128 4851 2118 BANK ACC MBB 5626 4732 1744 BANK ACC AMBANK 888 100 123 3706 GST SUMMARY AMOUNT (RM) TAX (RM) SR @ 6% 37.55 2.25 \n",
      "********\n",
      "{'company': 'LIGHTROOM GALLERY SDN BHD', 'date': '20/11/2017', 'address': 'NO: 28, JALAN ASTANA 1C, BANDAR BUKIT RAJA, 41050 KLANG SELANGOR D.E, MALAYSIA', 'total': '39.80'}\n",
      "\n",
      "\n",
      "For id =  X51006008095\n",
      "BOON SENG PAPER SDN BHD (1248717-W) 12, JALAN BUNGA TANJUNG, 2/16 SEKSYEN 2, 40000 SHAH ALAM, SELANGOR TEL : 03-5519 0823 FAX : 03-5519 0823 GST ID : 001005957120 TAX INVOICE NO. : CS180319-0015 QTY RM TAX TAPE @ 2.50 12 30.00 SR TOTAL AMT INCL. GST @ 6%: ROUNDING ADJUSTMENT: TOTAL AMT PAYABLE: PAID AMOUNT: CHANGE: TOTAL QTY TENDER: DEPOSIT: 31.80 0.00 31.80 31.80 0.00 12 GST SUMMARY SR @ 6% TOTAL AMOUNT (RM) 30.00 30.00 TAX (RM) 1.80 1.80 THANK YOU GOODS SOLD ARE NOT RETURNABLE 19/03/2018 1:01:43 PM \n",
      "********\n",
      "{'company': 'BOON SENG PAPER SDN BHD', 'date': '19/03/2018', 'address': '12, JALAN BUNGA TANJUNG,2/16 SEKSYEN 2,40000 SHAH ALAM, SELANGOR', 'total': '31.80'}\n",
      "\n",
      "\n",
      "For id =  X51006414394\n",
      "RESTORAN SIAM VILLAGE NO. 8, JALAN PERMAS 10/7, PERMAS JAYA,81750 JOHOR BAHRU. TEL: 013-7279552 CASH RECEIPT HQ TABLE BILL NO: 1863 5 SEVR BY : MANAGER- CREATE TIME : 27/04/2018 QTY TOTAL(RM) 1 BC001 CLAYPOT F/TOFU 18.90 2 C004 STIR RED CURRY 37.80 @RM18.90 2 DR001C THAI ICE TEA 13.80 @RM6.90 2 DR002C THAI ICE GREEN 13.80 @RM6.90 1 SD002 THAI STYLE 16.00 /ACACIA LEAF 1 SQ003L STEAMED SQUIDS 32.00 I 2 T002S SPICY THAI TOM 50.00 AFOOD (S) @RM25.00 1 V001 FRIED KANGKUNG 16.90 1 V002 S/FRIED KAILAN 18.90 D FISH 2 W003 THAI STYLE 31.80 PRAWN @RM15.90 13 W006 WHITE RICE (PER 26.00 FILL) @RM2.00 28 SUBTOTAL: 275.90 TYPE : 11 QTY: 28 BILL TOTAL : 275.90 ROUNDING ADJ.: 0.00 NET TOTAL : 275.90 CASH 275.90 THANK YOU! PLEASE COME AGAIN MANAGER- DESCRIPTION \n",
      "********\n",
      "{'company': 'RESTORAN SIAM VILLAGE', 'date': '27/04/2018', 'address': 'NO.8,JALAN PERMAS 10/7, PERMAS JAYA, 81750 JOHOR BAHRU.', 'total': '275.90'}\n",
      "\n",
      "\n",
      "For id =  X51008123451\n",
      "(481500-M) C W KHOO HARDWARE SDN BHD NO.50, JALAN PBS 14/11, KAWASAN PERINDUSTRIAN BUKIT SERDANG, TEL : 03-89410243 FAX : 03-89410243 GST REG NO.: 000549584896 TAX INVOICE INVOICE NO. : CR 1806/0729 DATE : 11/06/2018 3:38:36 PM CASHIER NO. : TEE COUNTER NO. : C2 PRINTED DATE : 11/06/2018 3:36:21 PM ITEM NAME QTY UNITE PRICE AMOUNT 100# X 4L COMPRESSOR OIL @ TIN 1 48.00 48.00 SR 1 ITEM(S) NET TOTAL(MYR : 48.00 ROUNDING ADJ. : 0.00 NET TOTAL ROUNDED (MYR) : 48.00 : 48.00 CASH CHANGE : 0.00 GST SUMMARY ITEM AMOUNT (MYR) GST (MYR) SR @ 0% 1 48.00 0.00 THANK YOU. PLEASE COME AGAIN ! \n",
      "********\n",
      "{'company': 'C W KHOO HARDWARE SDN BHD', 'date': '11/06/2018', 'address': 'NO.50 , JALAN PBS 14/11 , KAWASAN PERINDUSTRIAN BUKIT SERDANG,', 'total': '48.00'}\n",
      "\n",
      "\n",
      "For id =  X51005447848\n",
      "LIAN CHI PU TIAN VEGETARIAN RESTAURANT SDN BHD (1095514-X) (GST ID NO : 001147416576) 54,JALAN SS23/11. TAMAN SEA,47400 PETALING JAYA,SELANGOR TEL: 03-7805 7889, 016-3020 669 TABLE :8 CASHIER : DATE : 06/01/18 12:17:26 PM ITEM QTY PRICE AMOUNT (S) @15.90 CURRY MIXED VEGE 515 1 16.85 16.85 SR (S) @13.90 517 1 14.73 14.73 SR (12 PCS) @ 12.00 'XINGHUA'SPRING ROLL 410 1 12.72 12.72 SR (POT) @ 3.00 TI GUAN YIN TEA 822 1 3.18 3.18 SR (B) @ 1.50 PLAIN RICE 922 2 1.59 3.18 SR GROSS AMT : 47.80 SVR TAX : 2.87 GST (6%) : 2.86 NET AMT : 53.55 GST SUMMARY AMOUNT(RM) TAX(RM) @ 0% 2.87 0.00 SR @ 6% 47.80 2.86 THANK YOU PLEASE COME AGAIN \n",
      "********\n",
      "{'company': 'LIAN CHI PU TIAN VEGETARIAN RESTAURANT SDN BHD', 'date': '06/01/18', 'address': '54,JALAN SS23/11 TAMAN SEA,47400 PETALING JAYA,SELANGOR', 'total': '53.55'}\n",
      "\n",
      "\n",
      "For id =  X51008114262\n",
      "99 SPEED MART S/B (519537-X) LOP P.T. 2811, JALAN ANGSA, TAMAN BERKELEY 41150 KLANG, SELANGOR 1237-TMN INDAH PERDANA GST ID. NO : 000181747712 INVOICE NO : 18388/103/T0126 05:23PM 568268 05-05-18 0715 KNORR CHICKEN STOCK 1K RM134.80 S @8 X RM 16.85 8048 GARDENIA ENRICHED WHIT RM2.35 Z TOTAL SALES (INCLUSIVE GST) RM 137.15 CASH RM 150.15 CHANGE RM 13.00 GST SUMMARY AMOUNT(RM) TAX(RM) S = 6% 127.20 7.60 Z = 0% 2.35 .00 THANK YOU. PLEASE COME AGAIN KEEP THE INVOICE FOR APPLICABLE RETURNS \n",
      "********\n",
      "{'company': '99 SPEED MART S/B', 'date': '05-05-18', 'address': 'LOT P.T. 2811, JALAN ANGSA, TAMAN BERKELEY 41150 KLANG, SELANGOR 1237-TMN INDAH PERDANA', 'total': '137.15'}\n",
      "\n",
      "\n",
      "For id =  X51008123580\n",
      "MR. D.I.Y. (M) SDN BHD CO-REG:860671-D LOT 1851-A & 1851-B, JALAN KP8 6, KAWASAN PERINDUSTRIAN BALAKONG, 43300 SERI KEMBANGAN, SELANGOR (GST ID NO :000306020352) (TESCO EXTRA ARA DAMANSARA) -TAX INVOICE- WASH BALL-1S *S GA01 - 12/480 9064074 2 X 1.13 2.26 SPONGE KOREA-2S GB12 - 12/312 9064017 2 X 2.83 5.66 *S PLASTIC BAGS *S 99999 1 X 0.19 0.19 ITEM(S) : 3 QTY(S) : 5 TOTAL INCL. GST RM 8.11 ROUNDING ADJUSTMENT -RM 0.01 TOTAL ROUNDED RM 8.10 CASH RM 50.00 CHANGE RM 41.90 GST SUMMARY AMT(RM) TAX(RM) GST SR@0% 8.11 0.00 17-06-18 12:56 SH01 ZJ42 T1 R000242600 OPERATOR TADC - ALIM ABDUL EXCHANGE ARE ALLOWED WITHIN 7 DAYS WITH RECEIPT. STRICTLY NO CASH REFUND. \n",
      "********\n",
      "{'company': 'MR. D.I.Y. (M) SDN BHD', 'date': '17-06-18', 'address': 'LOT 1851-A & 1851-B, JALAN KP3 6, KAWASAN PERINDUSTRIAN BALAKONG, 43300 SERI KEMBANGAN, SELANGOR', 'total': '8.10'}\n",
      "\n",
      "\n",
      "For id =  X51005719874\n",
      "NADEJE PRESTIGE SDN BHD LOT NO . : G1 . 116A , GROUND FLOOR , SUNWAY PYRAMID , NO . 3 , JALAN PJS 11/15 , BANDAR SUNWAY , 47500 PETALING JAYA . (1198447-X) GST ID : 000182431744 TAX INVOICE INVOICE : 000-074020 DATE : 2018/02/22 13 : 34 : 14 TAKE OUT ORIGINAL SLICE DOUBLECHOC SLICE 2 1 RM26.00 RM13.00 GRAND TOTAL RM39.00 (BILL INCLUSIVE OF 6% GST : RM2.21) CASH CHANGE RM50.00 RM11.00 001-2018/02/22 13:34:27 MYO TUN (1) 000-074020 [1] \n",
      "********\n",
      "{'company': 'NADEJE PRESTIGE SDN BHD', 'date': '2018/02/22', 'address': 'LOT NO. : G1 . 116A,GROUND FLOOR , SUNWAY PYRAMID , NO.3, JALAN PJS 11/15, BANDAR SUNWAY , 47500 PETALING JAYA.', 'total': 'RM39.00'}\n",
      "\n",
      "\n",
      "For id =  X51006392122\n",
      "Z = 0% 4.00 0.00 THANK YOU AND DO VISIT US AGAIN CASHIER [P.NISANTHI] MACHINE [003] [19/06/17] [11:37] FIVE STAR CASH & CARRY (1365663-P) G.23 & G.22, PLAZA SERI SETIA, NO.1 JALAN SS 9/1, 47300 PJ, SELANGOR, TEL/FAX : 603-7877 9712 (POS 3) (GST NO.: 000610435072) TAX INVOICE RECEIPT NO.[00550388] 19/06/17 11:43 9555339300051 X 1 45.00 S [AKS]APPALAM 3KG QUANTITY OUT : 1 NET TOTAL : POSTED 45.00 CASH : 45.00 GST SUMMARY AMOUNT(RM) TAX(RM) S = 6% 42.45 2.55 Z = 0% 0.00 0.00 THANK YOU AND DO VISIT US AGAIN CASHIER [P.NISANTHI] MACHINE [003] [19/06/17] [11:43] \n",
      "********\n",
      "{'company': 'FIVE STAR CASH & CARRY', 'date': '19/06/17', 'address': 'G.23 & G.22, PLAZA SERI SETIA, NO.1 JALAN SS 9/1, 47300 PJ, SELANGOR.', 'total': '45.00'}\n",
      "\n",
      "\n",
      "For id =  X51005453801\n",
      "3180303 GL HANDICRAFT & TAIL ORING 19, JALAN KANCIL, OFF JALANPUDU, 55100 KUALA LUMPUR MALAYSIA COMPANY REG NO. :75495-W GST REG NO. :001948532736 TAX INVOICE INVOICE NO.: CS 10012 DATE: 20/03/2018 13:01 CASHLER #: 01 RM CODE SAFETY PINS BUTTERFLY - S 6.00 BOXS X 17.00 102.00 SR SUBTOTAL : 102.00 TOTAL EXCL.OF GST 96.23 TOTAL INCL.OF GST 102.00 TOTAL AMT ROUNDED 102.00 PAYMENT : 102.00 CHANGE DUE : 0.00 TOTAL LTEM(S) : 6 GST SUMMARY AMOUNT(RM) TAX(RM) SR @ 6% 96.23 5.77 THANK YOU PLEASE COME AGAIN \n",
      "********\n",
      "{'company': 'GL HANDICRAFT & TAIL ORING', 'date': '20/03/2018', 'address': '19, JALAN KANCIL, OFF JALAN PUDU, 55100 KUALA LUMPUR MALAYSIA', 'total': '102.00'}\n",
      "\n",
      "\n",
      "For id =  X51007846357\n",
      "KEDAI RUNCIT ZBH NO.17,JALAN PERMAS 1/7, BANDAR BARU PERMAS JAYA, 81750, MASAI (GST:001019043840) TAX INVOICE #195360 01/06/2018 6:31 01 CLERK01 INVOICE NO : 052949 000000 *BILL* 2X 1.00 *RUNCIT 1X 7.80 *RUNCIT 4X 2.20 *RUNCIT 1X 1.80 *RUNCIT 2X 4.50 *RUNCIT 1X 14.00 *RUNCIT SUBTOTAL RM2.00 Z RM7.80 Z RM8.80 Z RM1.80 Z RM9.00 Z RM14.00 Z RM43.40 ZERO TAX AMT 0% Z Z ITEM AMT RM43.40 RM0.00 RM43.40 TTL CASH RM43.40 \n",
      "********\n",
      "{'company': 'KEDAI RUNCIT ZBH', 'date': '01/06/2018', 'address': 'NO.17,JALAN PERMAS 1/7, BANDAR BARU PERMAS JAYA,81750,MASAI', 'total': 'RM43.40'}\n",
      "\n",
      "\n",
      "For id =  X51008164998\n",
      "ONE ONE THREE SEAFOOD RESTAURANT SDN BHD (1120908-M) NO.1, TAMAN SRI DENGKIL, JALAN AIR HITAM 43800 DENGKIL, SELANGOR. (GST REG. NO : 000670224384) TAX INVOICE TABLE 37 BILL#:V001-540835 ORDER#: 140933 DATE : 20-06-2018 21:36:11 CASHIER: 113 CASHIER PAX(S): 0 QTY DESCRIPTION TOTAL TAX 1 D 30.00 SR FISH ITEM 1 D 5.00 SR BEVERAGE 1 D 3.00 SR NOODLE ITEM SINGLE TOTAL (EXCLUDING GST): 38.00 TOTAL (INCLUSIVE OF GST): 38.00 TOTAL: 38.00 CLOSED: 1 20-06-2018 22:39:39 SERVER: 113 CASHIER CASH : GST SUMMARY AMOUNT(RM) TAX(RM) SR (@ 0%) 38.00 0.00 **** THANK YOU **** PLEASE COME AGAIN 38.00 \n",
      "********\n",
      "{'company': 'ONE ONE THREE SEAFOOD RESTAURANT SDN BHD', 'date': '20-06-2018', 'address': 'NO. 1, TAMAN SRI DENGKIL, JALAN AIR HITAM 43800 DENGKIL, SELANGOR.', 'total': '38.00'}\n",
      "\n",
      "\n",
      "For id =  X51005757243\n",
      "POPULAR BOOK CO. (M) SDN BHD (CO. NO. 113825-W) (GST REG NO. 001492992000) NO 8, JALAN 7/118B, DESA TUN RAZAK 56000 KUALA LUMPUR, MALAYSI . IOI MALL TEL : 03-80709188 / 80757830 11/03/18 16:30 SLIP NO. : 9060293576 WANI TRANS: 250504 DESCRIPTION AMOUNT DOCUMENT HOL A4 9101A-TRA 5PC @ 1.15 5.75 TOTAL RM INCL. OF GST 5.75 CASH -50.00 CHANGE 44.25 ITEM COUNT 5 GST SUMMERY AMOUNT (RM) TAX (RM) T @ 6% 5.42 0.33 TOTAL SAVINGS 0.00 BE A POPULAR CARD MEMBER AND ENJOY SPECIAL DISCOUNTS THANK YOU. PLEASE COME AGAIN. WWW.POPULAR. COM. MY BUY CHINESE BOOKS ONLINE WWW. POPULARONLINE. COM. MY \n",
      "********\n",
      "{'company': 'POPULAR BOOK CO. (M) SDN BHD', 'date': '11/03/18', 'address': 'NO 8, JALAN 7/118B, DESA TUN RAZAK 56000 KUALA LUMPUR, MALAYSI.', 'total': '5.75'}\n",
      "\n",
      "\n",
      "For id =  X51005361900\n",
      "TEO HENG STATIONERY & BOOKS (001451637-M) NO. 53, JALAN BESAR, 45600 BATANG BERJUNTAI SELANGOR DARUL EHSAN TEL : 03-3271 9872 GST NO. : 000689913856 SIMPLIFIED TAX INVOICE CASH RECEIPT NO. : CS1801/27037 DATE : 23/01/2018 ITEM QTY U/P DISC% AMOUNT TP-24 5 1.32 0.00 6.60 * - DOUBLE SIDED TISSUE TAPE 18MM 9557546631393 5 2.08 0.00 10.38 * - G SOFT 6ML QUICK DRY CORRECTION PEN TOTAL QTY. : 10 16.98 SUB-TOTAL (EX) TOTAL TAX ROUNDING TOTAL CASH CHANGE 16.98 1.02 0.00 18.00 18.00 0.00 GST SUMMARY TAX CODE % AMOUNT TAX SR 6.00 16.98 1.02 TOTAL : 16.98 1.02 NOTE: (*) INDICATED THE ITEM SOLD HAS BEEN RELATED TO GST (GOODS & SERVICES TAX). GOODS SOLD ARE NOT RETURNABLE, THANK YOU. (RM) (RM) (RM) (RM) (RM) FAX : 03-3271 9481 (RM) : : : : : : \n",
      "********\n",
      "{'company': 'TEO HENG STATIONERY & BOOKS', 'date': '23/01/2018', 'address': 'NO.53,JALAN BESAR,45600 BATANG BERJUNTAI SELANGOR DARUL EHSAN', 'total': '18.00'}\n",
      "\n",
      "\n",
      "For id =  X51005663324\n",
      "SYARIKAT PERNIAGAAN GIN KEE (81109-A) NO 290, JALAN AIR PANAS, SETAPAK, 53200, KUALA LUMPUR TEL : 03-40210276 GST ID : 000750673920 SIMPLIFIED TAX INVOICE CASH DOC NO : CS00012440 DATE: 28/12/2017 CASHIER : USER TIME: 11:57:00 SALESPERSON : REF. : ITEM QTY S/PRICE AMOUNT TAX 2623 2 2.12 4.24 SR NAIL (PER/PACK)-RM2 3483 1 7.95 7.95 SR 1 1/2\" SANCORA PAINT BRUSH 1452 1 10.07 10.07 SR 7\" PAINT ROLLER SET 1664 2 26.50 53.00 SR 1LT BIG TREE HIGH GLOSS PAINT 1665 450 0.30 133.56 SR CEMENT BRICK 1041 3 15.90 47.70 SR 6' X 35# CORRUGATED ROOFING SHEET 2430 4 18.02 72.08 SR CEMENT (50KG) 1812 2 16.96 33.92 SR 10'2X3 1792 3 7.42 22.26 SR 10' 1X2 1840 2 4028 80.56 SR K10' 1 X 8 TOTAL QTY: 470 465.34 TOTAL SALES (EXCLUDING GST) : 439.00 DISCOUNT : 0.00 TOTAL GST : 26.34 ROUNDING : 0.00 TOTAL SALES (INCLUSIVE OF GST) : 465.34 CASH : 465.34 CHANGE : 0.00 GST SUMMARY TAX CODE % AMT(RM) TAX(RM) SR 6 439.00 26.34 TOTAL : 439.00 26.34 GOODS SOLD ARE NOT RETURNABLE, THANK YOU \n",
      "********\n",
      "{'company': 'SYARIKAT PERNIAGAAN GIN KEE', 'date': '28/12/2017', 'address': 'NO 290, JALAN AIR PANAS, SETAPAK, 53200, KUALA LUMPUR.', 'total': '465.34'}\n",
      "\n",
      "\n",
      "For id =  X51008114266\n",
      "99 SPEED MART S/B (519537-X) LOP P.T. 2811, JALAN ANGSA, TAMAN BERKELEY 41150 KLANG, SELANGOR 1237-TMN INDAH PERDANA. GST ID. NO : 000181747712 INVOICE NO : 18396/102/T0362 03:46PM 568268 13-05-18 0715 KNORR CHICKEN STOCK 1K RM16.85 S 5596 HYGIENIC 7.5 INCH COLO RM6.06 S @6 X RM 1.01 TOTAL SALES (INCLUSIVE GST) RM 22.91 ROUNDING ADJUSTMENT RM -.01 ROUNDING RM 22.90 CASH RM 50.00 CHANGE RM 27.10 GST SUMMARY AMOUNT(RM) TAX(RM) S = 6% 21.60 1.31 THANK YOU. PLEASE COME AGAIN KEEP THE INVOICE FOR APPLICABLE RETURNS \n",
      "********\n",
      "{'company': '99 SPEED MART S/B', 'date': '13-05-18', 'address': 'LOT P.T. 2811, JALAN ANGSA, TAMAN BERKELEY 41150 KLANG, SELANGOR 1237-TMN INDAH PERDANA', 'total': '22.90'}\n",
      "\n",
      "\n",
      "For id =  X51005365179\n",
      "3-1707067 (481500-M) C W KHOO HARDWARE SDN BHD NO.50 , JALAN PBS 14/11 , KAWASAN PERINDUSTRIAN BUKIT SERDANG, TEL : 03-89410243 FAX : 03-89410243 GST REG NO. : 000549584896 TAX INVOICE INVOICE NO. : CR 1803/0064 DATE : 01-03-18 5:23:26 PM CASHIER NO. : KHOO COUNTER NO. : C1 PRINTED DATE : 01-03-18 5:23:30 PM ITEM NAME QTY UNIT PRICE AMOUNT AIR ADAPTOR @ 1 5 4.00 20.00 SR 5 ITEM(S) TOTAL (MYR) : 20.00 GST @ 6% : 1.20 NET TOTAL (MYR) : 21.20 ROUNDING ADJ. : 0.00 NET TOTAL ROUNDED (MYR) : 21.20 CASH : 21.20 CHANGE : 0.00 GST SUMMARY ITEM GST (MYR) SR @ 6% 1 20.00 1.20 THANK YOU. PLEASE COME AGAIN ! AMOUNT (MYR) \n",
      "********\n",
      "{'company': 'C W KHOO HARDWARE SDN BHD', 'date': '01-03-18', 'address': 'NO.50,JALAN PBS 14/11, KAWASAN PERINDUSTRIAN BUKIT SERDANG,', 'total': '21.20'}\n",
      "\n",
      "\n",
      "For id =  X51007846370\n",
      "UNIHAKKA INTERNATIONAL SDN BHD 16 JUN 2018 18:25 (867388-U) 12, JALAN TAMPOI 7/4,KAWASAN PERINDUSTRIAN TAMPOI,81200 JOHOR BAHRU,JOHOR TAX INVOICE INVOICE #: OR18061602170510 ITEM QTY TOTAL SR I00100000035- 1 MEAT + 3 VEGE RM6.69 SR I00100000015- VEGETABLE RM1.03 1 1 RM6.69 RM1.03 TOTAL AMOUNT: RM7.72 GST @0%: RM0.00 ROUNDING: -RM0.02 NETT TOTAL: RM7.70 PAYMENT MODE AMOUNT CASH CHANGE RM7.70 RM0.00 GST SUMMARY AMOUNT(RM) TAX(RM) SR = GST @0% 7.72 0.00 GST REG #000656195584 BAR WANG RICE@PERMAS JAYA THANK YOU & COME AGAIN! LIKE AND FOLLOW US ON FACEBOOK! FACEBOOK.COM/BARWANGRICE \n",
      "********\n",
      "{'company': 'UNIHAKKA INTERNATIONAL SDN BHD', 'date': '16 JUN 2018', 'address': '12, JALAN TAMPOI 7/4,KAWASAN PERINDUSTRIAN TAMPOI,81200 JOHOR BAHRU, JOHOR', 'total': 'RM7.70'}\n",
      "\n",
      "\n",
      "For id =  X51005453802\n",
      "3180303 LIAN HING STATIONERY SDN BHD (162761-M) NO.32 & 33, JALAN SR 1/9, SEKSYEN 9, TAMAN SERDANG RAYA. 43300 SERI KEMBANGAN, SELANGOR DARUL EHSAN GST ID : 002139201536 TAX INVOICE 30/03/2018 NO. : CS-20322 QTY TAX RM DURAFILE H399 (110 X 95MM) 200 SR 116.60 NAME BADGE (H) @ 0.5500 809 METAL NAME BADGE CLIP 2 SR 42.40 100'S @ 20 0000 TOTAL AMT INCL. GST @ 6% : 159.00 ROUNDING ADJUSTMENT : TOTAL AMT PAYABLE : 159.00 PAID AMOUNT : 200.00 CHANGE : 41.00 TOTAL QTY TENDER : 202 GST SUMMARY AMOUNT TAX (RM) (RM) SR @ A 150.00 9.00 TOTAL 150.00 9.00 THANK YOU FOR ANY ENQUIRY, PLEASE CONTACT US; \n",
      "********\n",
      "{'company': 'LIAN HING STATIONERY SDN BHD', 'date': '30/03/2018', 'address': 'NO.32 & 33, JALAN SR 1/9, SEKSYEN 9, TAMAN SERDANG RAYA, 43300 SERI KEMBANGAN, SELANGOR DARUL EHSAN', 'total': '159.00'}\n",
      "\n",
      "\n",
      "For id =  X51005806703\n",
      "CASH SALE SINNATHAMBY HOLDINGS SDN. BHD. (249336-T) NO.17,18 & 41,JALAN BESAR, 39100 BRINCHANG, CAMERON HIGHLANDS, PAHANG GST REG.:002120876032 DOCUMENT NO. DATE : T04-18/084227 : 06/02/2018 07:09:46 PM DESC QTY PRICE RM DISC AMOUNT RM TAX CODE POLY CHOPPING BOARD - 013 3 UNIT * 4.80 0.00 14.40 SR PLASTIC BOWL - 2.80 8 UNIT * 2.80 0.00 22.40 SR PLASTIC CONTAINER W COVER MS-SQ-1 6 UNIT * 1.50 0.00 9.00 SR BENXON PP HYGIENIC CUP-AO-700 22 OZ-50PCS 1 UNIT * 10.00 0.00 10.00 SR STAEDTLER LUNA COLOUR PENCIL 11 UNIT * 4.90 0.00 53.90 SR TOTAL QTY: 29 TOTAL INCLUSIVE GST 6% : ROUNDING ADJUSTMENT : ROUNDED TOTAL (RM): CASH 109.70 0.00 109.70 109.70 GST SUMMARY SR @ 6 % AMOUNT(RM) 103.49 TAX(RM) 6.21 ~~~ THANKS YOU ~~~ \n",
      "********\n",
      "{'company': 'SINNATHAMBY HOLDINGS SDN. BHD.', 'date': '06/02/2018', 'address': 'NO.17,18 & 41,JALAN BESAR,39100 BRINCHANG, CAMERON HIGHLANDS, PAHANG', 'total': '109.70'}\n",
      "\n",
      "\n",
      "For id =  X51005433514\n",
      "UNIHAKKA INTERNATIONAL SDN BHD 03 MAR 2018 18:22 (867388-U) 12, JALAN TAMPOI 7/4,KAWASAN PERINDUSTRIAN TAMPOI,81200 JOHOR BAHRU,JOHOR TAX INVOICE INVOICE # : OR18030302170430 ITEM QTY TOTAL SR 100100000035- 1 MEAT + 3 VEGE $7.10 1 $7.10 SR 100100000015- VEGETABLE $1.10 1 $1.10 TOTAL AMOUNT: $8.20 GST @6%: $0.46 NETT TOTAL: $8.20 PAYMENT MODE AMOUNT CASH $8.20 CHANGE $0.00 GST SUMMARY AMOUNT($) TAX($) SR = GST @6% 7.74 0.46 GST REG #000656195584 BAR WANG RICE@PERMAS JAYA (PRICE INCLUSIVE OF GST) THANK YOU & COME AGAIN! LIKE AND FOLLOW US ON FACEBOOK! FACEBOOK.COM/BARWANGRICE \n",
      "********\n",
      "{'company': 'UNIHAKKA INTERNATIONAL SDN BHD', 'date': '03 MAR 2018', 'address': '12, JALAN TAMPOI 7/4,KAWASAN PERINDUSTRIAN TAMPOI 81200 JOHOR BAHRU,JOHOR', 'total': '$8.20'}\n",
      "\n",
      "\n",
      "For id =  X51006913051\n",
      "THE TOAST F&B SDN BHD (965752-T) LOT 2110&2111 JALAN PERMAS UTARA BANDAR BARU PERMAS 81750.JOHOR BAHRU JOHOR TEL: 07-3886880 GST ID NO 002069884928 TAX INVOICE PS8418053885 11/05/2018 S/P: POS LOC: PMS WALK IN TABLE: 27 ITEM QTY U.PRICE DISC AMOUNT 711 WM TUNA 1 5.00 0.00 5.00 S 224 CANTONESE 1 10.00 0.00 10.00 S 220Z T/A KAMPUNG 1 10.40 0.00 10.40 S 301 KOPI - HOT 2 2.80 0.00 5.60 S TOTAL ITEMS: 4 SUB TOTAL: 31.00 LESS DISCOUNT: 0.00 ROUND: 0.00 TOTAL DUE (GST INC): 31.00 PAID: CASH 51.00 CHANGE: 20.00 S:GST(6%) 29.24 1.76 PLEASE COME AGAIN! 11/05/2018 08:35:58 PM \n",
      "********\n",
      "{'company': 'THE TOAST F&B SDN BHD', 'date': '11/05/2018', 'address': 'LOT 2110&2111 JALAN PERMAS UTARA BANDAR BARU PERMAS 81750 JOHOR BAHRU JOHOR', 'total': '31.00'}\n",
      "\n",
      "\n",
      "For id =  X51005442344\n",
      "YONG TAT HARDWARE TRADING GOODS SOLD ARE NOT RETURNABLE,THANK YOU (JM0292487-D) NO4,JALAN PERJIRANAN 10, TAMAN AIR BIRU, 81700 PASIR GUDANG, JOHOR. TEL : 07-2614733 FAX : 07-2514733 YONGTAT99@YAHOO.COM.MY GST ID : 001570349056 TAX INVOICE DOC NO. : CS00035863 DATE: 13/03/2018 CASHIER : USER TIME: 12:49:00 SALESPERSON: REF: (GST) (GST) ITEM QTY S/PRICE S/PRICE AMOUNT TAX 2697 1.00 PCS 48.00 50.88 50.88 SR 10\"WING COMPASS 5736 1.00 SET 47.17 60.00 50.00 SR 1/8\"-3/4\" 12PCS HOLLOW PUNCH SET TOTAL QTY: 2 100.88 TOTAL SALES(EXCLUDING GST) : 95.17 DISCOUNT : 0.00 TOTAL GST : 5.71 ROUNDLNG : 0.02 TOTAL SALES(INCLUSIVE OF GST) : 100.90 CASH : 101.00 CHANGE : 0.10 GST SUMMARY TAX CODE % AMT(RM) TAX(RM) SR 6 95.17 5.71 TOTAL : 95.17 5.71 \n",
      "********\n",
      "{'company': 'YONG TAT HARDWARE TRADING', 'date': '13/03/2018', 'address': 'NO 4,JALAN PERJIRANAN 10, TAMAN AIR BIRU, 81700 PASIR GUDANG, JOHOR.', 'total': '100.90'}\n",
      "\n",
      "\n",
      "For id =  X51005447833\n",
      "SUN WONG KUT SDN BHD COMPANY NO: 20965-W SITE: 1046 176 JLN SUNGEI BESI, 57100 KUALA LUMPUR. TELEPHONE: 03-9221345 GST NO: 001580630016 INVOICE NUMBER 60000483942 39.54 39.54 LITRE PUMP # 07 FUEL SAVE 95 RM 88.17 C 2.230 RM / LITRE TOTAL RM 88.17 VISA RM 88.17 RELIEF GST C RM 0.00 TOTAL GROSS C RM 88.17 SHELL LOYALTY CARD 6018840059147765 POINTS AWARDED: 39 DATE TIME NUN OPT 21/02/18 11:19 40278 07 DIESEL & PETROL RON95 GIVEN RELIEF UNDER SECTION 56 (3) (B) GST ACT 2014 THANK YOU PLEASE COME AGAIN \n",
      "********\n",
      "{'company': 'SUN WONG KUT SDN BHD', 'date': '21/02/18', 'address': '176 JLN SUNGEI BESI 57100 KUALA LUMPUR.', 'total': '88.17'}\n",
      "\n",
      "\n",
      "For id =  X51006857660\n",
      "BECON STATIONER BECON ENTERPRISE SDN BHD (82256-V) DAMANSARA UTAMA OUTLET NO.41G,JLN SS21/60,DAMANSARA UTAMA,47400 PJ, SELANGOR. TEL: 603 7732 0925 GST NO.000670859264 TAX INVOICE: 0017756 CASHIER : NORLIDA MOHD RASHDI DATE : 13-09-2017 TIME POS NO : 181 SHIFT : 1 MEMBER PRICE NAME : SIA BAN YI POINT : 496 PRODUCT NAME CODE QTY @ U/(RM) GST TOTAL(RM) PAYMENT VOUCHER UEW 6\" X 7 \" (5'S/PACK) #1011801-5 18 @ 7.30 SR 131.40 CD-R MAXELL (MX-CDR) 100'S #1120221 1 @ 92.80 SR 92.80 CD SLEEVE REFILL DAIBAO DB103 (VR100)/KAYE #1120472 1 @ 8.50 SR 8.50 PUNCHER MAX DP-F2BN #1240302-02 1 @ 14.85 SR 14.85 SUB TOTAL 247.55 <GST> 14.01 ROUNDING 0.00 TOTAL INCLUDE GST 247.55 CASH 300.00 CHANGE 52.45 CUSTOMER SAVING FROM RRP 27.30 PRICE INCLUSIVE OF GST6% GST SUMMARY AMOUNT(RM) TAX(RM) SR@6.00% 233.54 14.01 THANK YOU FOR SHOPPING AT BECON. GOODS SOLD ARE NOT EXCHANGABLE REFUNDABLE : 1648 \n",
      "********\n",
      "{'company': 'BECON STATIONER BECON ENTERPRISE SDN BHD', 'date': '13-09-2017', 'address': 'NO.41G, JLN SS21/60, DAMANSARA UTAMA, 47400 PJ, SELANGOR.', 'total': '247.55'}\n",
      "\n",
      "\n",
      "For id =  X51008164969\n",
      "ONE ONE THREE SEAFOOD RESTAURANT SDN BHD (1120908-M) NO.1, TAMAN SRI DENGKIL, JALAN AIR HITAM 43800 DENGKIL, SELANGOR. (GST REG. NO : 000670224384) TAX INVOICE TABLE 24 BILL#:V001-540401 ORDER#: 140508 DATE : 14-06-2018 20:41:44 CASHIER: 113 CASHIER PAX(S): 0 QTY DESCRIPTION TOTAL TAX 1 D 28.00 SR TILAPIA 1 D 16.00 SR VEGE ITEM 1 D 7.00 SR WHITE RICE 1 D 5.00 SR BEVERAGE 1 D 3.00 SR HERBAL TEA ITEM TOTAL (EXCLUDING GST) : 59.00 TOTAL (INCLUSIVE OF GST) : 59.00 TOTAL : 59.00 CLOSED: 1 14-16-2018 21:22:27 SERVER: 113 CASHIER CASH : 59.00 GST SUMMARY SR (@ 0%) AMOUNT(RM) 59.00 TAX(RM) 0.00 **** THANK YOU **** PLEASE COME AGAIN \n",
      "********\n",
      "{'company': 'ONE ONE THREE SEAFOOD RESTAURANT SDN BHD', 'date': '14-06-2018', 'address': 'NO. 1, TAMAN SRI DENGKIL, JALAN AIR HITAM 43800 DENGKIL, SELANGOR.', 'total': '59.00'}\n",
      "\n",
      "\n",
      "For id =  X51006328919\n",
      "B & BEST RESTAURANT (001610235-P) GST NO. : 001800839168 NO.12,JALAN SS4C/5,PETALING JAYA SELANGOR DARUL EHSAN TEL : 012-2060 778 **TAX INVOICE** BILL NO: 00118887 / POS01 BIZDATE: 10/02/2017 CASHIER: MANAGER PRINTED: 10/02/2017 01:09:47 PM RM 1 FISHBALL NOODLE 7.00 1 SUB TOTAL 7.00 GST 6% 0.42 ROUNDING ADJ -0.02 NET TOTAL 7.40 CASH 7.40 CHANGE 0.00 THANK YOU...PLEASE COME AGAIN... HTTPS://M.FACEBOOK.COM/B-BEST-RESTAURANT ALL ITEM WILL BE CHARGES GST \n",
      "********\n",
      "{'company': 'B & BEST RESTAURANT', 'date': '10/02/2017', 'address': 'NO.12, JALAN SS4C/5,PETALING JAYA SELANGOR DARUL EHSAN', 'total': '7.40'}\n",
      "\n",
      "\n",
      "For id =  X51005303661\n",
      "LIGHTROOM GALLERY SDN BHD NO: 28, JALAN ASTANA 1C, BANDAR BUKIT RAJA, 41050 KLANG SELANGOR D.E, MALAYSIA ROC NO. : (1072825-A) GST NO. : 000584089600 TEL:03-3362 4395 FAX:03-3362 4395 TAX INVOICE STATION: CASHIER BILL NO: LCS03908 CAS R: ANGELA COVER : 1 BILL DATE : 20/12/2017 BILL START: 20/12/2017 07:10:35 PM CODE : 300-C0001 NAME : CASH ADDRESS : : : GST NO. : CH50514 SR T5 JOINT 2PIN 2PCS * RM 2.83 UNI ( 0.17)=RM 2.83 1 YT51874 SR YE30 BK 7W WW LED TRACK LIGHT 2 * RM 33.02 UNI ( 3.96)=RM 66.04 SUB TOTAL : RM 68.87 SERVICE CHARGE : RM 0.00 GST/TAX 6% : RM 4.13 TO : RM 73.00 CA : RM 73.00 CHANGE: RM 0.00 ITEM COUNT: 2 QTY COUNT : 3.0 CLOSED BILL: 20/12/2017 07:10:51 PM THANK YOU, PLEASE COME AGAIN. GOODS SOLD ARE NOT REFUNDABLE, RETURNABLE BANK ACC MBB 5128 4851 2118 BANK ACC MBB 5626 4732 1744 BANK ACC AMBANK 888 100 123 3706 GST SUMMARY AMOUNT (RM) TAX (RM) SR @ 6% 68.87 4.13 ZR/OS/EZ 0.00 0.00 \n",
      "********\n",
      "{'company': 'LIGHTROOM GALLERY SDN BHD', 'date': '20/12/2017', 'address': 'NO: 28,JALAN ASTANA 1C, BANDAR BUKIT RAJA, 41050 KLANG SELANGOR D.E, MALAYSIA', 'total': '73.00'}\n",
      "\n",
      "\n",
      "For id =  X51005442341\n",
      "RESTAURANT SIN DU K3-113,JL IBRAHIM SULTAN 80300 JOHOR BAHRU JOHOR H/P: 019-7521215 016-7867868 09/03/2018 21:28 0001 000000#7259 CASHIER01 DPT.05 RM 149.00 DPT.04 RM 21.00 CASH RM 170.00 \n",
      "********\n",
      "{'company': 'RESTAURANT SIN DU', 'date': '09/03/2018', 'address': 'K3-113, JL IBRAHIM SULTAN 80300 JOHOR BAHRU JOHOR', 'total': '170.00'}\n",
      "\n",
      "\n",
      "For id =  X51008030560\n",
      "RESTORAN DE COFFEE O NO 33, 35, G F,JALAN TEMENGGUNG 3/9, BANDAR MAHKOTA CHERAS, 43200 CHERAS, SELANGOR GST NO. : 002062008320 TAX INVOICE RECEIPT # CS00119810 DATE 03/04/2018 TIME : 12:32:00 (GST) (GST) ITEM QTY PRICE AMOUNT SR: COFFEE O (T.AWAY) 1 2.30 2.30 SR: TEA (T.AWAY) 1 2.40 2.40 SR: COFFEE (T.AWAY) 2 2.40 4.80 SR: SOYA BEAN (T AWAY) 1 2.10 2.10 TOTAL 5 11.60 (EXCLUDED GST) SUB TOTAL 10.94 TOTAL GST 0.66 TOTAL 11.60 GST SUMMARY TAX CODE % AMOUNT GST SR 6 10.94 0.66 TOTAL : 10.94 0.66 GOODS SOLD ARE NOT RETURNABLE THANK YOU \n",
      "********\n",
      "{'company': 'RESTORAN DE COFFEE O', 'date': '03/04/2018', 'address': 'NO 33, 35, G F ,JALAN TEMENGGUNG 3/9, BANDAR MAHKOTA CHERAS, 43200 CHERAS, SELANGOR', 'total': '11.60'}\n",
      "\n",
      "\n",
      "For id =  X51005663293\n",
      "SWEET FOREST CAFE NO 21, JLN BUNGA KANTAN TAMAN P.RAMLEE SETAPAK 53000 KUALA LUMPUR. (GST REG.NO: 000465809408) TAX INVOICE TABLE 15 INV NO.: 593101 PAX(S): 2 DATE : 14-02-2018 13:02:42 CASHIER: SIM JIAN WAI DESCRIPTION QTY U.PRICE TOTAL TAX SMOKED DUCK SPAGHETTI 1X 12.50 12.50 SR HOT GREEN TEA 1X 3.00 3.00 SR COFFEE(H) 1X 4.90 4.90 SR RENDANG CHICKEN RICE 1X 9.90 9.90 SR TOTAL QTY: 4 TOTAL(EXCLUDING GST): 28.58 GST PAYABLE (6%): 1.72 TOTAL (INCLUSIVE OF GST): 30.30 TOTAL: 30.30 CLOSED: 001 14-02-2018 13:50:58 SERVER: SIM JIAN WAI CASH : 50.00 CHANGE : 19.70 GST SUMMARY AMOUNT(RM) TAX(RM) SR (@ 6%) 28.58 1.72 \n",
      "********\n",
      "{'company': 'SWEET FOREST CAFE', 'date': '14-02-2018', 'address': 'NO 21, JLN BUNGA KANTAN TAMAN P. RAMLEE SETAPAK 53000 KUALA LUMPUR', 'total': '30.30'}\n",
      "\n",
      "\n",
      "For id =  X51005442392\n",
      "UNIHAKKA INTERNATIONAL SDN BHD 29 MAR 2018 18:19 (867388-U) 12, JALAN TAMPOI 7/4,KAWASAN PERINDUSTRIAN TAMPOI,81200 JOHOR BAHRU,JOHOR TAX INVOICE INVOICE # : OR18032902170347 ITEM QTY TOTAL SR I00100000035- 1 MEAT + 3 VEGE $7.10 1 $7.10 TOTAL AMOUNT: $7.10 GST @6%: $0.40 NETT TOTAL: $7.10 PAYMENT MODE AMOUNT CASH $7.10 CHANGE $0.00 GST SUMMARY AMOUNT($) TAX($) 3R = QST @6% 6.70 0.40 GST REG #000656195584 BAR WANG RICE@PERMAS JAYA (PRICE INCLUSIVE OF GST) THANK YOU & COME AGAIN! LIKE AND FOLLOW US ON FACEBOOK! FACEBOOK.COM/BARWANGRICE \n",
      "********\n",
      "{'company': 'UNIHAKKA INTERNATIONAL SDN BHD', 'date': '29 MAR 2018', 'address': '12 JALAN TAMPOI 7/4,KAWASAN PERINDUSTRIAN TAMPOI,81200 JOHOR BAHRU,JOHOR', 'total': '$7.10'}\n",
      "\n",
      "\n",
      "For id =  X51005757346\n",
      "MR. D.I.Y. (M) SDN BHD (CO. REG :860671-D) LOT 1851-A & 1851-B, JALAN KPB 6, KAWASAN PERINDUSTRIAN BALAKONG , 43300 SERI KEMBANGAN, SELANGOR (GST ID NO :000306020352) (IOI PUCHONG) -TAX INVOICE- DOUBLE EXT BOX 10Y 40/016 CBD4110 *S WA21 -20 9553114461423 1 X 25.90 25.90 PLASTIC BAGS *S 99999 1 X 0.20 0.20 ITEM(S) : 2 QTY(S) : 2 TOTAL INCL. GST@6% RM 26.10 CASH RM 50.00 CHANGE RM 23.90 GST @6% INCLUDED IN TOTAL RM 1.48 23-03-18 18:09 SH01 ZJ86 T1 R000111754 OPERATOR TRAINEE CASHIER EXCHANGE ARE ALLOWED WITHIN 7 DAY WITH RECEIPT . STRICTLY NO CASH REFUND . \n",
      "********\n",
      "{'company': 'MR. D.I.Y. (M) SDN BHD', 'date': '23-03-18', 'address': 'LOT 1851-A & 1851-B, JALAN KPB 6, KAWASAN PERINDUSTRIAN BALAKONG, 43300 SERI KEMBANGAN, SELANGOR', 'total': '26.10'}\n",
      "\n",
      "\n",
      "For id =  X51005568899\n",
      "MR. D.I.Y. SDN BHD (CO.REG :704427-T) LOT 1851-A & 1851-B, JALAN KPB 6, KWANSAN PERINDUSTRIAN BLANKONG, 43300 SERI KEMBANGAN, SELANGOR (GST ID NO :001092886528) (CHERAS LEISURE MALL) -TAX INVOICE- CLOTH PEG E-140 *S WA36 - 6/60 9555112901406 1 X 5.90 5.90 ITEM(S) : 1 QTY(S) : 1 TOTAL INCL. GST@6% RM 5.90 CASH RM 5.90 GST SUMMARY AMT(RM) TAX(RM) GST S@6% 5.57 0.33 18-10-17 15:16 SH01 ZT09 T3 R000000163 OPERATOR GCHT - NOR MASLIZA EXCHANGE ARE ALLOWED WITHIN 7 DAY WITH RECEIPT, STRICTLY NO CASH REFUND. \n",
      "********\n",
      "{'company': 'MR. D.I.Y. SDN BHD', 'date': '18-10-17', 'address': 'LOT 1851-A & 1851-B, JALAN KPB 6, KAWASAN PERINDUSTRIAN BALAKONG, 43300 SERI KEMBANGAN, SELANGOR', 'total': '5.90'}\n",
      "\n",
      "\n",
      "For id =  X51007846451\n",
      "PASIR EMAS HARDWARE SDN BHD (801222-M) (GST ID NO : 000144596992) NO 69,JALAN PENGKALAN 5, TAMAN PASIR EMAS, KG PASIR PUTIH, 81700 PASIR GUDANG,JOHOR. TEL/FAX: 07-271 2406 TAX INVOICE BILL NO : POS/53796 DATE : 23/06/18 12:46:33 PM CASHIER : ASH PAYMENT : CASH ITEM QTY PRICE AMOUNT PLUG TOP 13A(BIASA-MK) @8.00 WAAN34 3 8.00 24.00 SR0 UMS 13A PLUG(SINGLE) @4.00 ST00014 3 4.00 12.00 SR0 GROSS AMT: 36.00 GST (6%) : 0.00 NET AMT : 36.00 RECEIVED 36.00 CHANGE : 0.00 ROUND ADJ.: 0.00 GST SUMMARY SR0 @ 0% AMOUNT(RM) 36.00 TAX(RM) 0.00 THANK YOU PLEASE COME AGAIN \n",
      "********\n",
      "{'company': 'PASIR EMAS HARDWARE SDN BHD', 'date': '23/06/18', 'address': 'NO 69, JALAN PENGKALAN 5, TAMAN PASIR EMAS, KG PASIR PUTIH, 81700 PASIR GUDANG, JOHOR.', 'total': '36.00'}\n",
      "\n",
      "\n",
      "For id =  X51005676540\n",
      "SYARIKAT PERNIAGAAN GIN KEE (81109-A) NO 290, JALAN AIR PANAS, SETAPAK, 53200, KUALA LUMPUR TEL : 03-40210276 GST ID : 000750673920 SIMPLIFIED TAX INVOICE CASH DOC NO. GOODS SOLD ARE NOT RETURNABLE, THANK YOU. : CS00012664 DATE: 11/01/2018 CASHIER 6.58 : USER TIME: 11:42:00 SALESPERSON : REF. : ITEM QTY S/PRICE AMOUNT TAX 1627 1 4.45 4.45 SR WALL SCRAPER 3\" 2167 2 50.88 101.76 SR 4.5KG RENDEROC PLUG 1735 1 10.07 10.07 SR 5\" SCRAPER (ADAMARK) TOTAL QTY: 4 116.28 TOTAL SALES (EXCLUDING GST) : 109.70 DISCOUNT : 0.00 TOTAL GST : 6.58 ROUNDING : 0.00 TOTAL SALES (INCLUSIVE OF GST) : 116.28 CASH : 116.28 CHANGE : 0.00 GST SUMMARY TAX CODE % AMT(RM) TAX(RM) SR 6 109.70 6.58 TOTAL : 109.70 \n",
      "********\n",
      "{'company': 'SYARIKAT PERNIAGAAN GIN KEE', 'date': '11/01/2018', 'address': 'NO 290, JALAN AIR PANAS, SETAPAK, 53200, KUALA LUMPUR.', 'total': '116.28'}\n",
      "\n",
      "\n",
      "For id =  X51005663276\n",
      "SYARIKAT PERNIAGAAN GIN KEE (81109-A) NO 290, JALAN AIR PANAS. SETAPAK, 53200, KUALA LUMPUR. TEL: 03-40210276 GST ID: 000750673920 SIMPLIFIED TAX INVOICE CASH DOC NO. : CS00011955 DATE: 02/12/2017 CASHIER : USER TIME: 17:21:00 SALESPERSON: REF.: ITEM QTY S/PRICE AMOUNT TAX 1587 1 7.42 7.42 SR SPRAY PAINT TOTAL QTY: 1 7.42 TOTAL SALES (EXCLUDING GST) : 7.00 DISCOUNT : 0.00 TOTAL GST : 0.42 ROUNDING : 0.00 TOTAL SALES(INCLUSIVE OF GST) : 7.42 CASH : 7.42 CHANGE : 0.00 GST SUMMARY TAX CODE % AMT(RM) TAX(RM) SR 6 7.00 0.42 TOTAL: 7.00 0.42 THANK YOU \n",
      "********\n",
      "{'company': 'SYARIKAT PERNIAGAAN GIN KEE', 'date': '02/12/2017', 'address': 'NO 290, JALAN AIR PANAS. SETAPAK. 53200, KUALA LUMPUR.', 'total': '7.42'}\n",
      "\n",
      "\n",
      "For id =  X51007846353\n",
      "THE TOAST F&B SDN BHD (965752-T) LOT 2110&2111 JALAN PERMAS UTARA BANDAR BARU PERMAS 81750,JOHOR BAHRU JOHOR TEL: 07-3886880 GST ID NO. 002069884928 TAX INVOICE PS8418065765 S/P: POS1 WALK IN TABLE: 16/06/2018 LOC: PMS 24 ITEM QTY U.PRICE DISC AMOUNT RM 230 MONGOLIA CHICKEN 1 9.40 0.00 9.40 S 101 BUTTER KAYA 1 2.35 0.00 2.35 S 205 MEE HUN KUEY 1 8.00 0.00 8.00 S 412 NESLO (ICE) 1 4.25 0.00 4.25 S 432 HONEY RED TEA (ICE) 1 4.15 0.00 4.15 S TOTAL ITEMS: 5 SUB TOTAL RM LESS DISCOUNT: ROUND: TOTAL DUE (GST INC): PAID: CASH CHANGE: S:GST(0%): 28.15 0.00 0.00 28.15 50.00 21.85 28.15 0.00 PLEASE COME AGAIN! 16/06/2018 06:18:40 PM \n",
      "********\n",
      "{'company': 'THE TOAST F&B SDN BHD', 'date': '16/06/2018', 'address': 'LOT 2110&2111 JALAN PERMAS UTARA BANDAR BARU PERMAS 81750 JOHOR BAHRU JOHOR', 'total': '28.15'}\n",
      "\n",
      "\n"
     ]
    }
   ],
   "source": [
    "print_data(missed_dict['address'])"
   ]
  },
  {
   "cell_type": "markdown",
   "metadata": {},
   "source": [
    "## Will need to create some sort of algorithm for this lets note down all the error cases \n",
    "1. missing punctuations or words. \n",
    "2. wrong spelling. - extra words or wrong words, or missing words. \n",
    "3. spaces.\n",
    "\n",
    "**Will try to match the ground truth to text.**\n",
    "\n",
    "## Simple Algorithm.\n",
    "\n",
    "\n",
    "1. Extracting first and last words from the ground truth.\n",
    "2. Get the pos. of first and last word from the input text. `store them in start and stop.` \n",
    "2. Then extract text from the input text spanning from `start : stop`\n",
    "\n",
    "\n"
   ]
  },
  {
   "cell_type": "code",
   "execution_count": 177,
   "metadata": {
    "scrolled": true
   },
   "outputs": [
    {
     "name": "stderr",
     "output_type": "stream",
     "text": [
      "100%|██████████| 667/667 [00:00<00:00, 1174.24it/s]"
     ]
    },
    {
     "name": "stdout",
     "output_type": "stream",
     "text": [
      "137\n"
     ]
    },
    {
     "name": "stderr",
     "output_type": "stream",
     "text": [
      "\n"
     ]
    }
   ],
   "source": [
    "train_dict,missed,missed_dict = check(train_files)\n",
    "print(len(missed_dict['address']))"
   ]
  },
  {
   "cell_type": "markdown",
   "metadata": {},
   "source": [
    "137 missed files \n",
    "\n",
    "### Applying Simple Algorithm"
   ]
  },
  {
   "cell_type": "code",
   "execution_count": 270,
   "metadata": {},
   "outputs": [
    {
     "data": {
      "text/plain": [
       "12"
      ]
     },
     "execution_count": 270,
     "metadata": {},
     "output_type": "execute_result"
    }
   ],
   "source": [
    "\n",
    "keys  = missed_dict['address']\n",
    "\n",
    "counter = 0\n",
    "\n",
    "algo_missed = []\n",
    "\n",
    "for idx  in  keys:\n",
    "    \n",
    "    print('For id = ' , idx)\n",
    "    \n",
    "    #paths\n",
    "    txt_file = 'ICDAR_2019_task3_data/0325updated.task1train(626p)/' + idx + '.txt'\n",
    "    json_file = 'ICDAR_2019_task3_data/0325updated.task2train(626p)/' + idx + '.txt'\n",
    "    \n",
    "    \n",
    "    #load the ground truth file\n",
    "    with open(json_file,'r') as jfile:\n",
    "        json_dict = json.load(jfile)        \n",
    "\n",
    "    \n",
    "    #get the text.\n",
    "    input_text = getText(txt_file)\n",
    "    \n",
    "    #get the address \n",
    "    address = json_dict['address']\n",
    "    len_address = len(address.split(' '))\n",
    "    \n",
    "    \n",
    "    #get the first and last words  of address.\n",
    "    first,last = address.split(' ')[slice(0,len_address,len_address-1)]\n",
    "    \n",
    "    \n",
    "    ## if end word is word,word2 keep word2 \n",
    "    ## if end word is word, don't do anything.\n",
    "    if ',' in last:\n",
    "        if not (last[-1] == ','):\n",
    "            last = last.split(',')[-1]\n",
    "\n",
    "        \n",
    "        \n",
    "    if first in input_text and last in input_text:\n",
    "        \n",
    "        start = input_text.find(first)\n",
    "        end = [m.end() for m in re.finditer(last,input_text)][-1]\n",
    "        \n",
    "        print(idx)\n",
    "        print('gt : ',address)\n",
    "        print('corrected gt : ',input_text[start:end]) \n",
    "    else:\n",
    "        \n",
    "        # if start has No. 7  keep only No \n",
    "        if '.' in first:\n",
    "            first = first.split('.')[0]\n",
    "\n",
    "        \n",
    "        last  = last.replace('.','')\n",
    "\n",
    "        if first in input_text and last in input_text:\n",
    "            start = input_text.find(first)\n",
    "\n",
    "            end = [m.end() for m in re.finditer(last,input_text)][-1]\n",
    "            print(idx)\n",
    "            print('gt : ',address)\n",
    "            print('corrected gt : ',input_text[start:end]) \n",
    "\n",
    "\n",
    "        else:\n",
    "\n",
    "            #taking care of  spelling errors  \n",
    "            #while preporcessing.\n",
    "\n",
    "            algo_missed.append(idx)\n",
    "\n",
    "            counter += 1\n",
    "\n",
    "    \n",
    "counter    "
   ]
  },
  {
   "cell_type": "markdown",
   "metadata": {},
   "source": [
    "#### We missed 12 out of 137 due to spelling errors in the input text will need to fix that manually\n",
    "\n",
    "\n",
    "Common spelling errors in input text\n",
    "\n",
    "1. LOP instead of LOT \n",
    "2. MALAYSLA instead MALAYSIA \n",
    "3. SETANGIR instead of SELANGOR\n"
   ]
  },
  {
   "cell_type": "code",
   "execution_count": 160,
   "metadata": {
    "collapsed": true
   },
   "outputs": [
    {
     "name": "stdout",
     "output_type": "stream",
     "text": [
      "For id =  X51005705722\n",
      "ASO ELECTRICAL TRADING SDN BHD 1000131-K NO 31G, JALAN SEPADU C 25/C, SECTION 25, TAMAN INDUSTRIES, AXIS 40400 SHAH ALAM, SELANGOR. TEL:03-51221701, 51313091 GST NO : 000683900928 TAX INVOICE BILL TO: RECEIPT #: DATE: 27/09/2017 SALESPERSON: TIME: 10:51:00 CASHIER: USER (GST) (GST) ITEM QTY RSP RSP AMOUNT 107636 3 78.00 82.68 248.04 SR: HAGER TIMER, 24HRS POWER RESERVE TOT QTY: 3 248.04 (EXCLUDED GST) SUB TOTAL : 234.00 DISCOUNT : 0.00 TOTAL GST : 14.04 ROUNDING : 0.01 TOTAL : CASH : CHANGE : 0.00 GST SUMMARY TAX CODE % AMOUNT GST SR 6 234.00 14.04 TOTAL : 234.00 14.04 GOODS SOLD ARE NOT RETURNABLE, THANK YOU. 248.05 248.05 FAX: 03-51215716 CS00087400 \n",
      "********\n",
      "{'company': 'ASO ELECTRICAL TRADING SDN BHD', 'date': '27/09/2017', 'address': 'NO 31G, JALAN SEPADU C 25/C, SECTION 25, TAMAN INDUSTRIES, AXIS 40400 SHAH ALAM, SELANGIR.', 'total': '248.05'}\n",
      "\n",
      "\n",
      "For id =  X51005719856\n",
      "BASKIN BR ROBBINS DESA PARK CITY GOLDEN SCOOP SDN BHD (169609-A) A--16-1, TOWER A, NORTHPOINT OFFICE, MID VALLEY CITY, NO1, MEDAN SYED PUTRA UTARA KUALA LUMPUR MALAYSIA GST ID: 001513148416 OUTLET TEL: (603) 6280 7131 TAX INVOICE INVOICE NO POS NO CASHIER DATE & TIME : DPC11 53409-001-0006 : DPC11 : DPC1PT1 : 16/02/2018 12:04:58 DESCRIPTION QTY U.PRICE TOTAL (RM) DOUBLE RG. CUP COLOUR RICE 1 1 20.00 1.50 20.00 SR 1.50 SR SUB TOTAL ROUNDING ADJ. TOTAL (INCL.GST) CASH (MYR) CASH CHANGE: 21.50 0 21.50 22.00 0.50 GST SUMMARY SR TAX RATE SALE (RM) 6.0% 20.28 TAX (RM) 1.22 THANK YOU ! PLEASE COME AGAIN! WWW.BASKINROBBINS.COM.MY \n",
      "********\n",
      "{'company': 'GOLDEN SCOOP SDN BHD', 'date': '16/02/2018', 'address': 'A-16-1, TOWER A, NORTHPOINT OFFICE, MID VALLEY CITY, NO1, MEDAN SYED PUTRA UTARA KUALA LUMPUR MALAYSIA', 'total': '21.50'}\n",
      "\n",
      "\n",
      "For id =  X51005719886\n",
      "SUNFISH <484297-M> 22 LRG PERUSAHAAN 4 KIMPAL INDS.PARK B . CAVES TEL : 03-61855688 NO TABLE 10256 12 SALTED F . RICE EFRIED EGG NASI LEMAK DRUMSTICK SOYA CINCAU LARGE / ICE TEA 8.50 1.80 9.80 4.30 4.30 SUBTOTAL RM CASH CHANGE 28.70 100.000 71.30 INC 6% GST 1.62 TAX INVOICE #001-001-0934-0001 05/01/2018 13:30-R GST : 002008047616 THANK YOU \n",
      "********\n",
      "{'company': 'SUNFISH', 'date': '05/01/2018', 'address': '22 LRG PERUSAHAAN 4 KIMPAL INDS.PARK B.CAVES', 'total': '28.70'}\n",
      "\n",
      "\n",
      "For id =  X51008114262\n",
      "99 SPEED MART S/B (519537-X) LOP P.T. 2811, JALAN ANGSA, TAMAN BERKELEY 41150 KLANG, SELANGOR 1237-TMN INDAH PERDANA GST ID. NO : 000181747712 INVOICE NO : 18388/103/T0126 05:23PM 568268 05-05-18 0715 KNORR CHICKEN STOCK 1K RM134.80 S @8 X RM 16.85 8048 GARDENIA ENRICHED WHIT RM2.35 Z TOTAL SALES (INCLUSIVE GST) RM 137.15 CASH RM 150.15 CHANGE RM 13.00 GST SUMMARY AMOUNT(RM) TAX(RM) S = 6% 127.20 7.60 Z = 0% 2.35 .00 THANK YOU. PLEASE COME AGAIN KEEP THE INVOICE FOR APPLICABLE RETURNS \n",
      "********\n",
      "{'company': '99 SPEED MART S/B', 'date': '05-05-18', 'address': 'LOT P.T. 2811, JALAN ANGSA, TAMAN BERKELEY 41150 KLANG, SELANGOR 1237-TMN INDAH PERDANA', 'total': '137.15'}\n",
      "\n",
      "\n",
      "For id =  X51008114266\n",
      "99 SPEED MART S/B (519537-X) LOP P.T. 2811, JALAN ANGSA, TAMAN BERKELEY 41150 KLANG, SELANGOR 1237-TMN INDAH PERDANA. GST ID. NO : 000181747712 INVOICE NO : 18396/102/T0362 03:46PM 568268 13-05-18 0715 KNORR CHICKEN STOCK 1K RM16.85 S 5596 HYGIENIC 7.5 INCH COLO RM6.06 S @6 X RM 1.01 TOTAL SALES (INCLUSIVE GST) RM 22.91 ROUNDING ADJUSTMENT RM -.01 ROUNDING RM 22.90 CASH RM 50.00 CHANGE RM 27.10 GST SUMMARY AMOUNT(RM) TAX(RM) S = 6% 21.60 1.31 THANK YOU. PLEASE COME AGAIN KEEP THE INVOICE FOR APPLICABLE RETURNS \n",
      "********\n",
      "{'company': '99 SPEED MART S/B', 'date': '13-05-18', 'address': 'LOT P.T. 2811, JALAN ANGSA, TAMAN BERKELEY 41150 KLANG, SELANGOR 1237-TMN INDAH PERDANA', 'total': '22.90'}\n",
      "\n",
      "\n"
     ]
    }
   ],
   "source": [
    "#printing missed adress values \n",
    "print_data(algo_missedp[0:5])\n"
   ]
  },
  {
   "cell_type": "code",
   "execution_count": null,
   "metadata": {},
   "outputs": [],
   "source": []
  },
  {
   "cell_type": "code",
   "execution_count": 208,
   "metadata": {},
   "outputs": [],
   "source": [
    "#helper function. \n",
    "def save(file,json_dict):\n",
    "    \n",
    "    '''\n",
    "    helper function to save the corrected files. \n",
    "    \n",
    "    Args:\n",
    "        file (str) : name of corrected file.\n",
    "        json_dict (dict) : dict containg the corrected data.\n",
    "    \n",
    "    '''\n",
    "    \n",
    "     with open(file,'w') as f:\n",
    "            print(f'correcting file {file}')\n",
    "            f.write(json.dumps(json_dict))\n",
    "\n",
    "\n",
    "def correct_addresses(keys):\n",
    "    \n",
    "    '''\n",
    "    This method applies a simple algorithm to correct the missed address files. This function all prints the found meaning \n",
    "    the files which were sucessfully corrected. and missed files missed by our algorithm.\n",
    "    \n",
    "    Args:\n",
    "        keys (list) : file names.\n",
    "    \n",
    "    \n",
    "    '''\n",
    "    \n",
    "    missed_cnt = 0\n",
    "    found_cnt = 0\n",
    "    \n",
    "    algo_missed = []\n",
    "\n",
    "    for idx  in  keys:\n",
    "\n",
    "    #     print('For id = ' , idx)\n",
    "        txt_file = 'ICDAR_2019_task3_data/0325updated.task1train(626p)/' + idx + '.txt'\n",
    "        json_file = 'ICDAR_2019_task3_data/0325updated.task2train(626p)/' + idx + '.txt'\n",
    "\n",
    "        with open(json_file,'r') as jfile:\n",
    "            json_dict = json.load(jfile)        \n",
    "\n",
    "\n",
    "        input_text = getText(txt_file)\n",
    "\n",
    "        address = json_dict['address']\n",
    "        len_address = len(address.split(' '))\n",
    "        first,last = address.split(' ')[slice(0,len_address,len_address-1)]\n",
    "\n",
    "        if ',' in last:\n",
    "            if not (last[-1] == ','):\n",
    "                last = last.split(',')[-1]\n",
    "\n",
    "\n",
    "        if first in input_text and last in input_text:\n",
    "            start = input_text.find(first)\n",
    "\n",
    "            end = [m.end() for m in re.finditer(last,input_text)][-1]\n",
    "            json_dict['address'] = input_text[start:end] \n",
    "            save(json_file,json_dict)\n",
    "            found_cnt += 1    \n",
    "        else:\n",
    "            \n",
    "            if '.' in first:\n",
    "                first = first.split('.')[0]\n",
    "            \n",
    "            last  = last.replace('.','')\n",
    "\n",
    "            if first in input_text and last in input_text:\n",
    "                \n",
    "                start = input_text.find(first)\n",
    "                end = [m.end() for m in re.finditer(last,input_text)][-1]\n",
    "                json_dict['address'] = input_text[start:end] \n",
    "                save(json_file,json_dict)\n",
    "                found_cnt +=1 \n",
    "                \n",
    "            else:\n",
    "\n",
    "                #taking care of  spelling errors  \n",
    "                #while preporcessing.\n",
    "\n",
    "                algo_missed.append(idx)\n",
    "\n",
    "                missed_cnt += 1\n",
    "\n",
    "    print(f'found {found_cnt} out of {len(keys)}')\n",
    "    print(f'missed {missed_cnt} out of {len(keys)}')\n",
    "        \n",
    "    return algo_missed"
   ]
  },
  {
   "cell_type": "code",
   "execution_count": 209,
   "metadata": {
    "collapsed": true
   },
   "outputs": [
    {
     "name": "stdout",
     "output_type": "stream",
     "text": [
      "correcting file ICDAR_2019_task3_data/0325updated.task2train(626p)/X00016469672.txt\n",
      "correcting file ICDAR_2019_task3_data/0325updated.task2train(626p)/X51006387812.txt\n",
      "correcting file ICDAR_2019_task3_data/0325updated.task2train(626p)/X51005442333.txt\n",
      "correcting file ICDAR_2019_task3_data/0325updated.task2train(626p)/X51007846398.txt\n",
      "correcting file ICDAR_2019_task3_data/0325updated.task2train(626p)/X51005361898.txt\n",
      "correcting file ICDAR_2019_task3_data/0325updated.task2train(626p)/X51006387813.txt\n",
      "correcting file ICDAR_2019_task3_data/0325updated.task2train(626p)/X00016469619.txt\n",
      "correcting file ICDAR_2019_task3_data/0325updated.task2train(626p)/X51005749905.txt\n",
      "correcting file ICDAR_2019_task3_data/0325updated.task2train(626p)/X51005745188.txt\n",
      "correcting file ICDAR_2019_task3_data/0325updated.task2train(626p)/X51005719864.txt\n",
      "correcting file ICDAR_2019_task3_data/0325updated.task2train(626p)/X51005715451.txt\n",
      "correcting file ICDAR_2019_task3_data/0325updated.task2train(626p)/X51006620181.txt\n",
      "correcting file ICDAR_2019_task3_data/0325updated.task2train(626p)/X51007846302.txt\n",
      "correcting file ICDAR_2019_task3_data/0325updated.task2train(626p)/X51005677328.txt\n",
      "correcting file ICDAR_2019_task3_data/0325updated.task2train(626p)/X51005268400.txt\n",
      "correcting file ICDAR_2019_task3_data/0325updated.task2train(626p)/X00016469669.txt\n",
      "correcting file ICDAR_2019_task3_data/0325updated.task2train(626p)/X51005677329.txt\n",
      "correcting file ICDAR_2019_task3_data/0325updated.task2train(626p)/X51007846270.txt\n",
      "correcting file ICDAR_2019_task3_data/0325updated.task2train(626p)/X51008142031.txt\n",
      "correcting file ICDAR_2019_task3_data/0325updated.task2train(626p)/X51005663317.txt\n",
      "correcting file ICDAR_2019_task3_data/0325updated.task2train(626p)/X51005676541.txt\n",
      "correcting file ICDAR_2019_task3_data/0325updated.task2train(626p)/X51005442397.txt\n",
      "correcting file ICDAR_2019_task3_data/0325updated.task2train(626p)/X51005442379.txt\n",
      "correcting file ICDAR_2019_task3_data/0325updated.task2train(626p)/X51006414533.txt\n",
      "correcting file ICDAR_2019_task3_data/0325updated.task2train(626p)/X51005442338.txt\n",
      "correcting file ICDAR_2019_task3_data/0325updated.task2train(626p)/X51008142032.txt\n",
      "correcting file ICDAR_2019_task3_data/0325updated.task2train(626p)/X51005705804.txt\n",
      "correcting file ICDAR_2019_task3_data/0325updated.task2train(626p)/X51006913054.txt\n",
      "correcting file ICDAR_2019_task3_data/0325updated.task2train(626p)/X51005722668.txt\n",
      "correcting file ICDAR_2019_task3_data/0325updated.task2train(626p)/X51005675095.txt\n",
      "correcting file ICDAR_2019_task3_data/0325updated.task2train(626p)/X51005757294.txt\n",
      "correcting file ICDAR_2019_task3_data/0325updated.task2train(626p)/X51005749895.txt\n",
      "correcting file ICDAR_2019_task3_data/0325updated.task2train(626p)/X51005663311.txt\n",
      "correcting file ICDAR_2019_task3_data/0325updated.task2train(626p)/X51005745183.txt\n",
      "correcting file ICDAR_2019_task3_data/0325updated.task2train(626p)/X51005677332.txt\n",
      "correcting file ICDAR_2019_task3_data/0325updated.task2train(626p)/X51005676536.txt\n",
      "correcting file ICDAR_2019_task3_data/0325updated.task2train(626p)/X51005719814.txt\n",
      "correcting file ICDAR_2019_task3_data/0325updated.task2train(626p)/X51006856981.txt\n",
      "correcting file ICDAR_2019_task3_data/0325updated.task2train(626p)/X51005568911.txt\n",
      "correcting file ICDAR_2019_task3_data/0325updated.task2train(626p)/X51005746140.txt\n",
      "correcting file ICDAR_2019_task3_data/0325updated.task2train(626p)/X51005719893.txt\n",
      "correcting file ICDAR_2019_task3_data/0325updated.task2train(626p)/X51005719914.txt\n",
      "correcting file ICDAR_2019_task3_data/0325updated.task2train(626p)/X00016469622.txt\n",
      "correcting file ICDAR_2019_task3_data/0325updated.task2train(626p)/X51005717526.txt\n",
      "correcting file ICDAR_2019_task3_data/0325updated.task2train(626p)/X51008128052.txt\n",
      "correcting file ICDAR_2019_task3_data/0325updated.task2train(626p)/X51008142030.txt\n",
      "correcting file ICDAR_2019_task3_data/0325updated.task2train(626p)/X51005663273.txt\n",
      "correcting file ICDAR_2019_task3_data/0325updated.task2train(626p)/X51008123450.txt\n",
      "correcting file ICDAR_2019_task3_data/0325updated.task2train(626p)/X51005719882.txt\n",
      "correcting file ICDAR_2019_task3_data/0325updated.task2train(626p)/X51005677339.txt\n",
      "correcting file ICDAR_2019_task3_data/0325updated.task2train(626p)/X51008145450.txt\n",
      "correcting file ICDAR_2019_task3_data/0325updated.task2train(626p)/X51005676544.txt\n",
      "correcting file ICDAR_2019_task3_data/0325updated.task2train(626p)/X51005361897.txt\n",
      "correcting file ICDAR_2019_task3_data/0325updated.task2train(626p)/X51007135037.txt\n",
      "correcting file ICDAR_2019_task3_data/0325updated.task2train(626p)/X51005365179(1).txt\n",
      "correcting file ICDAR_2019_task3_data/0325updated.task2train(626p)/X51005677339(1).txt\n",
      "correcting file ICDAR_2019_task3_data/0325updated.task2train(626p)/X51005757273.txt\n",
      "correcting file ICDAR_2019_task3_data/0325updated.task2train(626p)/X51005757199.txt\n",
      "correcting file ICDAR_2019_task3_data/0325updated.task2train(626p)/X51005757351.txt\n",
      "correcting file ICDAR_2019_task3_data/0325updated.task2train(626p)/X51005605284(2).txt\n",
      "correcting file ICDAR_2019_task3_data/0325updated.task2train(626p)/X51005676538.txt\n",
      "correcting file ICDAR_2019_task3_data/0325updated.task2train(626p)/X51005442327.txt\n",
      "correcting file ICDAR_2019_task3_data/0325updated.task2train(626p)/X51006328920.txt\n",
      "correcting file ICDAR_2019_task3_data/0325updated.task2train(626p)/X51005663279.txt\n",
      "correcting file ICDAR_2019_task3_data/0325updated.task2train(626p)/X51005433552.txt\n",
      "correcting file ICDAR_2019_task3_data/0325updated.task2train(626p)/X51005757324.txt\n",
      "correcting file ICDAR_2019_task3_data/0325updated.task2train(626p)/X51005361900(1).txt\n",
      "correcting file ICDAR_2019_task3_data/0325updated.task2train(626p)/X51005337872.txt\n",
      "correcting file ICDAR_2019_task3_data/0325updated.task2train(626p)/X51005676545.txt\n",
      "correcting file ICDAR_2019_task3_data/0325updated.task2train(626p)/X51005676547.txt\n",
      "correcting file ICDAR_2019_task3_data/0325updated.task2train(626p)/X51005745187.txt\n",
      "correcting file ICDAR_2019_task3_data/0325updated.task2train(626p)/X51005568900.txt\n",
      "correcting file ICDAR_2019_task3_data/0325updated.task2train(626p)/X51005676543.txt\n",
      "correcting file ICDAR_2019_task3_data/0325updated.task2train(626p)/X51005676539.txt\n",
      "correcting file ICDAR_2019_task3_data/0325updated.task2train(626p)/X51005605284.txt\n",
      "correcting file ICDAR_2019_task3_data/0325updated.task2train(626p)/X51007846391.txt\n",
      "correcting file ICDAR_2019_task3_data/0325updated.task2train(626p)/X51005453729.txt\n",
      "correcting file ICDAR_2019_task3_data/0325updated.task2train(626p)/X51005447832.txt\n",
      "correcting file ICDAR_2019_task3_data/0325updated.task2train(626p)/X51006401723.txt\n",
      "correcting file ICDAR_2019_task3_data/0325updated.task2train(626p)/X51005677334.txt\n",
      "correcting file ICDAR_2019_task3_data/0325updated.task2train(626p)/X51005677335.txt\n",
      "correcting file ICDAR_2019_task3_data/0325updated.task2train(626p)/X51005663277.txt\n",
      "correcting file ICDAR_2019_task3_data/0325updated.task2train(626p)/X51005433494.txt\n",
      "correcting file ICDAR_2019_task3_data/0325updated.task2train(626p)/X51008142033.txt\n",
      "correcting file ICDAR_2019_task3_data/0325updated.task2train(626p)/X51005676549.txt\n",
      "correcting file ICDAR_2019_task3_data/0325updated.task2train(626p)/X51007846395.txt\n",
      "correcting file ICDAR_2019_task3_data/0325updated.task2train(626p)/X51005442378.txt\n",
      "correcting file ICDAR_2019_task3_data/0325updated.task2train(626p)/X51005757351(2).txt\n",
      "correcting file ICDAR_2019_task3_data/0325updated.task2train(626p)/X51008123586.txt\n",
      "correcting file ICDAR_2019_task3_data/0325updated.task2train(626p)/X51008114284.txt\n",
      "correcting file ICDAR_2019_task3_data/0325updated.task2train(626p)/X51005442346.txt\n",
      "correcting file ICDAR_2019_task3_data/0325updated.task2train(626p)/X51006620187.txt\n",
      "correcting file ICDAR_2019_task3_data/0325updated.task2train(626p)/X51005663301.txt\n",
      "correcting file ICDAR_2019_task3_data/0325updated.task2train(626p)/X51008123599.txt\n",
      "correcting file ICDAR_2019_task3_data/0325updated.task2train(626p)/X51005715456.txt\n",
      "correcting file ICDAR_2019_task3_data/0325updated.task2train(626p)/X51005676546.txt\n",
      "correcting file ICDAR_2019_task3_data/0325updated.task2train(626p)/X51005749912.txt\n",
      "correcting file ICDAR_2019_task3_data/0325updated.task2train(626p)/X51005757201.txt\n",
      "correcting file ICDAR_2019_task3_data/0325updated.task2train(626p)/X51005301667.txt\n",
      "correcting file ICDAR_2019_task3_data/0325updated.task2train(626p)/X51006008095.txt\n",
      "correcting file ICDAR_2019_task3_data/0325updated.task2train(626p)/X51006414394.txt\n",
      "correcting file ICDAR_2019_task3_data/0325updated.task2train(626p)/X51008123451.txt\n",
      "correcting file ICDAR_2019_task3_data/0325updated.task2train(626p)/X51005447848.txt\n",
      "correcting file ICDAR_2019_task3_data/0325updated.task2train(626p)/X51008123580.txt\n",
      "correcting file ICDAR_2019_task3_data/0325updated.task2train(626p)/X51005719874.txt\n",
      "correcting file ICDAR_2019_task3_data/0325updated.task2train(626p)/X51006392122.txt\n",
      "correcting file ICDAR_2019_task3_data/0325updated.task2train(626p)/X51005568911(1).txt\n",
      "correcting file ICDAR_2019_task3_data/0325updated.task2train(626p)/X51005453801.txt\n",
      "correcting file ICDAR_2019_task3_data/0325updated.task2train(626p)/X51007846357.txt\n",
      "correcting file ICDAR_2019_task3_data/0325updated.task2train(626p)/X51008164998.txt\n",
      "correcting file ICDAR_2019_task3_data/0325updated.task2train(626p)/X51005757243.txt\n",
      "correcting file ICDAR_2019_task3_data/0325updated.task2train(626p)/X51005605284(1).txt\n",
      "correcting file ICDAR_2019_task3_data/0325updated.task2train(626p)/X51005361900.txt\n",
      "correcting file ICDAR_2019_task3_data/0325updated.task2train(626p)/X51005663324.txt\n",
      "correcting file ICDAR_2019_task3_data/0325updated.task2train(626p)/X51005365179.txt\n",
      "correcting file ICDAR_2019_task3_data/0325updated.task2train(626p)/X51005757351(1).txt\n",
      "correcting file ICDAR_2019_task3_data/0325updated.task2train(626p)/X51007846370.txt\n",
      "correcting file ICDAR_2019_task3_data/0325updated.task2train(626p)/X51005453802.txt\n",
      "correcting file ICDAR_2019_task3_data/0325updated.task2train(626p)/X51005806703.txt\n",
      "correcting file ICDAR_2019_task3_data/0325updated.task2train(626p)/X51005433514.txt\n",
      "correcting file ICDAR_2019_task3_data/0325updated.task2train(626p)/X51006913051.txt\n",
      "correcting file ICDAR_2019_task3_data/0325updated.task2train(626p)/X51005442344.txt\n",
      "correcting file ICDAR_2019_task3_data/0325updated.task2train(626p)/X51005447833.txt\n",
      "correcting file ICDAR_2019_task3_data/0325updated.task2train(626p)/X51006857660.txt\n",
      "correcting file ICDAR_2019_task3_data/0325updated.task2train(626p)/X51008164969.txt\n",
      "correcting file ICDAR_2019_task3_data/0325updated.task2train(626p)/X51006328919.txt\n",
      "correcting file ICDAR_2019_task3_data/0325updated.task2train(626p)/X51005303661.txt\n",
      "correcting file ICDAR_2019_task3_data/0325updated.task2train(626p)/X51005442341.txt\n",
      "correcting file ICDAR_2019_task3_data/0325updated.task2train(626p)/X51008030560.txt\n",
      "correcting file ICDAR_2019_task3_data/0325updated.task2train(626p)/X51005663293.txt\n",
      "correcting file ICDAR_2019_task3_data/0325updated.task2train(626p)/X51005442392.txt\n",
      "correcting file ICDAR_2019_task3_data/0325updated.task2train(626p)/X51005757346.txt\n",
      "correcting file ICDAR_2019_task3_data/0325updated.task2train(626p)/X51005568899.txt\n",
      "correcting file ICDAR_2019_task3_data/0325updated.task2train(626p)/X51007846451.txt\n",
      "correcting file ICDAR_2019_task3_data/0325updated.task2train(626p)/X51005676540.txt\n",
      "correcting file ICDAR_2019_task3_data/0325updated.task2train(626p)/X51005663276.txt\n",
      "correcting file ICDAR_2019_task3_data/0325updated.task2train(626p)/X51007846353.txt\n",
      "found 137 out of 137\n",
      "missed 0 out of 137\n"
     ]
    },
    {
     "data": {
      "text/plain": [
       "[]"
      ]
     },
     "execution_count": 209,
     "metadata": {},
     "output_type": "execute_result"
    }
   ],
   "source": [
    "\n",
    "keys  = missed_dict['address']\n",
    "\n",
    "correct_addresses(keys)"
   ]
  },
  {
   "cell_type": "markdown",
   "metadata": {},
   "source": [
    "# Rare Cases Manual correction.: \n",
    "\n",
    "\n",
    "These are some of the files our algorithm couldnt correct.\n",
    "\n",
    "\n",
    "1. X51005745183\n",
    "2. X51006392122\n",
    "3. X51005757243\n",
    "4. X51007846451\n",
    "5. X51005757199\n",
    "6. X51005605284(2)\n",
    "7. X51006913054\n",
    "\n",
    "Errors due to spacing , extra , and .\n"
   ]
  },
  {
   "cell_type": "code",
   "execution_count": 200,
   "metadata": {
    "collapsed": true
   },
   "outputs": [
    {
     "name": "stdout",
     "output_type": "stream",
     "text": [
      "For id =  X51005745183\n",
      "BILLION SIX ENTERPRISE NO 3, JALAN TAMAN JAS'A 2; SECTION U6, 40150 SHAH ALAM. TEL : 603-58856749 GST REG NO: 000944312320 TAX INVOICE INVOICE NO : 0-170891 DATE : 22/02/2018 7:41:46 AM CASHIER : 123 DESCRIPTION QTY PRICE AMOUNT 1 SR' 9556405112205 11 5.80 63.80 TG7 7\" HIPS PLATE (50PCS) JP TOTAL : 63.80 DISCOUNT: 0.00 TOTAL SALES INCLUSIVE GST @6.00%: 63.80 MASTER CARD 63.80 5148826201779121 GST SUMMARY % AMOUNT(RM) TAX(RM) SR 6.00 60.19 3.61 BARANG YANG SUDAH DI BELI, WANG TIDAK DAPAT DI KEMBALIKAN. PERTUKARAN BARANG HANYA BOLEH DIBUAT DALAM 3 HARI SAHAJA DENGAN RESIT. \n",
      "********\n",
      "{'company': 'BILLION SIX ENTERPRISE', 'date': '22/02/2018', 'address': \"NO 3, JALAN TAMAN JAS'A 2; . SECTION U6, 40150 SHAH ALAM.\", 'total': '63.80'}\n",
      "\n",
      "\n",
      "For id =  X51006392122\n",
      "Z = 0% 4.00 0.00 THANK YOU AND DO VISIT US AGAIN CASHIER [P.NISANTHI] MACHINE [003] [19/06/17] [11:37] FIVE STAR CASH & CARRY (1365663-P) G.23 & G.22, PLAZA SERI SETIA, NO.1 JALAN SS 9/1, 47300 PJ, SELANGOR, TEL/FAX : 603-7877 9712 (POS 3) (GST NO.: 000610435072) TAX INVOICE RECEIPT NO.[00550388] 19/06/17 11:43 9555339300051 X 1 45.00 S [AKS]APPALAM 3KG QUANTITY OUT : 1 NET TOTAL : POSTED 45.00 CASH : 45.00 GST SUMMARY AMOUNT(RM) TAX(RM) S = 6% 42.45 2.55 Z = 0% 0.00 0.00 THANK YOU AND DO VISIT US AGAIN CASHIER [P.NISANTHI] MACHINE [003] [19/06/17] [11:43] \n",
      "********\n",
      "{'company': 'FIVE STAR CASH & CARRY', 'date': '19/06/17', 'address': 'G.23 & G.22, PLAZA SERI SETIA, NO.1 JALAN SS 9/1, 47300 PJ, SELANGOR.', 'total': '45.00'}\n",
      "\n",
      "\n",
      "For id =  X51005757243\n",
      "POPULAR BOOK CO. (M) SDN BHD (CO. NO. 113825-W) (GST REG NO. 001492992000) NO 8, JALAN 7/118B, DESA TUN RAZAK 56000 KUALA LUMPUR, MALAYSI . IOI MALL TEL : 03-80709188 / 80757830 11/03/18 16:30 SLIP NO. : 9060293576 WANI TRANS: 250504 DESCRIPTION AMOUNT DOCUMENT HOL A4 9101A-TRA 5PC @ 1.15 5.75 TOTAL RM INCL. OF GST 5.75 CASH -50.00 CHANGE 44.25 ITEM COUNT 5 GST SUMMERY AMOUNT (RM) TAX (RM) T @ 6% 5.42 0.33 TOTAL SAVINGS 0.00 BE A POPULAR CARD MEMBER AND ENJOY SPECIAL DISCOUNTS THANK YOU. PLEASE COME AGAIN. WWW.POPULAR. COM. MY BUY CHINESE BOOKS ONLINE WWW. POPULARONLINE. COM. MY \n",
      "********\n",
      "{'company': 'POPULAR BOOK CO. (M) SDN BHD', 'date': '11/03/18', 'address': 'NO 8, JALAN 7/118B, DESA TUN RAZAK 56000 KUALA LUMPUR, MALAYSI.', 'total': '5.75'}\n",
      "\n",
      "\n",
      "For id =  X51007846451\n",
      "PASIR EMAS HARDWARE SDN BHD (801222-M) (GST ID NO : 000144596992) NO 69,JALAN PENGKALAN 5, TAMAN PASIR EMAS, KG PASIR PUTIH, 81700 PASIR GUDANG,JOHOR. TEL/FAX: 07-271 2406 TAX INVOICE BILL NO : POS/53796 DATE : 23/06/18 12:46:33 PM CASHIER : ASH PAYMENT : CASH ITEM QTY PRICE AMOUNT PLUG TOP 13A(BIASA-MK) @8.00 WAAN34 3 8.00 24.00 SR0 UMS 13A PLUG(SINGLE) @4.00 ST00014 3 4.00 12.00 SR0 GROSS AMT: 36.00 GST (6%) : 0.00 NET AMT : 36.00 RECEIVED 36.00 CHANGE : 0.00 ROUND ADJ.: 0.00 GST SUMMARY SR0 @ 0% AMOUNT(RM) 36.00 TAX(RM) 0.00 THANK YOU PLEASE COME AGAIN \n",
      "********\n",
      "{'company': 'PASIR EMAS HARDWARE SDN BHD', 'date': '23/06/18', 'address': 'NO 69, JALAN PENGKALAN 5, TAMAN PASIR EMAS, KG PASIR PUTIH, 81700 PASIR GUDANG, JOHOR.', 'total': '36.00'}\n",
      "\n",
      "\n"
     ]
    }
   ],
   "source": [
    "print_data(['X51005745183','X51006392122','X51005757243','X51007846451'])"
   ]
  },
  {
   "cell_type": "code",
   "execution_count": 204,
   "metadata": {
    "collapsed": true
   },
   "outputs": [
    {
     "name": "stdout",
     "output_type": "stream",
     "text": [
      "For id =  X51006913054\n",
      "DE LUXE CIRCLE FRESH MART SDN BHD (MUTIARA RINI 16) CO REG NO:797887-W NO, 89&91, JALAN UTAMA, TAMAN MUTIA RINI, 81300 SKUDAI, JOHOR. TEL:016-7780546 MT161201805120055 CASHIER: 12/05/18 12:12:57 PM 12/05/18 12:13:17 PM HEAVEN & EARTH AYATAKA GREEN TEA 1.5L 8888002119454 KONNYAKU 10G 8888338001119 5.00*1 3.50*2 ITEM: QTY: TOTAL SAVING: TOTAL WITH GST @ 6% ROUNDING TOTAL 12.00 0.00 12.00 TENDER CASH 50.00 CHANGE 38.00 GST ANALYSIS S = 6% Z = 0% MEMBER 0000036581 MEMBER: WONG SHOO YUEN *THANK YOU. SEE YOU AGAIN !! *CUSTOMER CARE LINE : 012-7092889 *CUSTOMERSERVICE@DELUXEGROUPS.COM GST NO:001507647488 CHU PECK 5.00 S 7.00 S 2 3 0.00 GOODS TAX AMOUNT 11.32 0.68 0.00 0.00 POINTS EARNED: 11 \n",
      "********\n",
      "{'company': 'DE LUXE CIRCLE FRESH MART SDN BHD', 'date': '12/05/18', 'address': 'NO. 89&91, JALAN UTAMA, TAMAN MUTIA RINI, 81300 SKUDAI, JOHOR.', 'total': '12.00'}\n",
      "\n",
      "\n",
      "For id =  X51005605284(2)\n",
      "ADVANCO COMPANY COMPANY REG. NO.: 725186-V NO 1&3, JALAN ANGSA DELIMA 12, WANGSA LINK, WANGSA MAJU, 53300 KUALA LUMPUR 03-41318972 GST REG: 001658445824 TAX INVOICE CB#: 398313 23/03/2018 3:13:19 M#: M2-0 CASHIER: C2000- QTY DESCRIPTION PRICE TOTAL FUJI XEROX EVERYDAY A4 70GSM SR 5 57499 11.00 55.00 ITEM DISCOUNT $0.20 -1.00 CANON PG-47BK E400 BLACK FINE( SR 1 27736 29.00 29.00 6 TYPE: 2 TOTAL 84.00 DISC $.20 X 5 -1.00 ROUNDING ADJ 0.00 TOTAL INCLUSIVE GST: 83.00 CASH 85.00 CHANGE 2.00 GST SUMMARY CODE % NET AMT GST TOTAL SR 6% 78.30 4.70 83.00 TOTAL 78.30 4.70 83.00 THANK YOU & PLEASE COME AGAIN. GOODS SOLD ARE NOT RETURNABLE FOR REFUND OR EXCHANGE!! \n",
      "********\n",
      "{'company': 'ADVANCO COMPANY', 'date': '23/03/2018', 'address': 'NO 1&3, JALAN WANGSA DELIMA 12, WANGSA LINK, WANGSA MAJU, 53300 KUALA LUMPUR', 'total': '83.00'}\n",
      "\n",
      "\n",
      "For id =  X51006913054\n",
      "DE LUXE CIRCLE FRESH MART SDN BHD (MUTIARA RINI 16) CO REG NO:797887-W NO, 89&91, JALAN UTAMA, TAMAN MUTIA RINI, 81300 SKUDAI, JOHOR. TEL:016-7780546 MT161201805120055 CASHIER: 12/05/18 12:12:57 PM 12/05/18 12:13:17 PM HEAVEN & EARTH AYATAKA GREEN TEA 1.5L 8888002119454 KONNYAKU 10G 8888338001119 5.00*1 3.50*2 ITEM: QTY: TOTAL SAVING: TOTAL WITH GST @ 6% ROUNDING TOTAL 12.00 0.00 12.00 TENDER CASH 50.00 CHANGE 38.00 GST ANALYSIS S = 6% Z = 0% MEMBER 0000036581 MEMBER: WONG SHOO YUEN *THANK YOU. SEE YOU AGAIN !! *CUSTOMER CARE LINE : 012-7092889 *CUSTOMERSERVICE@DELUXEGROUPS.COM GST NO:001507647488 CHU PECK 5.00 S 7.00 S 2 3 0.00 GOODS TAX AMOUNT 11.32 0.68 0.00 0.00 POINTS EARNED: 11 \n",
      "********\n",
      "{'company': 'DE LUXE CIRCLE FRESH MART SDN BHD', 'date': '12/05/18', 'address': 'NO. 89&91, JALAN UTAMA, TAMAN MUTIA RINI, 81300 SKUDAI, JOHOR.', 'total': '12.00'}\n",
      "\n",
      "\n"
     ]
    }
   ],
   "source": [
    "print_data(['X51006913054','X51005605284(2)','X51006913054'])"
   ]
  },
  {
   "cell_type": "code",
   "execution_count": 337,
   "metadata": {},
   "outputs": [
    {
     "name": "stderr",
     "output_type": "stream",
     "text": [
      "100%|██████████| 666/666 [00:00<00:00, 1068.30it/s]\n"
     ]
    },
    {
     "data": {
      "text/plain": [
       "{'address': [], 'company': [], 'date': [], 'total': []}"
      ]
     },
     "execution_count": 337,
     "metadata": {},
     "output_type": "execute_result"
    }
   ],
   "source": [
    "train_dict,missed,missed_dict = check(train_files)\n",
    "missed_dict"
   ]
  },
  {
   "cell_type": "markdown",
   "metadata": {},
   "source": [
    "### All the Samples have been corrected no. missing samples "
   ]
  },
  {
   "cell_type": "markdown",
   "metadata": {},
   "source": [
    "# Creating Training Data Dict\n",
    "\n",
    "\n",
    "Now we are ready to create the training data.\n"
   ]
  },
  {
   "cell_type": "code",
   "execution_count": 29,
   "metadata": {},
   "outputs": [],
   "source": [
    "\n",
    "def create_tran_data(train_files):\n",
    "    \n",
    "    '''\n",
    "    Method to create the  training data. The output put of this method is a dict.\n",
    "    \n",
    "    Args:\n",
    "        train_files (list) : list containing names of train files.\n",
    "    \n",
    "    '''\n",
    "    \n",
    "    data_dict = {}\n",
    "   \n",
    "    for idx  in tqdm(train_files):\n",
    "    \n",
    "        txt_file = 'ICDAR_2019_task3_data/0325updated.task1train(626p)/' + idx + '.txt'\n",
    "        json_file = 'ICDAR_2019_task3_data/0325updated.task2train(626p)/' + idx + '.txt'\n",
    "        \n",
    "        with open(json_file,'r') as jfile:\n",
    "            json_dict = json.load(jfile)\n",
    "        \n",
    "        \n",
    "        x = getText(txt_file).upper()\n",
    "        y = get_labels(json_dict,x)\n",
    "        \n",
    "      \n",
    "        data_dict[idx] = (x,y)\n",
    "       \n",
    "\n",
    "    return data_dict\n"
   ]
  },
  {
   "cell_type": "code",
   "execution_count": 30,
   "metadata": {},
   "outputs": [
    {
     "name": "stderr",
     "output_type": "stream",
     "text": [
      "100%|██████████| 625/625 [00:00<00:00, 1303.40it/s]\n"
     ]
    }
   ],
   "source": [
    "train_dict = create_tran_data(train_files)"
   ]
  },
  {
   "cell_type": "code",
   "execution_count": 31,
   "metadata": {},
   "outputs": [
    {
     "data": {
      "text/plain": [
       "625"
      ]
     },
     "execution_count": 31,
     "metadata": {},
     "output_type": "execute_result"
    }
   ],
   "source": [
    "len(train_dict.keys())"
   ]
  },
  {
   "cell_type": "markdown",
   "metadata": {},
   "source": [
    "## Lets check if our Rare cases discussed above are corrected or not"
   ]
  },
  {
   "cell_type": "code",
   "execution_count": 298,
   "metadata": {
    "collapsed": true
   },
   "outputs": [
    {
     "name": "stdout",
     "output_type": "stream",
     "text": [
      "X51005745183\n",
      "*******input text*******\n",
      "BILLION SIX ENTERPRISE NO 3, JALAN TAMAN JAS'A 2; SECTION U6, 40150 SHAH ALAM. TEL : 603-58856749 GST REG NO: 000944312320 TAX INVOICE INVOICE NO : 0-170891 DATE : 22/02/2018 7:41:46 AM CASHIER : 123 DESCRIPTION QTY PRICE AMOUNT 1 SR' 9556405112205 11 5.80 63.80 TG7 7\" HIPS PLATE (50PCS) JP TOTAL : 63.80 DISCOUNT: 0.00 TOTAL SALES INCLUSIVE GST @6.00%: 63.80 MASTER CARD 63.80 5148826201779121 GST SUMMARY % AMOUNT(RM) TAX(RM) SR 6.00 60.19 3.61 BARANG YANG SUDAH DI BELI, WANG TIDAK DAPAT DI KEMBALIKAN. PERTUKARAN BARANG HANYA BOLEH DIBUAT DALAM 3 HARI SAHAJA DENGAN RESIT. \n",
      "\n",
      "****** Ground Truth *******\n",
      "{'company': 'BILLION SIX ENTERPRISE', 'date': '22/02/2018', 'address': \"NO 3, JALAN TAMAN JAS'A 2; SECTION U6, 40150 SHAH ALAM.\", 'total': '63.80'}\n",
      "*******Prediction*********\n",
      "company  :  BILLION SIX ENTERPRISE\n",
      "\n",
      "address  :  NO 3, JALAN TAMAN JAS'A 2; SECTION U6, 40150 SHAH ALAM.\n",
      "\n",
      "date  :  22/02/2018\n",
      "\n",
      "total  :  63.80\n",
      "\n",
      "X51006392122\n",
      "*******input text*******\n",
      "Z = 0% 4.00 0.00 THANK YOU AND DO VISIT US AGAIN CASHIER [P.NISANTHI] MACHINE [003] [19/06/17] [11:37] FIVE STAR CASH & CARRY (1365663-P) G.23 & G.22, PLAZA SERI SETIA, NO.1 JALAN SS 9/1, 47300 PJ, SELANGOR. TEL/FAX : 603-7877 9712 (POS 3) (GST NO.: 000610435072) TAX INVOICE RECEIPT NO.[00550388] 19/06/17 11:43 9555339300051 X 1 45.00 S [AKS]APPALAM 3KG QUANTITY OUT : 1 NET TOTAL : POSTED 45.00 CASH : 45.00 GST SUMMARY AMOUNT(RM) TAX(RM) S = 6% 42.45 2.55 Z = 0% 0.00 0.00 THANK YOU AND DO VISIT US AGAIN CASHIER [P.NISANTHI] MACHINE [003] [19/06/17] [11:43] \n",
      "\n",
      "****** Ground Truth *******\n",
      "{'company': 'FIVE STAR CASH & CARRY', 'date': '19/06/17', 'address': 'G.23 & G.22, PLAZA SERI SETIA, NO.1 JALAN SS 9/1, 47300 PJ, SELANGOR.', 'total': '45.00'}\n",
      "*******Prediction*********\n",
      "company  :  FIVE STAR CASH & CARRY\n",
      "\n",
      "address  :  G.23 & G.22, PLAZA SERI SETIA, NO.1 JALAN SS 9/1, 47300 PJ, SELANGOR.\n",
      "\n",
      "date  :  19/06/17\n",
      "\n",
      "total  :  45.00\n",
      "\n",
      "X51005757243\n",
      "*******input text*******\n",
      "POPULAR BOOK CO. (M) SDN BHD (CO. NO. 113825-W) (GST REG NO. 001492992000) NO 8, JALAN 7/118B, DESA TUN RAZAK 56000 KUALA LUMPUR, MALAYSI. IOI MALL TEL : 03-80709188 / 80757830 11/03/18 16:30 SLIP NO. : 9060293576 WANI TRANS: 250504 DESCRIPTION AMOUNT DOCUMENT HOL A4 9101A-TRA 5PC @ 1.15 5.75 TOTAL RM INCL. OF GST 5.75 CASH -50.00 CHANGE 44.25 ITEM COUNT 5 GST SUMMERY AMOUNT (RM) TAX (RM) T @ 6% 5.42 0.33 TOTAL SAVINGS 0.00 BE A POPULAR CARD MEMBER AND ENJOY SPECIAL DISCOUNTS THANK YOU. PLEASE COME AGAIN. WWW.POPULAR. COM. MY BUY CHINESE BOOKS ONLINE WWW. POPULARONLINE. COM. MY \n",
      "\n",
      "****** Ground Truth *******\n",
      "{'company': 'POPULAR BOOK CO. (M) SDN BHD', 'date': '11/03/18', 'address': 'NO 8, JALAN 7/118B, DESA TUN RAZAK 56000 KUALA LUMPUR, MALAYSI.', 'total': '5.75'}\n",
      "*******Prediction*********\n",
      "company  :  POPULAR BOOK CO. (M) SDN BHD\n",
      "\n",
      "address  :  NO 8, JALAN 7/118B, DESA TUN RAZAK 56000 KUALA LUMPUR, MALAYSI.\n",
      "\n",
      "date  :  11/03/18\n",
      "\n",
      "total  :  5.75\n",
      "\n",
      "X51007846451\n",
      "*******input text*******\n",
      "PASIR EMAS HARDWARE SDN BHD (801222-M) (GST ID NO : 000144596992) NO 69, JALAN PENGKALAN 5, TAMAN PASIR EMAS, KG PASIR PUTIH, 81700 PASIR GUDANG,JOHOR. TEL/FAX: 07-271 2406 TAX INVOICE BILL NO : POS/53796 DATE : 23/06/18 12:46:33 PM CASHIER : ASH PAYMENT : CASH ITEM QTY PRICE AMOUNT PLUG TOP 13A(BIASA-MK) @8.00 WAAN34 3 8.00 24.00 SR0 UMS 13A PLUG(SINGLE) @4.00 ST00014 3 4.00 12.00 SR0 GROSS AMT: 36.00 GST (6%) : 0.00 NET AMT : 36.00 RECEIVED 36.00 CHANGE : 0.00 ROUND ADJ.: 0.00 GST SUMMARY SR0 @ 0% AMOUNT(RM) 36.00 TAX(RM) 0.00 THANK YOU PLEASE COME AGAIN \n",
      "\n",
      "****** Ground Truth *******\n",
      "{'company': 'PASIR EMAS HARDWARE SDN BHD', 'date': '23/06/18', 'address': 'NO 69, JALAN PENGKALAN 5, TAMAN PASIR EMAS, KG PASIR PUTIH, 81700 PASIR GUDANG,JOHOR.', 'total': '36.00'}\n",
      "*******Prediction*********\n",
      "company  :  PASIR EMAS HARDWARE SDN BHD\n",
      "\n",
      "address  :  NO 69, JALAN PENGKALAN 5, TAMAN PASIR EMAS, KG PASIR PUTIH, 81700 PASIR GUDANG,JOHOR.\n",
      "\n",
      "date  :  23/06/18\n",
      "\n",
      "total  :  36.00\n",
      "\n",
      "X51006913054\n",
      "*******input text*******\n",
      "DE LUXE CIRCLE FRESH MART SDN BHD (MUTIARA RINI 16) CO REG NO:797887-W NO. 89&91, JALAN UTAMA, TAMAN MUTIA RINI, 81300 SKUDAI, JOHOR. TEL:016-7780546 MT161201805120055 CASHIER: 12/05/18 12:12:57 PM 12/05/18 12:13:17 PM HEAVEN & EARTH AYATAKA GREEN TEA 1.5L 8888002119454 KONNYAKU 10G 8888338001119 5.00*1 3.50*2 ITEM: QTY: TOTAL SAVING: TOTAL WITH GST @ 6% ROUNDING TOTAL 12.00 0.00 12.00 TENDER CASH 50.00 CHANGE 38.00 GST ANALYSIS S = 6% Z = 0% MEMBER 0000036581 MEMBER: WONG SHOO YUEN *THANK YOU. SEE YOU AGAIN !! *CUSTOMER CARE LINE : 012-7092889 *CUSTOMERSERVICE@DELUXEGROUPS.COM GST NO:001507647488 CHU PECK 5.00 S 7.00 S 2 3 0.00 GOODS TAX AMOUNT 11.32 0.68 0.00 0.00 POINTS EARNED: 11 \n",
      "\n",
      "****** Ground Truth *******\n",
      "{'company': 'DE LUXE CIRCLE FRESH MART SDN BHD', 'date': '12/05/18', 'address': 'NO. 89&91, JALAN UTAMA, TAMAN MUTIA RINI, 81300 SKUDAI, JOHOR.', 'total': '12.00'}\n",
      "*******Prediction*********\n",
      "company  :  DE LUXE CIRCLE FRESH MART SDN BHD\n",
      "\n",
      "address  :  NO. 89&91, JALAN UTAMA, TAMAN MUTIA RINI, 81300 SKUDAI, JOHOR.\n",
      "\n",
      "date  :  12/05/18\n",
      "\n",
      "total  :  12.00\n",
      "\n",
      "X51005605284(2)\n",
      "*******input text*******\n",
      "ADVANCO COMPANY COMPANY REG. NO.: 725186-V NO 1&3, JALAN WANGSA DELIMA 12, WANGSA LINK, WANGSA MAJU, 53300 KUALA LUMPUR 03-41318972 GST REG: 001658445824 TAX INVOICE CB#: 398313 23/03/2018 3:13:19 M#: M2-0 CASHIER: C2000- QTY DESCRIPTION PRICE TOTAL FUJI XEROX EVERYDAY A4 70GSM SR 5 57499 11.00 55.00 ITEM DISCOUNT $0.20 -1.00 CANON PG-47BK E400 BLACK FINE( SR 1 27736 29.00 29.00 6 TYPE: 2 TOTAL 84.00 DISC $.20 X 5 -1.00 ROUNDING ADJ 0.00 TOTAL INCLUSIVE GST: 83.00 CASH 85.00 CHANGE 2.00 GST SUMMARY CODE % NET AMT GST TOTAL SR 6% 78.30 4.70 83.00 TOTAL 78.30 4.70 83.00 THANK YOU & PLEASE COME AGAIN. GOODS SOLD ARE NOT RETURNABLE FOR REFUND OR EXCHANGE!! \n",
      "\n",
      "****** Ground Truth *******\n",
      "{'company': 'ADVANCO COMPANY', 'date': '23/03/2018', 'address': 'NO 1&3, JALAN WANGSA DELIMA 12, WANGSA LINK, WANGSA MAJU, 53300 KUALA LUMPUR', 'total': '83.00'}\n",
      "*******Prediction*********\n",
      "company  :  ADVANCO COMPANY\n",
      "\n",
      "address  :  NO 1&3, JALAN WANGSA DELIMA 12, WANGSA LINK, WANGSA MAJU, 53300 KUALA LUMPUR\n",
      "\n",
      "date  :  23/03/2018\n",
      "\n",
      "total  :  83.00\n",
      "\n",
      "X51006913054\n",
      "*******input text*******\n",
      "DE LUXE CIRCLE FRESH MART SDN BHD (MUTIARA RINI 16) CO REG NO:797887-W NO. 89&91, JALAN UTAMA, TAMAN MUTIA RINI, 81300 SKUDAI, JOHOR. TEL:016-7780546 MT161201805120055 CASHIER: 12/05/18 12:12:57 PM 12/05/18 12:13:17 PM HEAVEN & EARTH AYATAKA GREEN TEA 1.5L 8888002119454 KONNYAKU 10G 8888338001119 5.00*1 3.50*2 ITEM: QTY: TOTAL SAVING: TOTAL WITH GST @ 6% ROUNDING TOTAL 12.00 0.00 12.00 TENDER CASH 50.00 CHANGE 38.00 GST ANALYSIS S = 6% Z = 0% MEMBER 0000036581 MEMBER: WONG SHOO YUEN *THANK YOU. SEE YOU AGAIN !! *CUSTOMER CARE LINE : 012-7092889 *CUSTOMERSERVICE@DELUXEGROUPS.COM GST NO:001507647488 CHU PECK 5.00 S 7.00 S 2 3 0.00 GOODS TAX AMOUNT 11.32 0.68 0.00 0.00 POINTS EARNED: 11 \n",
      "\n",
      "****** Ground Truth *******\n",
      "{'company': 'DE LUXE CIRCLE FRESH MART SDN BHD', 'date': '12/05/18', 'address': 'NO. 89&91, JALAN UTAMA, TAMAN MUTIA RINI, 81300 SKUDAI, JOHOR.', 'total': '12.00'}\n",
      "*******Prediction*********\n",
      "company  :  DE LUXE CIRCLE FRESH MART SDN BHD\n",
      "\n",
      "address  :  NO. 89&91, JALAN UTAMA, TAMAN MUTIA RINI, 81300 SKUDAI, JOHOR.\n",
      "\n",
      "date  :  12/05/18\n",
      "\n",
      "total  :  12.00\n",
      "\n"
     ]
    }
   ],
   "source": [
    "#correct the rare samples.\n",
    "\n",
    "for i in ['X51005745183','X51006392122','X51005757243','X51007846451','X51006913054','X51005605284(2)','X51006913054']:\n",
    "    \n",
    "    key = i \n",
    "    text = train_dict[i][0]\n",
    "    pred = train_dict[i][1]\n",
    "    print(key)\n",
    "    get_output(key,text,pred,inf = True)\n",
    "\n"
   ]
  },
  {
   "cell_type": "markdown",
   "metadata": {},
   "source": [
    "### A final check that consifrms each sample has all 5 labels\n",
    "\n",
    "In the code below will iterate through all the samples and check if the labels have 5 unique numbers."
   ]
  },
  {
   "cell_type": "code",
   "execution_count": 301,
   "metadata": {},
   "outputs": [
    {
     "data": {
      "text/plain": [
       "0"
      ]
     },
     "execution_count": 301,
     "metadata": {},
     "output_type": "execute_result"
    }
   ],
   "source": [
    " \n",
    "count = 0\n",
    "\n",
    "for key in train_dict.keys():\n",
    "    \n",
    "    sample = train_dict[key][1]\n",
    "    \n",
    "    if len(np.unique(sample)) != 5:\n",
    "        print(key)\n",
    "        print(np.unique(sample))\n",
    "        count += 1\n",
    "    \n",
    "count"
   ]
  },
  {
   "cell_type": "markdown",
   "metadata": {},
   "source": [
    "## Saving Train dict"
   ]
  },
  {
   "cell_type": "code",
   "execution_count": 344,
   "metadata": {},
   "outputs": [],
   "source": [
    "# pk.dump(train_dict,open('train_corrected_data_dict','wb'))"
   ]
  },
  {
   "cell_type": "code",
   "execution_count": 303,
   "metadata": {},
   "outputs": [],
   "source": [
    "# pk.dump(train_files,open('train_corrected_ids','wb'))"
   ]
  },
  {
   "cell_type": "code",
   "execution_count": null,
   "metadata": {},
   "outputs": [],
   "source": []
  },
  {
   "cell_type": "markdown",
   "metadata": {},
   "source": [
    "## Test Data\n",
    "\n",
    "All the above steps all performed to the test data except the correction part.\n",
    "\n",
    "\n",
    "1. Test data input  is present in  the `ICDAR_2019_task3_data/text.task1_2-test（361p)` containing 361 samples. \n",
    "2. Data to submit is present in the `ICDAR_2019_task3_data/task3-test（347p)` containing 347\n",
    "\n",
    "will need to get rid of the extra  26 samples\n"
   ]
  },
  {
   "cell_type": "code",
   "execution_count": 87,
   "metadata": {},
   "outputs": [
    {
     "name": "stdout",
     "output_type": "stream",
     "text": [
      "0325updated.task1train(626p)\n",
      "0325updated.task2train(626p)\n",
      "task3-testï¼ˆ347p)\n",
      "text.task1_2-testï¼ˆ361p)\n"
     ]
    }
   ],
   "source": [
    "!ls ICDAR_2019_task3_data/"
   ]
  },
  {
   "cell_type": "code",
   "execution_count": 10,
   "metadata": {},
   "outputs": [
    {
     "data": {
      "text/plain": [
       "347"
      ]
     },
     "execution_count": 10,
     "metadata": {},
     "output_type": "execute_result"
    }
   ],
   "source": [
    "test_jpg = [i.split('.')[0] for i in  os.listdir('ICDAR_2019_task3_data/task3-test（347p)')]\n",
    "len(test_jpg)"
   ]
  },
  {
   "cell_type": "code",
   "execution_count": 11,
   "metadata": {},
   "outputs": [
    {
     "data": {
      "text/plain": [
       "361"
      ]
     },
     "execution_count": 11,
     "metadata": {},
     "output_type": "execute_result"
    }
   ],
   "source": [
    "# getting test data \n",
    "test_txt = [i.split('.')[0] for i in os.listdir('ICDAR_2019_task3_data/text.task1_2-test（361p)')]\n",
    "len(test_txt)\n"
   ]
  },
  {
   "cell_type": "code",
   "execution_count": 12,
   "metadata": {},
   "outputs": [
    {
     "data": {
      "text/plain": [
       "347"
      ]
     },
     "execution_count": 12,
     "metadata": {},
     "output_type": "execute_result"
    }
   ],
   "source": [
    "test_files = set(test_jpg).intersection(set(test_txt))\n",
    "len(test_files)"
   ]
  },
  {
   "cell_type": "markdown",
   "metadata": {},
   "source": [
    "## Checking out of Vocab Words"
   ]
  },
  {
   "cell_type": "code",
   "execution_count": 13,
   "metadata": {},
   "outputs": [
    {
     "name": "stdout",
     "output_type": "stream",
     "text": [
      "ICDAR_2019_task3_data/text.task1_2-test（361p)/X51005447844.txt c\n",
      "ICDAR_2019_task3_data/text.task1_2-test（361p)/X51005447844.txt a\n",
      "ICDAR_2019_task3_data/text.task1_2-test（361p)/X51005447844.txt s\n",
      "ICDAR_2019_task3_data/text.task1_2-test（361p)/X51005447844.txt h\n",
      "ICDAR_2019_task3_data/text.task1_2-test（361p)/X51005447844.txt i\n",
      "ICDAR_2019_task3_data/text.task1_2-test（361p)/X51005447844.txt e\n",
      "ICDAR_2019_task3_data/text.task1_2-test（361p)/X51005447844.txt r\n",
      "ICDAR_2019_task3_data/text.task1_2-test（361p)/X51005447844.txt a\n",
      "ICDAR_2019_task3_data/text.task1_2-test（361p)/X51005447844.txt d\n",
      "ICDAR_2019_task3_data/text.task1_2-test（361p)/X51005447844.txt m\n",
      "ICDAR_2019_task3_data/text.task1_2-test（361p)/X51005447844.txt i\n",
      "ICDAR_2019_task3_data/text.task1_2-test（361p)/X51005447844.txt n\n",
      "ICDAR_2019_task3_data/text.task1_2-test（361p)/X51006619503.txt £\n",
      "ICDAR_2019_task3_data/text.task1_2-test（361p)/X51006619503.txt ¬\n",
      "files to remove 14\n"
     ]
    }
   ],
   "source": [
    "# check for invalid files \n",
    "# containg chars not in our vocab \n",
    "\n",
    "\n",
    "counter = 0\n",
    "root_folder =  'ICDAR_2019_task3_data/text.task1_2-test（361p)/'\n",
    "\n",
    "for file in test_files:\n",
    "   \n",
    "    path = root_folder + file +'.txt'\n",
    "\n",
    "    data = getText(path)    \n",
    "    for char in data:\n",
    "        \n",
    "        if char not in VOCAB:\n",
    "            print(path,char)\n",
    "            counter += 1\n",
    "            \n",
    "            \n",
    "\n",
    "print('files to remove' , counter)    "
   ]
  },
  {
   "cell_type": "markdown",
   "metadata": {},
   "source": [
    "### the lower case chars will be upper case and the final unknown chars will be encoded with id = len(vocab)"
   ]
  },
  {
   "cell_type": "code",
   "execution_count": 98,
   "metadata": {},
   "outputs": [],
   "source": [
    "def create_test_data(root,test_files):\n",
    "    \n",
    "    data_dict = {}\n",
    "   \n",
    "    for idx  in tqdm(test_files):\n",
    "        \n",
    "        txt_file = f'{root}' + idx + '.txt'\n",
    "      \n",
    "        \n",
    "        x_test = getText(txt_file).upper()\n",
    "   \n",
    "        data_dict[idx] = x_test\n",
    "    \n",
    "    return data_dict\n",
    "    "
   ]
  },
  {
   "cell_type": "code",
   "execution_count": 99,
   "metadata": {},
   "outputs": [
    {
     "name": "stderr",
     "output_type": "stream",
     "text": [
      " 88%|████████▊ | 304/347 [00:00<00:00, 1564.73it/s]"
     ]
    },
    {
     "name": "stdout",
     "output_type": "stream",
     "text": [
      "total no. of test files :  347\n"
     ]
    },
    {
     "name": "stderr",
     "output_type": "stream",
     "text": [
      "100%|██████████| 347/347 [00:00<00:00, 1468.43it/s]\n"
     ]
    }
   ],
   "source": [
    "print('total no. of test files : ',len(test_files))\n",
    "test_dict = create_test_data(root = 'ICDAR_2019_task3_data/text.task1_2-test（361p)/',test_files = test_files)"
   ]
  },
  {
   "cell_type": "code",
   "execution_count": 100,
   "metadata": {},
   "outputs": [
    {
     "data": {
      "text/plain": [
       "347"
      ]
     },
     "execution_count": 100,
     "metadata": {},
     "output_type": "execute_result"
    }
   ],
   "source": [
    "len(test_dict.keys())"
   ]
  },
  {
   "cell_type": "code",
   "execution_count": 101,
   "metadata": {},
   "outputs": [],
   "source": [
    "\n",
    "# pk.dump(test_dict,open('test_data_dict','wb'))\n",
    "# pk.dump(test_files,open('test_ids','wb'))"
   ]
  },
  {
   "cell_type": "code",
   "execution_count": 159,
   "metadata": {},
   "outputs": [],
   "source": []
  },
  {
   "cell_type": "markdown",
   "metadata": {},
   "source": [
    "# Dataset"
   ]
  },
  {
   "cell_type": "markdown",
   "metadata": {},
   "source": [
    "For pytorch will need to create a dataset class. Our data class is called CustomDataset one thing to note here is the type of batching performed. Instead of computing a MAX_LEN for the entire dataset and then padding all the samples to that length. Here we compute MAX_LEN per batch.  "
   ]
  },
  {
   "cell_type": "code",
   "execution_count": 32,
   "metadata": {},
   "outputs": [
    {
     "name": "stdout",
     "output_type": "stream",
     "text": [
      "using device :  cpu\n",
      "train size :  500\n",
      "val size :  125\n",
      "test size  347\n",
      "total  samples :  625\n",
      "total training samples :  500\n",
      "X51005433552 ['X51005433552']\n",
      "total val samples :  125\n",
      "X51007846391 torch.Size([591, 1])\n",
      "total test samples :  347\n",
      "X51005684949 ['X51007846391']\n"
     ]
    }
   ],
   "source": [
    "import torch \n",
    "from torch.utils.data import Dataset\n",
    "\n",
    "import os \n",
    "import pickle as pk \n",
    "import random\n",
    "from string import punctuation,digits,ascii_uppercase\n",
    "\n",
    "VOCAB = punctuation + digits + ascii_uppercase + \" \" \n",
    "labels = {'company':1,'address':2,'date':3,'total':4}\n",
    "# inv_labels = {1:'company',2:'address',3:'date',4:'total'}\n",
    "\n",
    "\n",
    "class CustomDataset(Dataset):\n",
    "    \n",
    "    '''\n",
    "    A class to act as a Data pipeline. \n",
    "    \n",
    "    Arrtibutes:\n",
    "        device (str) : device being used either (cpu or cuda) defaut = cpu\n",
    "        data_type (str) : String used to identify the type of dataset train,val or test. default = train \n",
    "        train_dict (dict) : Dict containing all the training samples. \n",
    "        test_ds (dict) : dict containing only the test data \n",
    "        n (int) : size of train dataset (train  + val set combined)\n",
    "        val_size (int) : size of val dataset \n",
    "        train_ds (dict) : dict containg the only the training samples \n",
    "        val_ds (dict) : dict containing only the validation data.\n",
    "    \n",
    "    \n",
    "    Methods: \n",
    "           __len__ : Returns the length of the dataset.  \n",
    "           \n",
    "           getbtach(batch) : method responsiable for returning the encoded + padded train, val and test samples. \n",
    "                            \n",
    "                             raises : ValueError \n",
    "                                     No specific key error if the key is not found.\n",
    "                \n",
    "    \n",
    "    '''\n",
    "    \n",
    "    \n",
    "    \n",
    "    \n",
    "    def __init__(self,train_dict_path,test_dict_path,data_type = 'train',val_size = 0.2,device = 'cpu'):\n",
    "        \n",
    "        '''\n",
    "                    \n",
    "            Args:\n",
    "                train_dict_path (str) : path to train dict\n",
    "                test_dict_path (str) : path to test dict. \n",
    "                data_tye (str) : type of data one of (train,val,test) default = train \n",
    "                val_size (int) : size of the validation data default = 0.2\n",
    "                device (str) : either cpu or cuda. \n",
    "        \n",
    "        \n",
    "        '''\n",
    "\n",
    "        super(CustomDataset,self).__init__()\n",
    "        \n",
    "        self.data_type = data_type\n",
    "        self.train_dict = pk.load(open(train_dict_path,'rb'))\n",
    "        self.test_ds = pk.load(open(test_dict_path,'rb'))\n",
    "        \n",
    "        self.n = len(self.train_dict.keys())\n",
    "        self.val_size = int(self.n * val_size)\n",
    "        \n",
    "        data = list(self.train_dict.items())\n",
    "        random.shuffle(data)\n",
    "\n",
    "        self.train_ds =  dict(data[:(self.n - self.val_size)])\n",
    "        self.val_ds = dict(data[(self.n-self.val_size):])\n",
    "        self.device = device   \n",
    "\n",
    "        print('using device : ',self.device)\n",
    "        print('train size : ',len(self.train_ds))\n",
    "        print('val size : ',len(self.val_ds))\n",
    "        print('test size ',len(self.test_ds))\n",
    "        \n",
    "        \n",
    "    def __len__(self):\n",
    "        \n",
    "        '''\n",
    "            Returns the length (size) of the dataset.\n",
    "        '''\n",
    "        \n",
    "        return self.n \n",
    "    \n",
    "    \n",
    "    def get_batch(self,batch):\n",
    "        \n",
    "        '''\n",
    "        \n",
    "        Args:\n",
    "            batch (str or list) : parameter containing the names of files (without extensions) these serve as keys to our \n",
    "                                  train and test dict. For test dict the batch is str (a single value) for training and \n",
    "                                  validation batch is list of strings. \n",
    "        \n",
    "        Returns:\n",
    "                (while training and validation)\n",
    "                samples (list) : list of keys. \n",
    "                text_tensor(tensor) : tensor containing encoded input text. \n",
    "                truth_tensot(tensor) : tensor containing the encoded target data.\n",
    "                \n",
    "                (while testing)\n",
    "                text_tensor (tensor) : tensor containing encode test sample.\n",
    "        \n",
    "        \n",
    "        \n",
    "        '''\n",
    "        \n",
    " \n",
    "        # Testing phase \n",
    "        if self.data_type == 'test':\n",
    "                # print('testing.')\n",
    "                text = self.test_ds[batch]\n",
    "                text_tensor = torch.zeros(len(text), 1, dtype=torch.long)\n",
    "                text_tensor[:, 0] = torch.LongTensor([VOCAB.find(c)if VOCAB.find(c) != -1 else len(VOCAB) for c in text])\n",
    "                return text_tensor.to(self.device)\n",
    "            \n",
    "        elif isinstance(batch,list) and (self.data_type == 'train' or self.data_type == 'val'):\n",
    "            \n",
    "            samples = batch\n",
    "\n",
    "            if self.data_type == 'train':        \n",
    "                texts = [self.train_ds[k][0] for k in samples]\n",
    "                labels = [self.train_ds[k][1] for k in samples]\n",
    "            else:\n",
    "                texts = [self.val_ds[k][0] for k in samples]\n",
    "                labels = [self.val_ds[k][1] for k in samples]\n",
    "\n",
    "        else: \n",
    "             raise ValueError('No key specified.')\n",
    "        # padding and encoding.\n",
    "\n",
    "        maxlen = max(len(t) for t in texts)\n",
    "    \n",
    "        text_tensor = torch.zeros(maxlen, len(batch), dtype=torch.long)\n",
    "        for i, text in enumerate(texts):            \n",
    "            text_tensor[:, i] = torch.cat([torch.LongTensor([VOCAB.find(c)if VOCAB.find(c) != -1 else len(VOCAB) for c in text]),torch.zeros(maxlen-len(text),dtype = torch.long)])\n",
    "            \n",
    "        truth_tensor = torch.zeros(maxlen, len(batch), dtype=torch.long)\n",
    "        for i, label in enumerate(labels):\n",
    "            truth_tensor[:, i] = torch.cat([torch.LongTensor(label), torch.zeros(maxlen-len(label),dtype = torch.long)])\n",
    "\n",
    "        return samples,text_tensor.to(self.device), truth_tensor.to(self.device)\n",
    "\n",
    "\n",
    "\n",
    "\n",
    "if __name__ == \"__main__\":\n",
    "\n",
    "    dataset = CustomDataset(train_dict_path = 'Data_Dicts/train_corrected_data_dict',test_dict_path ='Data_Dicts/test_data_dict')   \n",
    "    \n",
    "    print('total  samples : ',len(dataset))\n",
    "\n",
    "    ### dataset during eval \n",
    "\n",
    "    # Training \n",
    "    train_keys = list(dataset.train_ds.keys())\n",
    "    print('total training samples : ',len(train_keys))\n",
    "    dataset.data_type = 'train'\n",
    "    for i in train_keys:\n",
    "        key,text,labels = dataset.get_batch(batch=[i])\n",
    "        print(i,key) \n",
    "        break \n",
    "    \n",
    "\n",
    "    #Validation \n",
    "    val_keys = list(dataset.val_ds.keys())\n",
    "    print('total val samples : ',len(val_keys))\n",
    "    dataset.data_type = 'val'\n",
    "    for i in val_keys:\n",
    "        key,text,labels = dataset.get_batch(batch=[i])\n",
    "        print(i,text.shape) \n",
    "        break \n",
    "\n",
    "    # Testing     \n",
    "    test_keys = list(dataset.test_ds.keys())\n",
    "    print('total test samples : ',len(test_keys))\n",
    "    # test sample from the test set.\n",
    "    dataset.data_type = 'test'\n",
    "    for i in test_keys:\n",
    "        text = dataset.get_batch(batch = i)\n",
    "        print(i,key) \n",
    "        break \n"
   ]
  },
  {
   "cell_type": "code",
   "execution_count": 33,
   "metadata": {},
   "outputs": [],
   "source": [
    "#helper function to convert the pred to dict.\n",
    "def get_output(key,text,pred,inf = True):\n",
    "    \n",
    "    '''\n",
    "    \n",
    "    A helper method to convert the models output (pred) to a dict. A competition accepts us the submission as dict stored in \n",
    "    .txt files.\n",
    "    \n",
    "    Args:\n",
    "        key (str) : file name without .txt extension\n",
    "        text (str) : cleaned text data. \n",
    "        pred (list) : list of label. \n",
    "        inf (boolean) : default  = True print the ground truth,  input text and predictions\n",
    "        \n",
    "        Returns: \n",
    "               output_dict (dict) : A dict containing the predict output in dict format. \n",
    "    \n",
    "    '''\n",
    "    \n",
    "    if inf:\n",
    "    \n",
    "        print('*******input text*******')    \n",
    "        print(text + \"\\n\")\n",
    "        print('****** Ground Truth *******')\n",
    "        data_dict = json.load(open('ICDAR_2019_task3_data/0325updated.task2train(626p)/'+key+\".txt\",'r'))\n",
    "        print(dict(data_dict))    \n",
    "        print('*******Prediction*********')\n",
    "    \n",
    "    output_dict = {}\n",
    "    \n",
    "    print(pred)\n",
    "    \n",
    "    for label in range(1,5):\n",
    "        word = ''\n",
    "        print(inv_labels[label], \" : \",end = \" \")\n",
    "        \n",
    "        for char,idx in zip(text,pred):\n",
    "            \n",
    "            if idx == label:\n",
    "                word += char\n",
    "                \n",
    "        print(word,end = \"\")\n",
    "        print(\"\\n\")\n",
    "        \n",
    "        output_dict[inv_labels[label]] = word\n",
    "        \n",
    "        \n",
    "    return output_dict\n",
    "    "
   ]
  },
  {
   "cell_type": "code",
   "execution_count": 34,
   "metadata": {},
   "outputs": [],
   "source": [
    "keys_to_check = list(dataset.train_ds.keys())[0:5]\n",
    "item = dataset.train_ds[keys_to_check[0]]"
   ]
  },
  {
   "cell_type": "code",
   "execution_count": 35,
   "metadata": {},
   "outputs": [
    {
     "name": "stdout",
     "output_type": "stream",
     "text": [
      "*******input text*******\n",
      "WARAKUYA PERMAS CITY SDN BHD REG NO: 1203194-W JALAN PERMAS UTARA 1. PERMAS JAYA 81750 MASAI JOHOR TEL : 0111-558 0000 GST ID: 0016 6993 5104 TAX INVOICE NO 58244 42 DATE: 10/03/2018 5:41:06 PAX NO:4 CASHIER: CASHIER3 WAITER: HANYIN QTY CODE/DESC THANK YOU ! PLEASE COME AGAIN ! TOTAL RM 3 SABA SHIO YAKI SEY 53.70 1 SALMON SHIO SET 21.90 4 ICED GREEN TEA 4.00 SUBTOTAL 79.60 DISCOUNT -30.00 TOTAL AMOUNT : 49.60 SERV CHARGE 10% 4.96 GST @ 6% 3.27 ROUNDING ADJ : -0.03 TOTAL AMOUNT: 57.80 TOTAL: RM 57.80 TYPE 3 GST SUMMARY AMOUNT RM TAX RM SR 6% 54.56 3.27 \n",
      "\n",
      "****** Ground Truth *******\n",
      "{'company': 'FTOF NOODLE HOUSE', 'date': '21/05/2018', 'address': 'NO.25, JALAN METRO PERDANA BARAT 2, TAMAN USAHAWAN KEPONG, KEPONG UTARA, 52100 KUALA LUMPUR.', 'total': 'RM31.60'}\n",
      "*******Prediction*********\n",
      "[1, 1, 1, 1, 1, 1, 1, 1, 1, 1, 1, 1, 1, 1, 1, 1, 1, 1, 1, 1, 1, 1, 1, 1, 1, 1, 1, 1, 0, 0, 0, 0, 0, 0, 0, 0, 0, 0, 0, 0, 0, 0, 0, 0, 0, 0, 0, 2, 2, 2, 2, 2, 2, 2, 2, 2, 2, 2, 2, 2, 2, 2, 2, 2, 2, 2, 2, 2, 2, 2, 2, 2, 2, 2, 2, 2, 2, 2, 2, 2, 2, 2, 2, 2, 2, 2, 2, 2, 2, 2, 2, 2, 2, 2, 2, 2, 2, 2, 0, 0, 0, 0, 0, 0, 0, 0, 0, 0, 0, 0, 0, 0, 0, 0, 0, 0, 0, 0, 0, 0, 0, 0, 0, 0, 0, 0, 0, 0, 0, 0, 0, 0, 0, 0, 0, 0, 0, 0, 0, 0, 0, 0, 0, 0, 0, 0, 0, 0, 0, 0, 0, 0, 0, 0, 0, 0, 0, 0, 0, 0, 0, 0, 0, 0, 0, 0, 0, 0, 0, 0, 0, 0, 3, 3, 3, 3, 3, 3, 3, 3, 3, 3, 0, 0, 0, 0, 0, 0, 0, 0, 0, 0, 0, 0, 0, 0, 0, 0, 0, 0, 0, 0, 0, 0, 0, 0, 0, 0, 0, 0, 0, 0, 0, 0, 0, 0, 0, 0, 0, 0, 0, 0, 0, 0, 0, 0, 0, 0, 0, 0, 0, 0, 0, 0, 0, 0, 0, 0, 0, 0, 0, 0, 0, 0, 0, 0, 0, 0, 0, 0, 0, 0, 0, 0, 0, 0, 0, 0, 0, 0, 0, 0, 0, 0, 0, 0, 0, 0, 0, 0, 0, 0, 0, 0, 0, 0, 0, 0, 0, 0, 0, 0, 0, 0, 0, 0, 0, 0, 0, 0, 0, 0, 0, 0, 0, 0, 0, 0, 0, 0, 0, 0, 0, 0, 0, 0, 0, 0, 0, 0, 0, 0, 0, 0, 0, 0, 0, 0, 0, 0, 0, 0, 0, 0, 0, 0, 0, 0, 0, 0, 0, 0, 0, 0, 0, 0, 0, 0, 0, 0, 0, 0, 0, 0, 0, 0, 0, 0, 0, 0, 0, 0, 0, 0, 0, 0, 0, 0, 0, 0, 0, 0, 0, 0, 0, 0, 0, 0, 0, 0, 0, 0, 0, 0, 0, 0, 0, 0, 0, 0, 0, 0, 0, 0, 0, 0, 0, 0, 0, 0, 0, 0, 0, 0, 0, 0, 0, 0, 0, 0, 0, 0, 0, 0, 0, 0, 0, 0, 0, 0, 0, 0, 0, 0, 0, 0, 0, 0, 0, 0, 0, 0, 0, 0, 0, 0, 0, 0, 0, 0, 0, 0, 0, 0, 0, 0, 0, 0, 0, 0, 0, 0, 0, 0, 0, 0, 0, 0, 0, 0, 0, 0, 0, 0, 0, 0, 0, 0, 0, 0, 0, 0, 0, 0, 0, 0, 0, 0, 0, 0, 0, 0, 0, 0, 0, 0, 0, 0, 0, 0, 0, 0, 0, 4, 4, 4, 4, 4, 0, 0, 0, 0, 0, 0, 0, 0, 0, 0, 0, 0, 0, 0, 0, 0, 0, 0, 0, 0, 0, 0, 0, 0, 0, 0, 0, 0, 0, 0, 0, 0, 0, 0, 0, 0, 0, 0, 0, 0, 0, 0, 0, 0, 0, 0, 0, 0, 0, 0, 0, 0, 0, 0, 0, 0, 0, 0, 0, 0, 0, 0, 0, 0, 0, 0, 0, 0, 0, 0]\n",
      "company  :  WARAKUYA PERMAS CITY SDN BHD\n",
      "\n",
      "address  :  JALAN PERMAS UTARA 1. PERMAS JAYA 81750 MASAI JOHOR\n",
      "\n",
      "date  :  10/03/2018\n",
      "\n",
      "total  :  57.80\n",
      "\n"
     ]
    },
    {
     "data": {
      "text/plain": [
       "{'company': 'WARAKUYA PERMAS CITY SDN BHD',\n",
       " 'address': 'JALAN PERMAS UTARA 1. PERMAS JAYA 81750 MASAI JOHOR',\n",
       " 'date': '10/03/2018',\n",
       " 'total': '57.80'}"
      ]
     },
     "execution_count": 35,
     "metadata": {},
     "output_type": "execute_result"
    }
   ],
   "source": [
    "get_output('X51006679216',*item)"
   ]
  },
  {
   "cell_type": "code",
   "execution_count": 36,
   "metadata": {},
   "outputs": [
    {
     "name": "stdout",
     "output_type": "stream",
     "text": [
      "X51005433552\n",
      "*******input text*******\n",
      "WARAKUYA PERMAS CITY SDN BHD REG NO: 1203194-W JALAN PERMAS UTARA 1. PERMAS JAYA 81750 MASAI JOHOR TEL : 0111-558 0000 GST ID: 0016 6993 5104 TAX INVOICE NO 58244 42 DATE: 10/03/2018 5:41:06 PAX NO:4 CASHIER: CASHIER3 WAITER: HANYIN QTY CODE/DESC THANK YOU ! PLEASE COME AGAIN ! TOTAL RM 3 SABA SHIO YAKI SEY 53.70 1 SALMON SHIO SET 21.90 4 ICED GREEN TEA 4.00 SUBTOTAL 79.60 DISCOUNT -30.00 TOTAL AMOUNT : 49.60 SERV CHARGE 10% 4.96 GST @ 6% 3.27 ROUNDING ADJ : -0.03 TOTAL AMOUNT: 57.80 TOTAL: RM 57.80 TYPE 3 GST SUMMARY AMOUNT RM TAX RM SR 6% 54.56 3.27 \n",
      "\n",
      "****** Ground Truth *******\n",
      "{'company': 'WARAKUYA PERMAS CITY SDN BHD', 'date': '10/03/2018', 'address': 'JALAN PERMAS UTARA 1. PERMAS JAYA 81750 MASAI JOHOR', 'total': '57.80'}\n",
      "*******Prediction*********\n",
      "[1, 1, 1, 1, 1, 1, 1, 1, 1, 1, 1, 1, 1, 1, 1, 1, 1, 1, 1, 1, 1, 1, 1, 1, 1, 1, 1, 1, 0, 0, 0, 0, 0, 0, 0, 0, 0, 0, 0, 0, 0, 0, 0, 0, 0, 0, 0, 2, 2, 2, 2, 2, 2, 2, 2, 2, 2, 2, 2, 2, 2, 2, 2, 2, 2, 2, 2, 2, 2, 2, 2, 2, 2, 2, 2, 2, 2, 2, 2, 2, 2, 2, 2, 2, 2, 2, 2, 2, 2, 2, 2, 2, 2, 2, 2, 2, 2, 2, 0, 0, 0, 0, 0, 0, 0, 0, 0, 0, 0, 0, 0, 0, 0, 0, 0, 0, 0, 0, 0, 0, 0, 0, 0, 0, 0, 0, 0, 0, 0, 0, 0, 0, 0, 0, 0, 0, 0, 0, 0, 0, 0, 0, 0, 0, 0, 0, 0, 0, 0, 0, 0, 0, 0, 0, 0, 0, 0, 0, 0, 0, 0, 0, 0, 0, 0, 0, 0, 0, 0, 0, 0, 0, 3, 3, 3, 3, 3, 3, 3, 3, 3, 3, 0, 0, 0, 0, 0, 0, 0, 0, 0, 0, 0, 0, 0, 0, 0, 0, 0, 0, 0, 0, 0, 0, 0, 0, 0, 0, 0, 0, 0, 0, 0, 0, 0, 0, 0, 0, 0, 0, 0, 0, 0, 0, 0, 0, 0, 0, 0, 0, 0, 0, 0, 0, 0, 0, 0, 0, 0, 0, 0, 0, 0, 0, 0, 0, 0, 0, 0, 0, 0, 0, 0, 0, 0, 0, 0, 0, 0, 0, 0, 0, 0, 0, 0, 0, 0, 0, 0, 0, 0, 0, 0, 0, 0, 0, 0, 0, 0, 0, 0, 0, 0, 0, 0, 0, 0, 0, 0, 0, 0, 0, 0, 0, 0, 0, 0, 0, 0, 0, 0, 0, 0, 0, 0, 0, 0, 0, 0, 0, 0, 0, 0, 0, 0, 0, 0, 0, 0, 0, 0, 0, 0, 0, 0, 0, 0, 0, 0, 0, 0, 0, 0, 0, 0, 0, 0, 0, 0, 0, 0, 0, 0, 0, 0, 0, 0, 0, 0, 0, 0, 0, 0, 0, 0, 0, 0, 0, 0, 0, 0, 0, 0, 0, 0, 0, 0, 0, 0, 0, 0, 0, 0, 0, 0, 0, 0, 0, 0, 0, 0, 0, 0, 0, 0, 0, 0, 0, 0, 0, 0, 0, 0, 0, 0, 0, 0, 0, 0, 0, 0, 0, 0, 0, 0, 0, 0, 0, 0, 0, 0, 0, 0, 0, 0, 0, 0, 0, 0, 0, 0, 0, 0, 0, 0, 0, 0, 0, 0, 0, 0, 0, 0, 0, 0, 0, 0, 0, 0, 0, 0, 0, 0, 0, 0, 0, 0, 0, 0, 0, 0, 0, 0, 0, 0, 0, 0, 0, 0, 0, 0, 0, 0, 0, 0, 0, 0, 0, 0, 0, 0, 0, 0, 0, 0, 0, 0, 0, 0, 0, 0, 0, 0, 4, 4, 4, 4, 4, 0, 0, 0, 0, 0, 0, 0, 0, 0, 0, 0, 0, 0, 0, 0, 0, 0, 0, 0, 0, 0, 0, 0, 0, 0, 0, 0, 0, 0, 0, 0, 0, 0, 0, 0, 0, 0, 0, 0, 0, 0, 0, 0, 0, 0, 0, 0, 0, 0, 0, 0, 0, 0, 0, 0, 0, 0, 0, 0, 0, 0, 0, 0, 0, 0, 0, 0, 0, 0, 0]\n",
      "company  :  WARAKUYA PERMAS CITY SDN BHD\n",
      "\n",
      "address  :  JALAN PERMAS UTARA 1. PERMAS JAYA 81750 MASAI JOHOR\n",
      "\n",
      "date  :  10/03/2018\n",
      "\n",
      "total  :  57.80\n",
      "\n",
      "X51007339158\n",
      "*******input text*******\n",
      "SANYU STATIONERY SHOP NO. 31G&33G, JALAN SETIA INDAH X ,U13/X 40170 SETIA ALAM MOBILE /WHATSAPPS : +6012-918 7937 TEL: +603-3362 4137 GST ID NO: 001531760640 TAX INVOICE OWNED BY : SANYU SUPPLY SDN BHD (1135772-K) CASH SALES COUNTER 1. 5000-0001 PHOTOCOPY SERVICES - A4 SIZE 50 X 0.1000 5.00 SR TOTAL SALES INCLUSIVE GST @6% 5.00 DISCOUNT 0.00 TOTAL 5.00 ROUND ADJ 0.00 FINAL TOTAL 5.00 CASH 100.00 CHANGE 95.00 GST SUMMARY AMOUNT(RM) TAX(RM) SR @ 6% 4.72 0.28 INV NO: CS-SA-0097491 DATE : 19/07/2017 GOODS SOLD ARE NOT RETURNABLE & REFUNDABLE THANK YOU FOR YOUR PATRONAGE PLEASE COME AGAIN. TERIMA KASIH SILA DATANG LAGI ** PLEASE KEEP THIS RECEIPT FOR PROVE OF PURCHASE DATE FOR I.T PRODUCT WARRANTY PURPOSE ** FOLLOW US IN FACEBOOK : SANYU.STATIONERY \n",
      "\n",
      "****** Ground Truth *******\n",
      "{'company': 'SANYU STATIONERY SHOP', 'date': '19/07/2017', 'address': 'NO. 31G&33G, JALAN SETIA INDAH X ,U13/X 40170 SETIA ALAM', 'total': '5.00'}\n",
      "*******Prediction*********\n",
      "[1, 1, 1, 1, 1, 1, 1, 1, 1, 1, 1, 1, 1, 1, 1, 1, 1, 1, 1, 1, 1, 0, 2, 2, 2, 2, 2, 2, 2, 2, 2, 2, 2, 2, 2, 2, 2, 2, 2, 2, 2, 2, 2, 2, 2, 2, 2, 2, 2, 2, 2, 2, 2, 2, 2, 2, 2, 2, 2, 2, 2, 2, 2, 2, 2, 2, 2, 2, 2, 2, 2, 2, 2, 2, 2, 2, 2, 2, 0, 0, 0, 0, 0, 0, 0, 0, 0, 0, 0, 0, 0, 0, 0, 0, 0, 0, 0, 0, 0, 0, 0, 0, 0, 0, 0, 0, 0, 0, 0, 0, 0, 0, 0, 0, 0, 0, 0, 0, 0, 0, 0, 0, 0, 0, 0, 0, 0, 0, 0, 0, 0, 0, 0, 0, 0, 0, 0, 0, 0, 0, 0, 0, 0, 0, 0, 0, 0, 0, 0, 0, 0, 0, 0, 0, 0, 0, 0, 0, 0, 0, 0, 0, 0, 0, 0, 0, 0, 0, 0, 0, 0, 0, 0, 0, 0, 0, 0, 0, 0, 0, 0, 0, 0, 0, 0, 0, 0, 0, 0, 0, 0, 0, 0, 0, 0, 0, 0, 0, 0, 0, 0, 0, 0, 0, 0, 0, 0, 0, 0, 0, 0, 0, 0, 0, 0, 0, 0, 0, 0, 0, 0, 0, 0, 0, 0, 0, 0, 0, 0, 0, 0, 0, 0, 0, 0, 0, 0, 0, 0, 0, 0, 0, 0, 0, 0, 0, 0, 0, 0, 0, 0, 0, 0, 0, 0, 0, 0, 0, 0, 0, 0, 0, 0, 0, 0, 0, 0, 0, 0, 0, 0, 0, 0, 0, 0, 0, 0, 0, 0, 0, 0, 0, 0, 0, 0, 0, 0, 4, 4, 4, 4, 0, 0, 0, 0, 0, 0, 0, 0, 0, 0, 0, 0, 0, 0, 0, 0, 0, 0, 0, 0, 0, 0, 0, 0, 0, 0, 0, 0, 0, 0, 0, 0, 0, 0, 0, 0, 0, 0, 0, 0, 0, 0, 0, 0, 0, 0, 0, 0, 0, 0, 0, 0, 0, 0, 0, 0, 0, 0, 0, 0, 0, 0, 0, 0, 0, 0, 0, 0, 0, 0, 0, 0, 0, 0, 0, 0, 0, 0, 0, 0, 0, 0, 0, 0, 0, 0, 0, 0, 0, 0, 0, 0, 0, 0, 0, 0, 0, 0, 0, 0, 0, 0, 0, 0, 0, 0, 0, 0, 0, 0, 0, 0, 0, 0, 0, 0, 0, 0, 0, 0, 0, 0, 0, 0, 0, 0, 0, 0, 0, 0, 0, 0, 0, 0, 0, 0, 0, 0, 0, 0, 0, 0, 0, 0, 0, 0, 0, 0, 0, 0, 0, 0, 0, 0, 0, 0, 0, 0, 0, 0, 0, 0, 0, 0, 0, 0, 0, 0, 0, 0, 0, 0, 0, 0, 0, 0, 0, 0, 0, 0, 0, 0, 0, 0, 0, 0, 0, 0, 0, 0, 0, 0, 0, 0, 0, 0, 0, 0, 0, 3, 3, 3, 3, 3, 3, 3, 3, 3, 3, 0, 0, 0, 0, 0, 0, 0, 0, 0, 0, 0, 0, 0, 0, 0, 0, 0, 0, 0, 0, 0, 0, 0, 0, 0, 0, 0, 0, 0, 0, 0, 0, 0, 0, 0, 0, 0, 0, 0, 0, 0, 0, 0, 0, 0, 0, 0, 0, 0, 0, 0, 0, 0, 0, 0, 0, 0, 0, 0, 0, 0, 0, 0, 0, 0, 0, 0, 0, 0, 0, 0, 0, 0, 0, 0, 0, 0, 0, 0, 0, 0, 0, 0, 0, 0, 0, 0, 0, 0, 0, 0, 0, 0, 0, 0, 0, 0, 0, 0, 0, 0, 0, 0, 0, 0, 0, 0, 0, 0, 0, 0, 0, 0, 0, 0, 0, 0, 0, 0, 0, 0, 0, 0, 0, 0, 0, 0, 0, 0, 0, 0, 0, 0, 0, 0, 0, 0, 0, 0, 0, 0, 0, 0, 0, 0, 0, 0, 0, 0, 0, 0, 0, 0, 0, 0, 0, 0, 0, 0, 0, 0, 0, 0, 0, 0, 0, 0, 0, 0, 0, 0, 0, 0, 0, 0, 0, 0, 0, 0, 0, 0, 0, 0, 0, 0, 0, 0, 0, 0, 0, 0, 0, 0, 0, 0, 0, 0, 0, 0, 0, 0, 0, 0, 0, 0, 0, 0, 0, 0, 0, 0, 0, 0, 0, 0, 0, 0, 0, 0, 0, 0, 0, 0, 0, 0, 0, 0, 0, 0, 0, 0, 0, 0, 0, 0, 0, 0, 0, 0, 0, 0, 0, 0, 0, 0, 0, 0, 0, 0, 0, 0, 0, 0, 0]\n",
      "company  :  SANYU STATIONERY SHOP\n",
      "\n",
      "address  :  NO. 31G&33G, JALAN SETIA INDAH X ,U13/X 40170 SETIA ALAM\n",
      "\n",
      "date  :  19/07/2017\n",
      "\n",
      "total  :  5.00\n",
      "\n",
      "X51005685357\n",
      "*******input text*******\n",
      "FARMASI MALURI S/B (587969-U) GST NO: 000342237184 (ID:5033) 23, JIN BURUNG JENTAYU, TMN BUKIT MALURI, KEPONG, 52100 KL. TAX INVOICE CASHIER : POS1N M/C. ID :POS7 RECEIPT : 71857936 02/03/18 05:16 PM DESCRIPTION DISC. SUBTOTAL 061558 - **BMS MILK THISTLE 1 X 111.30 36.75 72.35 S 910845 - TRILON-E CRM 1 X 7.00 7.00 Z TOTAL (INCLUDING GST) 79.35 ROUNDING NET TENOER CHANGE/BALANCE 0.00 79.35 100.00 20.65 GST SUMMARY ZRL @0.00% SR @ 6.00% 7.00 68.25 0.00 4.10 GOODS SOLD ARE NON-REFUNDABLE BUT EXCHANGEABLE WITHIN 7 DAYS WITH RECEIPT PLUS GOODS ARE IN RESALEABLE CONDITION. ALL FACE MASK & INJECTABLE ARE NON-RETURNABLE & NON -EXCHANGEABLE **SPECIAL PROMOTION AMT (EXCL. GST) TAX (RM) 3180301 \n",
      "\n",
      "****** Ground Truth *******\n",
      "{'company': 'FARMASI MALURI S/B', 'date': '02/03/18', 'address': '23, JIN BURUNG JENTAYU, TMN BUKIT MALURI, KEPONG, 52100 KL.', 'total': '79.35'}\n",
      "*******Prediction*********\n",
      "[1, 1, 1, 1, 1, 1, 1, 1, 1, 1, 1, 1, 1, 1, 1, 1, 1, 1, 0, 0, 0, 0, 0, 0, 0, 0, 0, 0, 0, 0, 0, 0, 0, 0, 0, 0, 0, 0, 0, 0, 0, 0, 0, 0, 0, 0, 0, 0, 0, 0, 0, 0, 0, 0, 0, 0, 0, 0, 0, 0, 0, 2, 2, 2, 2, 2, 2, 2, 2, 2, 2, 2, 2, 2, 2, 2, 2, 2, 2, 2, 2, 2, 2, 2, 2, 2, 2, 2, 2, 2, 2, 2, 2, 2, 2, 2, 2, 2, 2, 2, 2, 2, 2, 2, 2, 2, 2, 2, 2, 2, 2, 2, 2, 2, 2, 2, 2, 2, 2, 2, 0, 0, 0, 0, 0, 0, 0, 0, 0, 0, 0, 0, 0, 0, 0, 0, 0, 0, 0, 0, 0, 0, 0, 0, 0, 0, 0, 0, 0, 0, 0, 0, 0, 0, 0, 0, 0, 0, 0, 0, 0, 0, 0, 0, 0, 0, 0, 0, 0, 0, 0, 0, 0, 0, 0, 0, 0, 0, 0, 0, 0, 0, 3, 3, 3, 3, 3, 3, 3, 3, 0, 0, 0, 0, 0, 0, 0, 0, 0, 0, 0, 0, 0, 0, 0, 0, 0, 0, 0, 0, 0, 0, 0, 0, 0, 0, 0, 0, 0, 0, 0, 0, 0, 0, 0, 0, 0, 0, 0, 0, 0, 0, 0, 0, 0, 0, 0, 0, 0, 0, 0, 0, 0, 0, 0, 0, 0, 0, 0, 0, 0, 0, 0, 0, 0, 0, 0, 0, 0, 0, 0, 0, 0, 0, 0, 0, 0, 0, 0, 0, 0, 0, 0, 0, 0, 0, 0, 0, 0, 0, 0, 0, 0, 0, 0, 0, 0, 0, 0, 0, 0, 0, 0, 0, 0, 0, 0, 0, 0, 0, 0, 0, 0, 0, 0, 0, 0, 0, 0, 0, 0, 0, 0, 0, 0, 0, 0, 0, 0, 0, 0, 0, 0, 0, 0, 0, 0, 0, 0, 0, 0, 0, 0, 0, 0, 0, 0, 0, 0, 0, 4, 4, 4, 4, 4, 0, 0, 0, 0, 0, 0, 0, 0, 0, 0, 0, 0, 0, 0, 0, 0, 0, 0, 0, 0, 0, 0, 0, 0, 0, 0, 0, 0, 0, 0, 0, 0, 0, 0, 0, 0, 0, 0, 0, 0, 0, 0, 0, 0, 0, 0, 0, 0, 0, 0, 0, 0, 0, 0, 0, 0, 0, 0, 0, 0, 0, 0, 0, 0, 0, 0, 0, 0, 0, 0, 0, 0, 0, 0, 0, 0, 0, 0, 0, 0, 0, 0, 0, 0, 0, 0, 0, 0, 0, 0, 0, 0, 0, 0, 0, 0, 0, 0, 0, 0, 0, 0, 0, 0, 0, 0, 0, 0, 0, 0, 0, 0, 0, 0, 0, 0, 0, 0, 0, 0, 0, 0, 0, 0, 0, 0, 0, 0, 0, 0, 0, 0, 0, 0, 0, 0, 0, 0, 0, 0, 0, 0, 0, 0, 0, 0, 0, 0, 0, 0, 0, 0, 0, 0, 0, 0, 0, 0, 0, 0, 0, 0, 0, 0, 0, 0, 0, 0, 0, 0, 0, 0, 0, 0, 0, 0, 0, 0, 0, 0, 0, 0, 0, 0, 0, 0, 0, 0, 0, 0, 0, 0, 0, 0, 0, 0, 0, 0, 0, 0, 0, 0, 0, 0, 0, 0, 0, 0, 0, 0, 0, 0, 0, 0, 0, 0, 0, 0, 0, 0, 0, 0, 0, 0, 0, 0, 0, 0, 0, 0, 0, 0, 0, 0, 0, 0, 0, 0, 0, 0, 0, 0, 0, 0, 0, 0, 0, 0, 0, 0, 0, 0, 0, 0, 0, 0, 0, 0, 0, 0, 0, 0, 0, 0, 0, 0, 0, 0, 0, 0, 0, 0, 0, 0, 0, 0, 0, 0, 0, 0, 0, 0, 0, 0, 0, 0, 0, 0, 0, 0, 0, 0, 0, 0, 0, 0, 0, 0, 0, 0, 0, 0, 0, 0, 0, 0, 0, 0, 0, 0, 0, 0, 0, 0, 0, 0, 0, 0, 0, 0, 0, 0, 0, 0, 0, 0, 0, 0, 0, 0, 0, 0, 0, 0, 0, 0, 0, 0, 0, 0, 0, 0, 0, 0, 0, 0, 0, 0]\n",
      "company  :  FARMASI MALURI S/B\n",
      "\n",
      "address  :  23, JIN BURUNG JENTAYU, TMN BUKIT MALURI, KEPONG, 52100 KL.\n",
      "\n",
      "date  :  02/03/18\n",
      "\n",
      "total  :  79.35\n",
      "\n",
      "X51006556823\n",
      "*******input text*******\n",
      "GARDENIA BAKERIES (KL) SDN BHD (139386 X) LOT 3, JALAN PELABUR 23/1, 40300 SHAH ALAM, SELANGOR. TEL: 03- 55423228 GST ID: 000381399040 TAX INVOICE / ADJUSTMENT NOTE CASH INV NO.: 7930F713 VE0514 DATE: 30/09/2017 MAKASSAR FRESH MARKET SDN BHD GROUND FLOOR, NO. 4 & 6, JALAN SS 15/4B, 47500 SUBANG JAYA, SELANGOR VE05: RIDZUAN (11900) DD: 30/09/2017 11:52 DESCRIPTION U.P D AMT(RM) O.C. WHITE 2.13 10 0 0 10 21.30 O.C JUMBO 2.97 0 2 0 -2 -5.94 TOTAL 0% SUPPLIES: 15.36 CR-VANILLA 0.72 0 5 0 -5 -3.60 CR-B'SCOTCH 0.72 20 0 0 20 14.40 TOTAL 6% SUPPLIES (EXCL. GST): 10.80 GST: 0.64 TOTAL 6% SUPPLIES (INC. GST): 11.44 TOTAL 0% SUPPLIES: 15.36 TOTAL PAYABLE: 26.80 E.&.0.E. RECEIVED ABOVE GOODS IN GOOD ORDER CONDITION. THE RECIPIENT OF GARDENIA'S PRODUCTS IS REQUIRED TO MAKE NECESSARY ADJUSTMENTS TO ITS INPUT TAX CLAIMS, ON THE BASIC OF THE ADJUSTMENTS SHOWN IN THIS TAX INVOICE / ADJUSTMENT NOTE CUSTOMER'S COPY FAX:03- 55423213 ISS EXC SALE \n",
      "\n",
      "****** Ground Truth *******\n",
      "{'company': 'GARDENIA BAKERIES (KL) SDN BHD', 'date': '30/09/2017', 'address': 'LOT 3, JALAN PELABUR 23/1, 40300 SHAH ALAM, SELANGOR.', 'total': '26.80'}\n",
      "*******Prediction*********\n",
      "[1, 1, 1, 1, 1, 1, 1, 1, 1, 1, 1, 1, 1, 1, 1, 1, 1, 1, 1, 1, 1, 1, 1, 1, 1, 1, 1, 1, 1, 1, 0, 0, 0, 0, 0, 0, 0, 0, 0, 0, 0, 0, 2, 2, 2, 2, 2, 2, 2, 2, 2, 2, 2, 2, 2, 2, 2, 2, 2, 2, 2, 2, 2, 2, 2, 2, 2, 2, 2, 2, 2, 2, 2, 2, 2, 2, 2, 2, 2, 2, 2, 2, 2, 2, 2, 2, 2, 2, 2, 2, 2, 2, 2, 2, 2, 0, 0, 0, 0, 0, 0, 0, 0, 0, 0, 0, 0, 0, 0, 0, 0, 0, 0, 0, 0, 0, 0, 0, 0, 0, 0, 0, 0, 0, 0, 0, 0, 0, 0, 0, 0, 0, 0, 0, 0, 0, 0, 0, 0, 0, 0, 0, 0, 0, 0, 0, 0, 0, 0, 0, 0, 0, 0, 0, 0, 0, 0, 0, 0, 0, 0, 0, 0, 0, 0, 0, 0, 0, 0, 0, 0, 0, 0, 0, 0, 0, 0, 0, 0, 0, 0, 0, 0, 0, 0, 0, 0, 0, 0, 0, 0, 0, 0, 0, 0, 0, 0, 0, 0, 0, 0, 3, 3, 3, 3, 3, 3, 3, 3, 3, 3, 0, 0, 0, 0, 0, 0, 0, 0, 0, 0, 0, 0, 0, 0, 0, 0, 0, 0, 0, 0, 0, 0, 0, 0, 0, 0, 0, 0, 0, 0, 0, 0, 0, 0, 0, 0, 0, 0, 0, 0, 0, 0, 0, 0, 0, 0, 0, 0, 0, 0, 0, 0, 0, 0, 0, 0, 0, 0, 0, 0, 0, 0, 0, 0, 0, 0, 0, 0, 0, 0, 0, 0, 0, 0, 0, 0, 0, 0, 0, 0, 0, 0, 0, 0, 0, 0, 0, 0, 0, 0, 0, 0, 0, 0, 0, 0, 0, 0, 0, 0, 0, 0, 0, 0, 0, 0, 0, 0, 0, 0, 0, 0, 0, 0, 0, 0, 0, 0, 0, 0, 0, 0, 0, 0, 0, 0, 0, 0, 0, 0, 0, 0, 0, 0, 0, 0, 0, 0, 0, 0, 0, 0, 0, 0, 0, 0, 0, 0, 0, 0, 0, 0, 0, 0, 0, 0, 0, 0, 0, 0, 0, 0, 0, 0, 0, 0, 0, 0, 0, 0, 0, 0, 0, 0, 0, 0, 0, 0, 0, 0, 0, 0, 0, 0, 0, 0, 0, 0, 0, 0, 0, 0, 0, 0, 0, 0, 0, 0, 0, 0, 0, 0, 0, 0, 0, 0, 0, 0, 0, 0, 0, 0, 0, 0, 0, 0, 0, 0, 0, 0, 0, 0, 0, 0, 0, 0, 0, 0, 0, 0, 0, 0, 0, 0, 0, 0, 0, 0, 0, 0, 0, 0, 0, 0, 0, 0, 0, 0, 0, 0, 0, 0, 0, 0, 0, 0, 0, 0, 0, 0, 0, 0, 0, 0, 0, 0, 0, 0, 0, 0, 0, 0, 0, 0, 0, 0, 0, 0, 0, 0, 0, 0, 0, 0, 0, 0, 0, 0, 0, 0, 0, 0, 0, 0, 0, 0, 0, 0, 0, 0, 0, 0, 0, 0, 0, 0, 0, 0, 0, 0, 0, 0, 0, 0, 0, 0, 0, 0, 0, 0, 0, 0, 0, 0, 0, 0, 0, 0, 0, 0, 0, 0, 0, 0, 0, 0, 0, 0, 0, 0, 0, 0, 0, 0, 0, 0, 0, 0, 0, 0, 0, 0, 0, 0, 0, 0, 0, 0, 0, 0, 0, 0, 0, 0, 0, 0, 0, 0, 0, 0, 0, 0, 0, 0, 0, 0, 0, 0, 0, 0, 0, 0, 0, 0, 0, 0, 0, 0, 0, 0, 0, 0, 0, 0, 0, 0, 0, 0, 0, 0, 0, 0, 0, 0, 0, 0, 0, 0, 0, 0, 0, 0, 0, 0, 0, 0, 0, 0, 0, 0, 0, 0, 0, 0, 0, 0, 0, 0, 0, 0, 0, 0, 0, 0, 0, 0, 0, 0, 0, 0, 0, 0, 0, 4, 4, 4, 4, 4, 0, 0, 0, 0, 0, 0, 0, 0, 0, 0, 0, 0, 0, 0, 0, 0, 0, 0, 0, 0, 0, 0, 0, 0, 0, 0, 0, 0, 0, 0, 0, 0, 0, 0, 0, 0, 0, 0, 0, 0, 0, 0, 0, 0, 0, 0, 0, 0, 0, 0, 0, 0, 0, 0, 0, 0, 0, 0, 0, 0, 0, 0, 0, 0, 0, 0, 0, 0, 0, 0, 0, 0, 0, 0, 0, 0, 0, 0, 0, 0, 0, 0, 0, 0, 0, 0, 0, 0, 0, 0, 0, 0, 0, 0, 0, 0, 0, 0, 0, 0, 0, 0, 0, 0, 0, 0, 0, 0, 0, 0, 0, 0, 0, 0, 0, 0, 0, 0, 0, 0, 0, 0, 0, 0, 0, 0, 0, 0, 0, 0, 0, 0, 0, 0, 0, 0, 0, 0, 0, 0, 0, 0, 0, 0, 0, 0, 0, 0, 0, 0, 0, 0, 0, 0, 0, 0, 0, 0, 0, 0, 0, 0, 0, 0, 0, 0, 0, 0, 0, 0, 0, 0, 0, 0, 0, 0, 0, 0, 0, 0, 0, 0, 0, 0, 0, 0, 0, 0, 0, 0, 0, 0, 0, 0, 0, 0, 0, 0, 0, 0, 0, 0, 0, 0, 0, 0, 0, 0, 0, 0, 0, 0, 0, 0, 0, 0, 0, 0, 0, 0, 0, 0, 0, 0, 0, 0, 0, 0, 0, 0, 0, 0, 0, 0, 0, 0, 0, 0, 0, 0, 0, 0, 0, 0, 0, 0, 0, 0, 0, 0, 0, 0, 0, 0, 0, 0, 0, 0, 0, 0, 0, 0, 0, 0, 0, 0, 0, 0, 0, 0, 0, 0, 0, 0, 0, 0, 0, 0, 0, 0, 0, 0]\n",
      "company  :  GARDENIA BAKERIES (KL) SDN BHD\n",
      "\n",
      "address  :  LOT 3, JALAN PELABUR 23/1, 40300 SHAH ALAM, SELANGOR.\n",
      "\n",
      "date  :  30/09/2017\n",
      "\n",
      "total  :  26.80\n",
      "\n",
      "X51006555125\n",
      "*******input text*******\n",
      "TAX INVOICE KHIAM AIK CHAN SDN BHD (88842-H) NO. 76, JALAN SS15/4B, 47500 SUBANG JAYA, SELANGOR D.E. GST REG.: 000555819008 CASH SALES NO. : CS-19204 DATE : 25/09/2017 01:48:57 PM 1. MAX 10-1M STAPLES 2 X 14.20 28.40 TATAL SALES INCLUSIVE GST @6% 28.40 CASH 50.00 CHANGE 21.60 GST SUMMARY AMOUNT(RM) TAX(RM) SR @ 6% 26.79 1.61 GOODS SOLD ARE NOT RETURNABLE. THANK YOU! PLEASE COME AGAIN! \n",
      "\n",
      "****** Ground Truth *******\n",
      "{'company': 'KHIAM AIK CHAN SDN BHD', 'date': '25/09/2017', 'address': 'NO. 76, JALAN SS15/4B, 47500 SUBANG JAYA, SELANGOR D.E.', 'total': '28.40'}\n",
      "*******Prediction*********\n",
      "[0, 0, 0, 0, 0, 0, 0, 0, 0, 0, 0, 0, 1, 1, 1, 1, 1, 1, 1, 1, 1, 1, 1, 1, 1, 1, 1, 1, 1, 1, 1, 1, 1, 1, 0, 0, 0, 0, 0, 0, 0, 0, 0, 0, 0, 2, 2, 2, 2, 2, 2, 2, 2, 2, 2, 2, 2, 2, 2, 2, 2, 2, 2, 2, 2, 2, 2, 2, 2, 2, 2, 2, 2, 2, 2, 2, 2, 2, 2, 2, 2, 2, 2, 2, 2, 2, 2, 2, 2, 2, 2, 2, 2, 2, 2, 2, 2, 2, 2, 2, 0, 0, 0, 0, 0, 0, 0, 0, 0, 0, 0, 0, 0, 0, 0, 0, 0, 0, 0, 0, 0, 0, 0, 0, 0, 0, 0, 0, 0, 0, 0, 0, 0, 0, 0, 0, 0, 0, 0, 0, 0, 0, 0, 0, 0, 0, 0, 0, 0, 0, 0, 0, 0, 0, 0, 0, 0, 3, 3, 3, 3, 3, 3, 3, 3, 3, 3, 0, 0, 0, 0, 0, 0, 0, 0, 0, 0, 0, 0, 0, 0, 0, 0, 0, 0, 0, 0, 0, 0, 0, 0, 0, 0, 0, 0, 0, 0, 0, 0, 0, 0, 0, 0, 0, 0, 0, 0, 0, 0, 0, 0, 4, 4, 4, 4, 4, 0, 0, 0, 0, 0, 0, 0, 0, 0, 0, 0, 0, 0, 0, 0, 0, 0, 0, 0, 0, 0, 0, 0, 0, 0, 0, 0, 0, 0, 0, 0, 0, 0, 0, 0, 0, 0, 0, 0, 0, 0, 0, 0, 0, 0, 0, 0, 0, 0, 0, 0, 0, 0, 0, 0, 0, 0, 0, 0, 0, 0, 0, 0, 0, 0, 0, 0, 0, 0, 0, 0, 0, 0, 0, 0, 0, 0, 0, 0, 0, 0, 0, 0, 0, 0, 0, 0, 0, 0, 0, 0, 0, 0, 0, 0, 0, 0, 0, 0, 0, 0, 0, 0, 0, 0, 0, 0, 0, 0, 0, 0, 0, 0, 0, 0, 0, 0, 0, 0, 0, 0, 0, 0, 0, 0, 0, 0, 0, 0, 0, 0, 0, 0, 0, 0, 0, 0, 0, 0, 0, 0, 0, 0, 0, 0, 0, 0, 0, 0, 0, 0, 0, 0, 0, 0, 0, 0, 0, 0, 0, 0, 0, 0, 0, 0, 0, 0, 0, 0, 0, 0, 0]\n",
      "company  :  KHIAM AIK CHAN SDN BHD\n",
      "\n",
      "address  :  NO. 76, JALAN SS15/4B, 47500 SUBANG JAYA, SELANGOR D.E.\n",
      "\n",
      "date  :  25/09/2017\n",
      "\n",
      "total  :  28.40\n",
      "\n"
     ]
    }
   ],
   "source": [
    "for key in keys_to_check:\n",
    "    print(key)\n",
    "    item = dataset.train_ds[key]\n",
    "    get_output(key,*item)"
   ]
  },
  {
   "cell_type": "markdown",
   "metadata": {},
   "source": [
    "## Observations \n",
    "\n",
    "1. Getting the total (price) correct is going to be difficult as there are many numberic which can be confused for price. \n",
    "   also the format is not consistent as some of the have currencies some dont. \n",
    "2. Getting the date will not be as difficult as the other arrtibutes. \n"
   ]
  }
 ],
 "metadata": {
  "kernelspec": {
   "display_name": "Python 3",
   "language": "python",
   "name": "python3"
  },
  "language_info": {
   "codemirror_mode": {
    "name": "ipython",
    "version": 3
   },
   "file_extension": ".py",
   "mimetype": "text/x-python",
   "name": "python",
   "nbconvert_exporter": "python",
   "pygments_lexer": "ipython3",
   "version": "3.7.3"
  }
 },
 "nbformat": 4,
 "nbformat_minor": 2
}
